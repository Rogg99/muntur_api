{
 "cells": [
  {
   "cell_type": "code",
   "execution_count": 1,
   "metadata": {},
   "outputs": [],
   "source": [
    "import requests,json, os, shutil\n",
    "auth_api=\"https://beneficial-expression-prod2.up.railway.app/m/muntur\"\n",
    "auth_api=\"http://localhost:8080/m/muntur\""
   ]
  },
  {
   "cell_type": "markdown",
   "metadata": {},
   "source": [
    "## Create System user"
   ]
  },
  {
   "cell_type": "code",
   "execution_count": 127,
   "metadata": {},
   "outputs": [
    {
     "name": "stdout",
     "output_type": "stream",
     "text": [
      "{\"error\": true, \"code\": -1, \"description\": \"Database Writing error occured :ERREUR:  la valeur d'une cl\\u00e9 dupliqu\\u00e9e rompt la contrainte unique \\u00ab pcrn_user_email_key \\u00bb\\nDETAIL:  La cl\\u00e9 \\u00ab (email)=(system@pcrn_gouv.com) \\u00bb existe d\\u00e9j\\u00e0.\\n\"}\n"
     ]
    }
   ],
   "source": [
    "systemProfil={\n",
    "    'nom':'system',\n",
    "    'prenom':'bot',\n",
    "    'email':'system@pcrn_gouv.com',\n",
    "    'password':'pcrn@2023',\n",
    "}\n",
    "signup = requests.post(omc_api+'/user/add', json = systemProfil)\n",
    "print(signup.text)\n",
    "#signup=json.loads(login.text)"
   ]
  },
  {
   "cell_type": "markdown",
   "metadata": {},
   "source": [
    "## login"
   ]
  },
  {
   "cell_type": "code",
   "execution_count": 2,
   "metadata": {},
   "outputs": [
    {
     "name": "stdout",
     "output_type": "stream",
     "text": [
      "{\"error\": false, \"code\": 0, \"access\": \"c3691d8482fbc032e4e6f1f0c847470a047a724b85c5cf78c60ef24ee886036600802b85ab15c10a1faee1f685de7fad83bbe26500c8a4c2aa27e2f8e3eef4d64a04f92d656e41c8c8c665a822e485f15c3b2256651dc7da8dfe68fcd40575002f243129\", \"refresh\": \"a1306940a23870db13d957d3a448e3fb7414ed16f5b0e6993625da9f9a17e80e93d425bef916a5f72a91232b27597cfbef7593365a45510c1e83cbb558b570f5871b61376267af358751e034642d3be3fb53a300ca2a88185c16cb63cb438a46dac9f63d\"}\n"
     ]
    }
   ],
   "source": [
    "\n",
    "login_datas = {'email': 'etapejustin@gmail.com','password': 'Sauvage2'}\n",
    "login = requests.post(auth_api+'/token', json = login_datas)\n",
    "print(login.text)\n",
    "_login=json.loads(login.text)\n",
    "headers = {'Authorization': f'Bearer {_login[\"access\"]}'}"
   ]
  },
  {
   "cell_type": "markdown",
   "metadata": {},
   "source": [
    "## Create Admin account"
   ]
  },
  {
   "cell_type": "code",
   "execution_count": 19,
   "metadata": {},
   "outputs": [
    {
     "name": "stdout",
     "output_type": "stream",
     "text": [
      "{\"error\": false, \"code\": 0, \"data\": {\"id\": \"7745205f-5d22-4a4a-b02e-6610bd130c15:0\", \"nom\": \"admin\", \"prenom\": \"admin\", \"email\": \"admin@pcrn_gouv.com\", \"photo\": \"none\", \"type\": \"admin\"}}\n"
     ]
    }
   ],
   "source": [
    "admin={\n",
    "    'nom':'admin',\n",
    "    'prenom':'admin',\n",
    "    'email':'admin@pcrn_gouv.com',\n",
    "    'password':'pcrnadmin@2023',\n",
    "    'type':'admin',\n",
    "}\n",
    "signup = requests.post(omc_api+'/user/add-admin', json = admin,headers=headers)\n",
    "print(signup.text)\n",
    "#signup=json.loads(login.text)"
   ]
  },
  {
   "cell_type": "markdown",
   "metadata": {},
   "source": [
    "# Gallery"
   ]
  },
  {
   "cell_type": "markdown",
   "metadata": {},
   "source": [
    "## Deleting all photos"
   ]
  },
  {
   "cell_type": "code",
   "execution_count": 9,
   "metadata": {},
   "outputs": [
    {
     "name": "stdout",
     "output_type": "stream",
     "text": [
      "<!DOCTYPE html>\n",
      "<html lang=\"en\">\n",
      "<head>\n",
      "  <meta http-equiv=\"content-type\" content=\"text/html; charset=utf-8\">\n",
      "  <title>Page not found at /m/pcrn/photos/delete</title>\n",
      "  <meta name=\"robots\" content=\"NONE,NOARCHIVE\">\n",
      "  <style type=\"text/css\">\n",
      "    html * { padding:0; margin:0; }\n",
      "    body * { padding:10px 20px; }\n",
      "    body * * { padding:0; }\n",
      "    body { font:small sans-serif; background:#eee; color:#000; }\n",
      "    body>div { border-bottom:1px solid #ddd; }\n",
      "    h1 { font-weight:normal; margin-bottom:.4em; }\n",
      "    h1 span { font-size:60%; color:#666; font-weight:normal; }\n",
      "    table { border:none; border-collapse: collapse; width:100%; }\n",
      "    td, th { vertical-align:top; padding:2px 3px; }\n",
      "    th { width:12em; text-align:right; color:#666; padding-right:.5em; }\n",
      "    #info { background:#f6f6f6; }\n",
      "    #info ol { margin: 0.5em 4em; }\n",
      "    #info ol li { font-family: monospace; }\n",
      "    #summary { background: #ffc; }\n",
      "    #explanation { background:#eee; border-bottom: 0px none; }\n",
      "    pre.exception_value { font-family: sans-serif; color: #575757; font-size: 1.5em; margin: 10px 0 10px 0; }\n",
      "  </style>\n",
      "</head>\n",
      "<body>\n",
      "  <div id=\"summary\">\n",
      "    <h1>Page not found <span>(404)</span></h1>\n",
      "    \n",
      "    <table class=\"meta\">\n",
      "      <tr>\n",
      "        <th>Request Method:</th>\n",
      "        <td>GET</td>\n",
      "      </tr>\n",
      "      <tr>\n",
      "        <th>Request URL:</th>\n",
      "        <td>http://munturai-final-production.up.railway.app/m/pcrn/photos/delete</td>\n",
      "      </tr>\n",
      "      \n",
      "    </table>\n",
      "  </div>\n",
      "  <div id=\"info\">\n",
      "    \n",
      "      <p>\n",
      "      Using the URLconf defined in <code>conf.urls</code>,\n",
      "      Django tried these URL patterns, in this order:\n",
      "      </p>\n",
      "      <ol>\n",
      "        \n",
      "          <li>\n",
      "            \n",
      "                m/muntur/\n",
      "                \n",
      "            \n",
      "          </li>\n",
      "        \n",
      "          <li>\n",
      "            \n",
      "                m/admin/\n",
      "                \n",
      "            \n",
      "          </li>\n",
      "        \n",
      "      </ol>\n",
      "      <p>\n",
      "        \n",
      "          The current path, <code>m/pcrn/photos/delete</code>,\n",
      "        \n",
      "        didnât match any of these.\n",
      "      </p>\n",
      "    \n",
      "  </div>\n",
      "\n",
      "  <div id=\"explanation\">\n",
      "    <p>\n",
      "      Youâre seeing this error because you have <code>DEBUG = True</code> in\n",
      "      your Django settings file. Change that to <code>False</code>, and Django\n",
      "      will display a standard 404 page.\n",
      "    </p>\n",
      "  </div>\n",
      "</body>\n",
      "</html>\n",
      "\n"
     ]
    }
   ],
   "source": [
    "\n",
    "reqdel = requests.get(omc_api+'/photos/delete',headers=headers)\n",
    "print(reqdel.text)"
   ]
  },
  {
   "cell_type": "markdown",
   "metadata": {},
   "source": [
    "## Gallery Image"
   ]
  },
  {
   "cell_type": "code",
   "execution_count": 10,
   "metadata": {},
   "outputs": [],
   "source": [
    "def uploadGalleryImage(filepath,desc='',article_id='',event_id=''):\n",
    "    with open(filepath,'rb') as f:\n",
    "        files = {'image': f.read()}\n",
    "        #'id', 'image', 'path', 'time', 'title'\n",
    "        values = {'ext': filepath.split('.')[-1] }\n",
    "        r = requests.post(omc_api+'/uploadimage', data=values, files=files,headers=headers)\n",
    "        print(r.text)\n",
    "        try:\n",
    "            rJson=json.loads(r.text)\n",
    "            if rJson[\"error\"]==False:\n",
    "                print(filepath.split('.')[0])\n",
    "                image={\n",
    "                    'creator_id':'7deb8244-7aae-480b-b75f-9eb026c6f7c4:0',\n",
    "                    'image':rJson[\"data\"][\"fileurl\"],\n",
    "                    'description': desc,\n",
    "                    'article_id': article_id,\n",
    "                    'event_id': event_id\n",
    "                }\n",
    "                req = requests.post(omc_api+'/photo/add', json = image,headers=headers)\n",
    "                print(req.text)\n",
    "                reqJson=json.loads(req.text)\n",
    "                if reqJson[\"error\"]==False:\n",
    "                    return True\n",
    "                else: return False\n",
    "            else: return False\n",
    "        except Exception as e:\n",
    "            print(str(e))\n",
    "            return False"
   ]
  },
  {
   "cell_type": "code",
   "execution_count": 11,
   "metadata": {},
   "outputs": [],
   "source": [
    "def uploadGalleryDocs(filepath,desc=''):\n",
    "    with open(filepath,'rb') as f:\n",
    "        files = {'document': f.read()}\n",
    "        #'id', 'image', 'path', 'time', 'title'\n",
    "        values = {'ext': filepath.split('.')[-1] }\n",
    "        r = requests.post(omc_api+'/uploadfile', data=values, files=files,headers=headers)\n",
    "        print(r.text)\n",
    "        try:\n",
    "            rJson=json.loads(r.text)\n",
    "            if rJson[\"error\"]==False:\n",
    "                print(filepath.split('.')[0])\n",
    "                image={\n",
    "                    'creator_id':'7deb8244-7aae-480b-b75f-9eb026c6f7c4:0',\n",
    "                    'image':rJson[\"data\"][\"fileurl\"],\n",
    "                    'description': desc,\n",
    "                    'type':'document'\n",
    "                }\n",
    "                req = requests.post(omc_api+'/photo/add', json = image,headers=headers)\n",
    "                print(req.text)\n",
    "                reqJson=json.loads(req.text)\n",
    "                if reqJson[\"error\"]==False:\n",
    "                    return True\n",
    "                else: return False\n",
    "            else: return False\n",
    "        except Exception as e:\n",
    "            print(str(e))\n",
    "            return False"
   ]
  },
  {
   "cell_type": "code",
   "execution_count": 12,
   "metadata": {},
   "outputs": [],
   "source": [
    "def uploadSmallImage(filepath,position=-1):\n",
    "    with open(filepath,'rb') as f:\n",
    "        files = {'image': f.read()}\n",
    "        #'id', 'image', 'path', 'time', 'title'\n",
    "        values = {'ext': filepath.split('.')[-1] }\n",
    "        r = requests.post(omc_api+'/uploadimage', data=values, files=files,headers=headers)\n",
    "        print(r.text)\n",
    "        try:\n",
    "            rJson=json.loads(r.text)\n",
    "            if rJson[\"error\"]==False:\n",
    "                print(filepath.split('.')[0])\n",
    "                image={\n",
    "                    'image':rJson[\"data\"][\"fileurl\"],\n",
    "                    'position': position\n",
    "                }\n",
    "                req = requests.post(omc_api+'/setSmallGallery', json = image,headers=headers)\n",
    "                print(req.text)\n",
    "                reqJson=json.loads(req.text)\n",
    "                if reqJson[\"error\"]==False:\n",
    "                    return True\n",
    "                else: return False\n",
    "            else: return False\n",
    "        except Exception as e:\n",
    "            print(str(e))\n",
    "            return False"
   ]
  },
  {
   "cell_type": "code",
   "execution_count": 13,
   "metadata": {},
   "outputs": [],
   "source": [
    "def uploadBigImage(filepath,desc=''):\n",
    "    with open(filepath,'rb') as f:\n",
    "        files = {'image': f.read()}\n",
    "        #'id', 'image', 'path', 'time', 'title'\n",
    "        values = {'ext': filepath.split('.')[-1] }\n",
    "        r = requests.post(omc_api+'/uploadimage', data=values, files=files,headers=headers)\n",
    "        print(r.text)\n",
    "        try:\n",
    "            rJson=json.loads(r.text)\n",
    "            if rJson[\"error\"]==False:\n",
    "                print(filepath.split('.')[0])\n",
    "                image={\n",
    "                    'creator_id':'7deb8244-7aae-480b-b75f-9eb026c6f7c4:0',\n",
    "                    'image':rJson[\"data\"][\"fileurl\"],\n",
    "                    'description': desc,\n",
    "                    'type':'big'\n",
    "                }\n",
    "                req = requests.post(omc_api+'/photo/add', json = image,headers=headers)\n",
    "                print(req.text)\n",
    "                reqJson=json.loads(req.text)\n",
    "                if reqJson[\"error\"]==False:\n",
    "                    return True\n",
    "                else: return False\n",
    "            else: return False\n",
    "        except Exception as e:\n",
    "            print(str(e))\n",
    "            return False"
   ]
  },
  {
   "cell_type": "code",
   "execution_count": 14,
   "metadata": {},
   "outputs": [],
   "source": [
    "def uploadBanner(filepath,position=-1,smallTitle='',bigTitle='',text=''):\n",
    "    with open(filepath,'rb') as f:\n",
    "        files = {'image': f.read()}\n",
    "        values = {'ext': filepath.split('.')[-1] }\n",
    "        r = requests.post(omc_api+'/uploadimage', data=values, files=files,headers=headers)\n",
    "        print(r.text)\n",
    "        try:\n",
    "            rJson=json.loads(r.text)\n",
    "            if rJson[\"error\"]==False:\n",
    "                #print(filepath.split('.')[0])\n",
    "                image={\n",
    "                    'image':rJson[\"data\"][\"fileurl\"],\n",
    "                    'position': position,\n",
    "                    'smallTitle': smallTitle,\n",
    "                    'bigTitle': bigTitle,\n",
    "                    'text': text,\n",
    "                }\n",
    "                req = requests.post(omc_api+'/setBanner', json = image,headers=headers)\n",
    "                print(req.text)\n",
    "                reqJson=json.loads(req.text)\n",
    "                if reqJson[\"error\"]==False:\n",
    "                    return True\n",
    "                else: return False\n",
    "            else: return False\n",
    "        except Exception as e:\n",
    "            print(str(e))\n",
    "            return False"
   ]
  },
  {
   "cell_type": "code",
   "execution_count": 15,
   "metadata": {},
   "outputs": [],
   "source": [
    "def uploadBigVideo(filepath):\n",
    "    with open(filepath,'rb') as f:\n",
    "        files = {'image': f.read()}\n",
    "        values = {'ext': filepath.split('.')[-1] }\n",
    "        r = requests.post(omc_api+'/uploadimage', data=values, files=files,headers=headers)\n",
    "        print(r.text)\n",
    "        try:\n",
    "            rJson=json.loads(r.text)\n",
    "            if rJson[\"error\"]==False:\n",
    "                #print(filepath.split('.')[0])\n",
    "                image={\n",
    "                    'image':rJson[\"data\"][\"fileurl\"],\n",
    "                }\n",
    "                req = requests.post(omc_api+'/setBigVideo', json = image,headers=headers)\n",
    "                print(req.text)\n",
    "                reqJson=json.loads(req.text)\n",
    "                if reqJson[\"error\"]==False:\n",
    "                    return True\n",
    "                else: return False\n",
    "            else: return False\n",
    "        except Exception as e:\n",
    "            print(str(e))\n",
    "            return False"
   ]
  },
  {
   "cell_type": "code",
   "execution_count": null,
   "metadata": {},
   "outputs": [],
   "source": []
  },
  {
   "cell_type": "code",
   "execution_count": 16,
   "metadata": {},
   "outputs": [],
   "source": [
    "# path = \"D:\\\\Projects\\\\OMC\\\\PCRN\\\\Web\\\\images\"\n",
    "path = \"D:\\\\Telegram\\\\videos cabral\"\n",
    "os.chdir(path)"
   ]
  },
  {
   "cell_type": "code",
   "execution_count": 17,
   "metadata": {},
   "outputs": [],
   "source": [
    "\n",
    "done = []"
   ]
  },
  {
   "cell_type": "code",
   "execution_count": 18,
   "metadata": {},
   "outputs": [
    {
     "name": "stdout",
     "output_type": "stream",
     "text": [
      "uploading file >>>> (3) Cabral Libii Officiel _ Facebook\n"
     ]
    },
    {
     "ename": "SSLError",
     "evalue": "HTTPSConnectionPool(host='munturai-final-production.up.railway.app', port=443): Max retries exceeded with url: /m/pcrn/uploadimage (Caused by SSLError(SSLEOFError(8, 'EOF occurred in violation of protocol (_ssl.c:2406)')))",
     "output_type": "error",
     "traceback": [
      "\u001b[1;31m---------------------------------------------------------------------------\u001b[0m",
      "\u001b[1;31mSSLEOFError\u001b[0m                               Traceback (most recent call last)",
      "File \u001b[1;32md:\\MUNTUR AI\\API\\muntur-env\\Lib\\site-packages\\urllib3\\connectionpool.py:714\u001b[0m, in \u001b[0;36mHTTPConnectionPool.urlopen\u001b[1;34m(self, method, url, body, headers, retries, redirect, assert_same_host, timeout, pool_timeout, release_conn, chunked, body_pos, **response_kw)\u001b[0m\n\u001b[0;32m    713\u001b[0m \u001b[38;5;66;03m# Make the request on the httplib connection object.\u001b[39;00m\n\u001b[1;32m--> 714\u001b[0m httplib_response \u001b[38;5;241m=\u001b[39m \u001b[38;5;28;43mself\u001b[39;49m\u001b[38;5;241;43m.\u001b[39;49m\u001b[43m_make_request\u001b[49m\u001b[43m(\u001b[49m\n\u001b[0;32m    715\u001b[0m \u001b[43m    \u001b[49m\u001b[43mconn\u001b[49m\u001b[43m,\u001b[49m\n\u001b[0;32m    716\u001b[0m \u001b[43m    \u001b[49m\u001b[43mmethod\u001b[49m\u001b[43m,\u001b[49m\n\u001b[0;32m    717\u001b[0m \u001b[43m    \u001b[49m\u001b[43murl\u001b[49m\u001b[43m,\u001b[49m\n\u001b[0;32m    718\u001b[0m \u001b[43m    \u001b[49m\u001b[43mtimeout\u001b[49m\u001b[38;5;241;43m=\u001b[39;49m\u001b[43mtimeout_obj\u001b[49m\u001b[43m,\u001b[49m\n\u001b[0;32m    719\u001b[0m \u001b[43m    \u001b[49m\u001b[43mbody\u001b[49m\u001b[38;5;241;43m=\u001b[39;49m\u001b[43mbody\u001b[49m\u001b[43m,\u001b[49m\n\u001b[0;32m    720\u001b[0m \u001b[43m    \u001b[49m\u001b[43mheaders\u001b[49m\u001b[38;5;241;43m=\u001b[39;49m\u001b[43mheaders\u001b[49m\u001b[43m,\u001b[49m\n\u001b[0;32m    721\u001b[0m \u001b[43m    \u001b[49m\u001b[43mchunked\u001b[49m\u001b[38;5;241;43m=\u001b[39;49m\u001b[43mchunked\u001b[49m\u001b[43m,\u001b[49m\n\u001b[0;32m    722\u001b[0m \u001b[43m\u001b[49m\u001b[43m)\u001b[49m\n\u001b[0;32m    724\u001b[0m \u001b[38;5;66;03m# If we're going to release the connection in ``finally:``, then\u001b[39;00m\n\u001b[0;32m    725\u001b[0m \u001b[38;5;66;03m# the response doesn't need to know about the connection. Otherwise\u001b[39;00m\n\u001b[0;32m    726\u001b[0m \u001b[38;5;66;03m# it will also try to release it and we'll have a double-release\u001b[39;00m\n\u001b[0;32m    727\u001b[0m \u001b[38;5;66;03m# mess.\u001b[39;00m\n",
      "File \u001b[1;32md:\\MUNTUR AI\\API\\muntur-env\\Lib\\site-packages\\urllib3\\connectionpool.py:415\u001b[0m, in \u001b[0;36mHTTPConnectionPool._make_request\u001b[1;34m(self, conn, method, url, timeout, chunked, **httplib_request_kw)\u001b[0m\n\u001b[0;32m    414\u001b[0m     \u001b[38;5;28;01melse\u001b[39;00m:\n\u001b[1;32m--> 415\u001b[0m         \u001b[43mconn\u001b[49m\u001b[38;5;241;43m.\u001b[39;49m\u001b[43mrequest\u001b[49m\u001b[43m(\u001b[49m\u001b[43mmethod\u001b[49m\u001b[43m,\u001b[49m\u001b[43m \u001b[49m\u001b[43murl\u001b[49m\u001b[43m,\u001b[49m\u001b[43m \u001b[49m\u001b[38;5;241;43m*\u001b[39;49m\u001b[38;5;241;43m*\u001b[39;49m\u001b[43mhttplib_request_kw\u001b[49m\u001b[43m)\u001b[49m\n\u001b[0;32m    417\u001b[0m \u001b[38;5;66;03m# We are swallowing BrokenPipeError (errno.EPIPE) since the server is\u001b[39;00m\n\u001b[0;32m    418\u001b[0m \u001b[38;5;66;03m# legitimately able to close the connection after sending a valid response.\u001b[39;00m\n\u001b[0;32m    419\u001b[0m \u001b[38;5;66;03m# With this behaviour, the received response is still readable.\u001b[39;00m\n",
      "File \u001b[1;32md:\\MUNTUR AI\\API\\muntur-env\\Lib\\site-packages\\urllib3\\connection.py:244\u001b[0m, in \u001b[0;36mHTTPConnection.request\u001b[1;34m(self, method, url, body, headers)\u001b[0m\n\u001b[0;32m    243\u001b[0m     headers[\u001b[38;5;124m\"\u001b[39m\u001b[38;5;124mUser-Agent\u001b[39m\u001b[38;5;124m\"\u001b[39m] \u001b[38;5;241m=\u001b[39m _get_default_user_agent()\n\u001b[1;32m--> 244\u001b[0m \u001b[38;5;28;43msuper\u001b[39;49m\u001b[43m(\u001b[49m\u001b[43mHTTPConnection\u001b[49m\u001b[43m,\u001b[49m\u001b[43m \u001b[49m\u001b[38;5;28;43mself\u001b[39;49m\u001b[43m)\u001b[49m\u001b[38;5;241;43m.\u001b[39;49m\u001b[43mrequest\u001b[49m\u001b[43m(\u001b[49m\u001b[43mmethod\u001b[49m\u001b[43m,\u001b[49m\u001b[43m \u001b[49m\u001b[43murl\u001b[49m\u001b[43m,\u001b[49m\u001b[43m \u001b[49m\u001b[43mbody\u001b[49m\u001b[38;5;241;43m=\u001b[39;49m\u001b[43mbody\u001b[49m\u001b[43m,\u001b[49m\u001b[43m \u001b[49m\u001b[43mheaders\u001b[49m\u001b[38;5;241;43m=\u001b[39;49m\u001b[43mheaders\u001b[49m\u001b[43m)\u001b[49m\n",
      "File \u001b[1;32mC:\\Python312\\Lib\\http\\client.py:1336\u001b[0m, in \u001b[0;36mHTTPConnection.request\u001b[1;34m(self, method, url, body, headers, encode_chunked)\u001b[0m\n\u001b[0;32m   1335\u001b[0m \u001b[38;5;250m\u001b[39m\u001b[38;5;124;03m\"\"\"Send a complete request to the server.\"\"\"\u001b[39;00m\n\u001b[1;32m-> 1336\u001b[0m \u001b[38;5;28;43mself\u001b[39;49m\u001b[38;5;241;43m.\u001b[39;49m\u001b[43m_send_request\u001b[49m\u001b[43m(\u001b[49m\u001b[43mmethod\u001b[49m\u001b[43m,\u001b[49m\u001b[43m \u001b[49m\u001b[43murl\u001b[49m\u001b[43m,\u001b[49m\u001b[43m \u001b[49m\u001b[43mbody\u001b[49m\u001b[43m,\u001b[49m\u001b[43m \u001b[49m\u001b[43mheaders\u001b[49m\u001b[43m,\u001b[49m\u001b[43m \u001b[49m\u001b[43mencode_chunked\u001b[49m\u001b[43m)\u001b[49m\n",
      "File \u001b[1;32mC:\\Python312\\Lib\\http\\client.py:1382\u001b[0m, in \u001b[0;36mHTTPConnection._send_request\u001b[1;34m(self, method, url, body, headers, encode_chunked)\u001b[0m\n\u001b[0;32m   1381\u001b[0m     body \u001b[38;5;241m=\u001b[39m _encode(body, \u001b[38;5;124m'\u001b[39m\u001b[38;5;124mbody\u001b[39m\u001b[38;5;124m'\u001b[39m)\n\u001b[1;32m-> 1382\u001b[0m \u001b[38;5;28;43mself\u001b[39;49m\u001b[38;5;241;43m.\u001b[39;49m\u001b[43mendheaders\u001b[49m\u001b[43m(\u001b[49m\u001b[43mbody\u001b[49m\u001b[43m,\u001b[49m\u001b[43m \u001b[49m\u001b[43mencode_chunked\u001b[49m\u001b[38;5;241;43m=\u001b[39;49m\u001b[43mencode_chunked\u001b[49m\u001b[43m)\u001b[49m\n",
      "File \u001b[1;32mC:\\Python312\\Lib\\http\\client.py:1331\u001b[0m, in \u001b[0;36mHTTPConnection.endheaders\u001b[1;34m(self, message_body, encode_chunked)\u001b[0m\n\u001b[0;32m   1330\u001b[0m     \u001b[38;5;28;01mraise\u001b[39;00m CannotSendHeader()\n\u001b[1;32m-> 1331\u001b[0m \u001b[38;5;28;43mself\u001b[39;49m\u001b[38;5;241;43m.\u001b[39;49m\u001b[43m_send_output\u001b[49m\u001b[43m(\u001b[49m\u001b[43mmessage_body\u001b[49m\u001b[43m,\u001b[49m\u001b[43m \u001b[49m\u001b[43mencode_chunked\u001b[49m\u001b[38;5;241;43m=\u001b[39;49m\u001b[43mencode_chunked\u001b[49m\u001b[43m)\u001b[49m\n",
      "File \u001b[1;32mC:\\Python312\\Lib\\http\\client.py:1130\u001b[0m, in \u001b[0;36mHTTPConnection._send_output\u001b[1;34m(self, message_body, encode_chunked)\u001b[0m\n\u001b[0;32m   1128\u001b[0m         chunk \u001b[38;5;241m=\u001b[39m \u001b[38;5;124mf\u001b[39m\u001b[38;5;124m'\u001b[39m\u001b[38;5;132;01m{\u001b[39;00m\u001b[38;5;28mlen\u001b[39m(chunk)\u001b[38;5;132;01m:\u001b[39;00m\u001b[38;5;124mX\u001b[39m\u001b[38;5;132;01m}\u001b[39;00m\u001b[38;5;130;01m\\r\u001b[39;00m\u001b[38;5;130;01m\\n\u001b[39;00m\u001b[38;5;124m'\u001b[39m\u001b[38;5;241m.\u001b[39mencode(\u001b[38;5;124m'\u001b[39m\u001b[38;5;124mascii\u001b[39m\u001b[38;5;124m'\u001b[39m) \u001b[38;5;241m+\u001b[39m chunk \\\n\u001b[0;32m   1129\u001b[0m             \u001b[38;5;241m+\u001b[39m \u001b[38;5;124mb\u001b[39m\u001b[38;5;124m'\u001b[39m\u001b[38;5;130;01m\\r\u001b[39;00m\u001b[38;5;130;01m\\n\u001b[39;00m\u001b[38;5;124m'\u001b[39m\n\u001b[1;32m-> 1130\u001b[0m     \u001b[38;5;28;43mself\u001b[39;49m\u001b[38;5;241;43m.\u001b[39;49m\u001b[43msend\u001b[49m\u001b[43m(\u001b[49m\u001b[43mchunk\u001b[49m\u001b[43m)\u001b[49m\n\u001b[0;32m   1132\u001b[0m \u001b[38;5;28;01mif\u001b[39;00m encode_chunked \u001b[38;5;129;01mand\u001b[39;00m \u001b[38;5;28mself\u001b[39m\u001b[38;5;241m.\u001b[39m_http_vsn \u001b[38;5;241m==\u001b[39m \u001b[38;5;241m11\u001b[39m:\n\u001b[0;32m   1133\u001b[0m     \u001b[38;5;66;03m# end chunked transfer\u001b[39;00m\n",
      "File \u001b[1;32mC:\\Python312\\Lib\\http\\client.py:1055\u001b[0m, in \u001b[0;36mHTTPConnection.send\u001b[1;34m(self, data)\u001b[0m\n\u001b[0;32m   1054\u001b[0m \u001b[38;5;28;01mtry\u001b[39;00m:\n\u001b[1;32m-> 1055\u001b[0m     \u001b[38;5;28;43mself\u001b[39;49m\u001b[38;5;241;43m.\u001b[39;49m\u001b[43msock\u001b[49m\u001b[38;5;241;43m.\u001b[39;49m\u001b[43msendall\u001b[49m\u001b[43m(\u001b[49m\u001b[43mdata\u001b[49m\u001b[43m)\u001b[49m\n\u001b[0;32m   1056\u001b[0m \u001b[38;5;28;01mexcept\u001b[39;00m \u001b[38;5;167;01mTypeError\u001b[39;00m:\n",
      "File \u001b[1;32mC:\\Python312\\Lib\\ssl.py:1211\u001b[0m, in \u001b[0;36mSSLSocket.sendall\u001b[1;34m(self, data, flags)\u001b[0m\n\u001b[0;32m   1210\u001b[0m \u001b[38;5;28;01mwhile\u001b[39;00m count \u001b[38;5;241m<\u001b[39m amount:\n\u001b[1;32m-> 1211\u001b[0m     v \u001b[38;5;241m=\u001b[39m \u001b[38;5;28;43mself\u001b[39;49m\u001b[38;5;241;43m.\u001b[39;49m\u001b[43msend\u001b[49m\u001b[43m(\u001b[49m\u001b[43mbyte_view\u001b[49m\u001b[43m[\u001b[49m\u001b[43mcount\u001b[49m\u001b[43m:\u001b[49m\u001b[43m]\u001b[49m\u001b[43m)\u001b[49m\n\u001b[0;32m   1212\u001b[0m     count \u001b[38;5;241m+\u001b[39m\u001b[38;5;241m=\u001b[39m v\n",
      "File \u001b[1;32mC:\\Python312\\Lib\\ssl.py:1180\u001b[0m, in \u001b[0;36mSSLSocket.send\u001b[1;34m(self, data, flags)\u001b[0m\n\u001b[0;32m   1177\u001b[0m         \u001b[38;5;28;01mraise\u001b[39;00m \u001b[38;5;167;01mValueError\u001b[39;00m(\n\u001b[0;32m   1178\u001b[0m             \u001b[38;5;124m\"\u001b[39m\u001b[38;5;124mnon-zero flags not allowed in calls to send() on \u001b[39m\u001b[38;5;132;01m%s\u001b[39;00m\u001b[38;5;124m\"\u001b[39m \u001b[38;5;241m%\u001b[39m\n\u001b[0;32m   1179\u001b[0m             \u001b[38;5;28mself\u001b[39m\u001b[38;5;241m.\u001b[39m\u001b[38;5;18m__class__\u001b[39m)\n\u001b[1;32m-> 1180\u001b[0m     \u001b[38;5;28;01mreturn\u001b[39;00m \u001b[38;5;28;43mself\u001b[39;49m\u001b[38;5;241;43m.\u001b[39;49m\u001b[43m_sslobj\u001b[49m\u001b[38;5;241;43m.\u001b[39;49m\u001b[43mwrite\u001b[49m\u001b[43m(\u001b[49m\u001b[43mdata\u001b[49m\u001b[43m)\u001b[49m\n\u001b[0;32m   1181\u001b[0m \u001b[38;5;28;01melse\u001b[39;00m:\n",
      "\u001b[1;31mSSLEOFError\u001b[0m: EOF occurred in violation of protocol (_ssl.c:2406)",
      "\nDuring handling of the above exception, another exception occurred:\n",
      "\u001b[1;31mMaxRetryError\u001b[0m                             Traceback (most recent call last)",
      "File \u001b[1;32md:\\MUNTUR AI\\API\\muntur-env\\Lib\\site-packages\\requests\\adapters.py:486\u001b[0m, in \u001b[0;36mHTTPAdapter.send\u001b[1;34m(self, request, stream, timeout, verify, cert, proxies)\u001b[0m\n\u001b[0;32m    485\u001b[0m \u001b[38;5;28;01mtry\u001b[39;00m:\n\u001b[1;32m--> 486\u001b[0m     resp \u001b[38;5;241m=\u001b[39m \u001b[43mconn\u001b[49m\u001b[38;5;241;43m.\u001b[39;49m\u001b[43murlopen\u001b[49m\u001b[43m(\u001b[49m\n\u001b[0;32m    487\u001b[0m \u001b[43m        \u001b[49m\u001b[43mmethod\u001b[49m\u001b[38;5;241;43m=\u001b[39;49m\u001b[43mrequest\u001b[49m\u001b[38;5;241;43m.\u001b[39;49m\u001b[43mmethod\u001b[49m\u001b[43m,\u001b[49m\n\u001b[0;32m    488\u001b[0m \u001b[43m        \u001b[49m\u001b[43murl\u001b[49m\u001b[38;5;241;43m=\u001b[39;49m\u001b[43murl\u001b[49m\u001b[43m,\u001b[49m\n\u001b[0;32m    489\u001b[0m \u001b[43m        \u001b[49m\u001b[43mbody\u001b[49m\u001b[38;5;241;43m=\u001b[39;49m\u001b[43mrequest\u001b[49m\u001b[38;5;241;43m.\u001b[39;49m\u001b[43mbody\u001b[49m\u001b[43m,\u001b[49m\n\u001b[0;32m    490\u001b[0m \u001b[43m        \u001b[49m\u001b[43mheaders\u001b[49m\u001b[38;5;241;43m=\u001b[39;49m\u001b[43mrequest\u001b[49m\u001b[38;5;241;43m.\u001b[39;49m\u001b[43mheaders\u001b[49m\u001b[43m,\u001b[49m\n\u001b[0;32m    491\u001b[0m \u001b[43m        \u001b[49m\u001b[43mredirect\u001b[49m\u001b[38;5;241;43m=\u001b[39;49m\u001b[38;5;28;43;01mFalse\u001b[39;49;00m\u001b[43m,\u001b[49m\n\u001b[0;32m    492\u001b[0m \u001b[43m        \u001b[49m\u001b[43massert_same_host\u001b[49m\u001b[38;5;241;43m=\u001b[39;49m\u001b[38;5;28;43;01mFalse\u001b[39;49;00m\u001b[43m,\u001b[49m\n\u001b[0;32m    493\u001b[0m \u001b[43m        \u001b[49m\u001b[43mpreload_content\u001b[49m\u001b[38;5;241;43m=\u001b[39;49m\u001b[38;5;28;43;01mFalse\u001b[39;49;00m\u001b[43m,\u001b[49m\n\u001b[0;32m    494\u001b[0m \u001b[43m        \u001b[49m\u001b[43mdecode_content\u001b[49m\u001b[38;5;241;43m=\u001b[39;49m\u001b[38;5;28;43;01mFalse\u001b[39;49;00m\u001b[43m,\u001b[49m\n\u001b[0;32m    495\u001b[0m \u001b[43m        \u001b[49m\u001b[43mretries\u001b[49m\u001b[38;5;241;43m=\u001b[39;49m\u001b[38;5;28;43mself\u001b[39;49m\u001b[38;5;241;43m.\u001b[39;49m\u001b[43mmax_retries\u001b[49m\u001b[43m,\u001b[49m\n\u001b[0;32m    496\u001b[0m \u001b[43m        \u001b[49m\u001b[43mtimeout\u001b[49m\u001b[38;5;241;43m=\u001b[39;49m\u001b[43mtimeout\u001b[49m\u001b[43m,\u001b[49m\n\u001b[0;32m    497\u001b[0m \u001b[43m        \u001b[49m\u001b[43mchunked\u001b[49m\u001b[38;5;241;43m=\u001b[39;49m\u001b[43mchunked\u001b[49m\u001b[43m,\u001b[49m\n\u001b[0;32m    498\u001b[0m \u001b[43m    \u001b[49m\u001b[43m)\u001b[49m\n\u001b[0;32m    500\u001b[0m \u001b[38;5;28;01mexcept\u001b[39;00m (ProtocolError, \u001b[38;5;167;01mOSError\u001b[39;00m) \u001b[38;5;28;01mas\u001b[39;00m err:\n",
      "File \u001b[1;32md:\\MUNTUR AI\\API\\muntur-env\\Lib\\site-packages\\urllib3\\connectionpool.py:798\u001b[0m, in \u001b[0;36mHTTPConnectionPool.urlopen\u001b[1;34m(self, method, url, body, headers, retries, redirect, assert_same_host, timeout, pool_timeout, release_conn, chunked, body_pos, **response_kw)\u001b[0m\n\u001b[0;32m    796\u001b[0m     e \u001b[38;5;241m=\u001b[39m ProtocolError(\u001b[38;5;124m\"\u001b[39m\u001b[38;5;124mConnection aborted.\u001b[39m\u001b[38;5;124m\"\u001b[39m, e)\n\u001b[1;32m--> 798\u001b[0m retries \u001b[38;5;241m=\u001b[39m \u001b[43mretries\u001b[49m\u001b[38;5;241;43m.\u001b[39;49m\u001b[43mincrement\u001b[49m\u001b[43m(\u001b[49m\n\u001b[0;32m    799\u001b[0m \u001b[43m    \u001b[49m\u001b[43mmethod\u001b[49m\u001b[43m,\u001b[49m\u001b[43m \u001b[49m\u001b[43murl\u001b[49m\u001b[43m,\u001b[49m\u001b[43m \u001b[49m\u001b[43merror\u001b[49m\u001b[38;5;241;43m=\u001b[39;49m\u001b[43me\u001b[49m\u001b[43m,\u001b[49m\u001b[43m \u001b[49m\u001b[43m_pool\u001b[49m\u001b[38;5;241;43m=\u001b[39;49m\u001b[38;5;28;43mself\u001b[39;49m\u001b[43m,\u001b[49m\u001b[43m \u001b[49m\u001b[43m_stacktrace\u001b[49m\u001b[38;5;241;43m=\u001b[39;49m\u001b[43msys\u001b[49m\u001b[38;5;241;43m.\u001b[39;49m\u001b[43mexc_info\u001b[49m\u001b[43m(\u001b[49m\u001b[43m)\u001b[49m\u001b[43m[\u001b[49m\u001b[38;5;241;43m2\u001b[39;49m\u001b[43m]\u001b[49m\n\u001b[0;32m    800\u001b[0m \u001b[43m\u001b[49m\u001b[43m)\u001b[49m\n\u001b[0;32m    801\u001b[0m retries\u001b[38;5;241m.\u001b[39msleep()\n",
      "File \u001b[1;32md:\\MUNTUR AI\\API\\muntur-env\\Lib\\site-packages\\urllib3\\util\\retry.py:592\u001b[0m, in \u001b[0;36mRetry.increment\u001b[1;34m(self, method, url, response, error, _pool, _stacktrace)\u001b[0m\n\u001b[0;32m    591\u001b[0m \u001b[38;5;28;01mif\u001b[39;00m new_retry\u001b[38;5;241m.\u001b[39mis_exhausted():\n\u001b[1;32m--> 592\u001b[0m     \u001b[38;5;28;01mraise\u001b[39;00m MaxRetryError(_pool, url, error \u001b[38;5;129;01mor\u001b[39;00m ResponseError(cause))\n\u001b[0;32m    594\u001b[0m log\u001b[38;5;241m.\u001b[39mdebug(\u001b[38;5;124m\"\u001b[39m\u001b[38;5;124mIncremented Retry for (url=\u001b[39m\u001b[38;5;124m'\u001b[39m\u001b[38;5;132;01m%s\u001b[39;00m\u001b[38;5;124m'\u001b[39m\u001b[38;5;124m): \u001b[39m\u001b[38;5;132;01m%r\u001b[39;00m\u001b[38;5;124m\"\u001b[39m, url, new_retry)\n",
      "\u001b[1;31mMaxRetryError\u001b[0m: HTTPSConnectionPool(host='munturai-final-production.up.railway.app', port=443): Max retries exceeded with url: /m/pcrn/uploadimage (Caused by SSLError(SSLEOFError(8, 'EOF occurred in violation of protocol (_ssl.c:2406)')))",
      "\nDuring handling of the above exception, another exception occurred:\n",
      "\u001b[1;31mSSLError\u001b[0m                                  Traceback (most recent call last)",
      "Cell \u001b[1;32mIn[18], line 16\u001b[0m\n\u001b[0;32m     14\u001b[0m \u001b[38;5;28;01melif\u001b[39;00m file\u001b[38;5;241m.\u001b[39mendswith(\u001b[38;5;124m'\u001b[39m\u001b[38;5;124m.mp4\u001b[39m\u001b[38;5;124m'\u001b[39m):\n\u001b[0;32m     15\u001b[0m     \u001b[38;5;28mprint\u001b[39m(\u001b[38;5;124m'\u001b[39m\u001b[38;5;124muploading file >>>> \u001b[39m\u001b[38;5;124m'\u001b[39m\u001b[38;5;241m+\u001b[39mfile\u001b[38;5;241m.\u001b[39msplit(\u001b[38;5;124m'\u001b[39m\u001b[38;5;124m.\u001b[39m\u001b[38;5;124m'\u001b[39m)[\u001b[38;5;241m0\u001b[39m])\n\u001b[1;32m---> 16\u001b[0m     \u001b[38;5;28;01mif\u001b[39;00m \u001b[43muploadGalleryImage\u001b[49m\u001b[43m(\u001b[49m\u001b[43mfile\u001b[49m\u001b[43m,\u001b[49m\u001b[43mdesc\u001b[49m\u001b[43m \u001b[49m\u001b[38;5;241;43m=\u001b[39;49m\u001b[43m \u001b[49m\u001b[43mfile\u001b[49m\u001b[38;5;241;43m.\u001b[39;49m\u001b[43msplit\u001b[49m\u001b[43m(\u001b[49m\u001b[38;5;124;43m'\u001b[39;49m\u001b[38;5;124;43m.\u001b[39;49m\u001b[38;5;124;43m'\u001b[39;49m\u001b[43m)\u001b[49m\u001b[43m[\u001b[49m\u001b[38;5;241;43m0\u001b[39;49m\u001b[43m]\u001b[49m\u001b[43m)\u001b[49m:\n\u001b[0;32m     17\u001b[0m         done\u001b[38;5;241m.\u001b[39mappend(file)\n\u001b[0;32m     18\u001b[0m         count\u001b[38;5;241m+\u001b[39m\u001b[38;5;241m=\u001b[39m\u001b[38;5;241m1\u001b[39m\n",
      "Cell \u001b[1;32mIn[10], line 6\u001b[0m, in \u001b[0;36muploadGalleryImage\u001b[1;34m(filepath, desc, article_id, event_id)\u001b[0m\n\u001b[0;32m      4\u001b[0m \u001b[38;5;66;03m#'id', 'image', 'path', 'time', 'title'\u001b[39;00m\n\u001b[0;32m      5\u001b[0m values \u001b[38;5;241m=\u001b[39m {\u001b[38;5;124m'\u001b[39m\u001b[38;5;124mext\u001b[39m\u001b[38;5;124m'\u001b[39m: filepath\u001b[38;5;241m.\u001b[39msplit(\u001b[38;5;124m'\u001b[39m\u001b[38;5;124m.\u001b[39m\u001b[38;5;124m'\u001b[39m)[\u001b[38;5;241m-\u001b[39m\u001b[38;5;241m1\u001b[39m] }\n\u001b[1;32m----> 6\u001b[0m r \u001b[38;5;241m=\u001b[39m \u001b[43mrequests\u001b[49m\u001b[38;5;241;43m.\u001b[39;49m\u001b[43mpost\u001b[49m\u001b[43m(\u001b[49m\u001b[43momc_api\u001b[49m\u001b[38;5;241;43m+\u001b[39;49m\u001b[38;5;124;43m'\u001b[39;49m\u001b[38;5;124;43m/uploadimage\u001b[39;49m\u001b[38;5;124;43m'\u001b[39;49m\u001b[43m,\u001b[49m\u001b[43m \u001b[49m\u001b[43mdata\u001b[49m\u001b[38;5;241;43m=\u001b[39;49m\u001b[43mvalues\u001b[49m\u001b[43m,\u001b[49m\u001b[43m \u001b[49m\u001b[43mfiles\u001b[49m\u001b[38;5;241;43m=\u001b[39;49m\u001b[43mfiles\u001b[49m\u001b[43m,\u001b[49m\u001b[43mheaders\u001b[49m\u001b[38;5;241;43m=\u001b[39;49m\u001b[43mheaders\u001b[49m\u001b[43m)\u001b[49m\n\u001b[0;32m      7\u001b[0m \u001b[38;5;28mprint\u001b[39m(r\u001b[38;5;241m.\u001b[39mtext)\n\u001b[0;32m      8\u001b[0m \u001b[38;5;28;01mtry\u001b[39;00m:\n",
      "File \u001b[1;32md:\\MUNTUR AI\\API\\muntur-env\\Lib\\site-packages\\requests\\api.py:115\u001b[0m, in \u001b[0;36mpost\u001b[1;34m(url, data, json, **kwargs)\u001b[0m\n\u001b[0;32m    103\u001b[0m \u001b[38;5;28;01mdef\u001b[39;00m \u001b[38;5;21mpost\u001b[39m(url, data\u001b[38;5;241m=\u001b[39m\u001b[38;5;28;01mNone\u001b[39;00m, json\u001b[38;5;241m=\u001b[39m\u001b[38;5;28;01mNone\u001b[39;00m, \u001b[38;5;241m*\u001b[39m\u001b[38;5;241m*\u001b[39mkwargs):\n\u001b[0;32m    104\u001b[0m \u001b[38;5;250m    \u001b[39m\u001b[38;5;124mr\u001b[39m\u001b[38;5;124;03m\"\"\"Sends a POST request.\u001b[39;00m\n\u001b[0;32m    105\u001b[0m \n\u001b[0;32m    106\u001b[0m \u001b[38;5;124;03m    :param url: URL for the new :class:`Request` object.\u001b[39;00m\n\u001b[1;32m   (...)\u001b[0m\n\u001b[0;32m    112\u001b[0m \u001b[38;5;124;03m    :rtype: requests.Response\u001b[39;00m\n\u001b[0;32m    113\u001b[0m \u001b[38;5;124;03m    \"\"\"\u001b[39;00m\n\u001b[1;32m--> 115\u001b[0m     \u001b[38;5;28;01mreturn\u001b[39;00m \u001b[43mrequest\u001b[49m\u001b[43m(\u001b[49m\u001b[38;5;124;43m\"\u001b[39;49m\u001b[38;5;124;43mpost\u001b[39;49m\u001b[38;5;124;43m\"\u001b[39;49m\u001b[43m,\u001b[49m\u001b[43m \u001b[49m\u001b[43murl\u001b[49m\u001b[43m,\u001b[49m\u001b[43m \u001b[49m\u001b[43mdata\u001b[49m\u001b[38;5;241;43m=\u001b[39;49m\u001b[43mdata\u001b[49m\u001b[43m,\u001b[49m\u001b[43m \u001b[49m\u001b[43mjson\u001b[49m\u001b[38;5;241;43m=\u001b[39;49m\u001b[43mjson\u001b[49m\u001b[43m,\u001b[49m\u001b[43m \u001b[49m\u001b[38;5;241;43m*\u001b[39;49m\u001b[38;5;241;43m*\u001b[39;49m\u001b[43mkwargs\u001b[49m\u001b[43m)\u001b[49m\n",
      "File \u001b[1;32md:\\MUNTUR AI\\API\\muntur-env\\Lib\\site-packages\\requests\\api.py:59\u001b[0m, in \u001b[0;36mrequest\u001b[1;34m(method, url, **kwargs)\u001b[0m\n\u001b[0;32m     55\u001b[0m \u001b[38;5;66;03m# By using the 'with' statement we are sure the session is closed, thus we\u001b[39;00m\n\u001b[0;32m     56\u001b[0m \u001b[38;5;66;03m# avoid leaving sockets open which can trigger a ResourceWarning in some\u001b[39;00m\n\u001b[0;32m     57\u001b[0m \u001b[38;5;66;03m# cases, and look like a memory leak in others.\u001b[39;00m\n\u001b[0;32m     58\u001b[0m \u001b[38;5;28;01mwith\u001b[39;00m sessions\u001b[38;5;241m.\u001b[39mSession() \u001b[38;5;28;01mas\u001b[39;00m session:\n\u001b[1;32m---> 59\u001b[0m     \u001b[38;5;28;01mreturn\u001b[39;00m \u001b[43msession\u001b[49m\u001b[38;5;241;43m.\u001b[39;49m\u001b[43mrequest\u001b[49m\u001b[43m(\u001b[49m\u001b[43mmethod\u001b[49m\u001b[38;5;241;43m=\u001b[39;49m\u001b[43mmethod\u001b[49m\u001b[43m,\u001b[49m\u001b[43m \u001b[49m\u001b[43murl\u001b[49m\u001b[38;5;241;43m=\u001b[39;49m\u001b[43murl\u001b[49m\u001b[43m,\u001b[49m\u001b[43m \u001b[49m\u001b[38;5;241;43m*\u001b[39;49m\u001b[38;5;241;43m*\u001b[39;49m\u001b[43mkwargs\u001b[49m\u001b[43m)\u001b[49m\n",
      "File \u001b[1;32md:\\MUNTUR AI\\API\\muntur-env\\Lib\\site-packages\\requests\\sessions.py:589\u001b[0m, in \u001b[0;36mSession.request\u001b[1;34m(self, method, url, params, data, headers, cookies, files, auth, timeout, allow_redirects, proxies, hooks, stream, verify, cert, json)\u001b[0m\n\u001b[0;32m    584\u001b[0m send_kwargs \u001b[38;5;241m=\u001b[39m {\n\u001b[0;32m    585\u001b[0m     \u001b[38;5;124m\"\u001b[39m\u001b[38;5;124mtimeout\u001b[39m\u001b[38;5;124m\"\u001b[39m: timeout,\n\u001b[0;32m    586\u001b[0m     \u001b[38;5;124m\"\u001b[39m\u001b[38;5;124mallow_redirects\u001b[39m\u001b[38;5;124m\"\u001b[39m: allow_redirects,\n\u001b[0;32m    587\u001b[0m }\n\u001b[0;32m    588\u001b[0m send_kwargs\u001b[38;5;241m.\u001b[39mupdate(settings)\n\u001b[1;32m--> 589\u001b[0m resp \u001b[38;5;241m=\u001b[39m \u001b[38;5;28;43mself\u001b[39;49m\u001b[38;5;241;43m.\u001b[39;49m\u001b[43msend\u001b[49m\u001b[43m(\u001b[49m\u001b[43mprep\u001b[49m\u001b[43m,\u001b[49m\u001b[43m \u001b[49m\u001b[38;5;241;43m*\u001b[39;49m\u001b[38;5;241;43m*\u001b[39;49m\u001b[43msend_kwargs\u001b[49m\u001b[43m)\u001b[49m\n\u001b[0;32m    591\u001b[0m \u001b[38;5;28;01mreturn\u001b[39;00m resp\n",
      "File \u001b[1;32md:\\MUNTUR AI\\API\\muntur-env\\Lib\\site-packages\\requests\\sessions.py:703\u001b[0m, in \u001b[0;36mSession.send\u001b[1;34m(self, request, **kwargs)\u001b[0m\n\u001b[0;32m    700\u001b[0m start \u001b[38;5;241m=\u001b[39m preferred_clock()\n\u001b[0;32m    702\u001b[0m \u001b[38;5;66;03m# Send the request\u001b[39;00m\n\u001b[1;32m--> 703\u001b[0m r \u001b[38;5;241m=\u001b[39m \u001b[43madapter\u001b[49m\u001b[38;5;241;43m.\u001b[39;49m\u001b[43msend\u001b[49m\u001b[43m(\u001b[49m\u001b[43mrequest\u001b[49m\u001b[43m,\u001b[49m\u001b[43m \u001b[49m\u001b[38;5;241;43m*\u001b[39;49m\u001b[38;5;241;43m*\u001b[39;49m\u001b[43mkwargs\u001b[49m\u001b[43m)\u001b[49m\n\u001b[0;32m    705\u001b[0m \u001b[38;5;66;03m# Total elapsed time of the request (approximately)\u001b[39;00m\n\u001b[0;32m    706\u001b[0m elapsed \u001b[38;5;241m=\u001b[39m preferred_clock() \u001b[38;5;241m-\u001b[39m start\n",
      "File \u001b[1;32md:\\MUNTUR AI\\API\\muntur-env\\Lib\\site-packages\\requests\\adapters.py:517\u001b[0m, in \u001b[0;36mHTTPAdapter.send\u001b[1;34m(self, request, stream, timeout, verify, cert, proxies)\u001b[0m\n\u001b[0;32m    513\u001b[0m         \u001b[38;5;28;01mraise\u001b[39;00m ProxyError(e, request\u001b[38;5;241m=\u001b[39mrequest)\n\u001b[0;32m    515\u001b[0m     \u001b[38;5;28;01mif\u001b[39;00m \u001b[38;5;28misinstance\u001b[39m(e\u001b[38;5;241m.\u001b[39mreason, _SSLError):\n\u001b[0;32m    516\u001b[0m         \u001b[38;5;66;03m# This branch is for urllib3 v1.22 and later.\u001b[39;00m\n\u001b[1;32m--> 517\u001b[0m         \u001b[38;5;28;01mraise\u001b[39;00m SSLError(e, request\u001b[38;5;241m=\u001b[39mrequest)\n\u001b[0;32m    519\u001b[0m     \u001b[38;5;28;01mraise\u001b[39;00m \u001b[38;5;167;01mConnectionError\u001b[39;00m(e, request\u001b[38;5;241m=\u001b[39mrequest)\n\u001b[0;32m    521\u001b[0m \u001b[38;5;28;01mexcept\u001b[39;00m ClosedPoolError \u001b[38;5;28;01mas\u001b[39;00m e:\n",
      "\u001b[1;31mSSLError\u001b[0m: HTTPSConnectionPool(host='munturai-final-production.up.railway.app', port=443): Max retries exceeded with url: /m/pcrn/uploadimage (Caused by SSLError(SSLEOFError(8, 'EOF occurred in violation of protocol (_ssl.c:2406)')))"
     ]
    }
   ],
   "source": [
    "files = os.listdir()\n",
    "count = 0\n",
    "for file in files:\n",
    "    if file in done:\n",
    "        pass\n",
    "    else:\n",
    "        if file.endswith('.jpg') or file.endswith('.png'):\n",
    "            print('uploading file >>>> '+file)\n",
    "            if uploadGalleryImage(file,desc='Photo '+str(files.index(file)+1)):\n",
    "                done.append(file)\n",
    "                count+=1\n",
    "                print('done')\n",
    "            else: break\n",
    "        elif file.endswith('.mp4'):\n",
    "            print('uploading file >>>> '+file.split('.')[0])\n",
    "            if uploadGalleryImage(file,desc = file.split('.')[0]):\n",
    "                done.append(file)\n",
    "                count+=1\n",
    "                print('done')\n",
    "            else: break"
   ]
  },
  {
   "cell_type": "code",
   "execution_count": 8,
   "metadata": {},
   "outputs": [
    {
     "data": {
      "text/plain": [
       "35"
      ]
     },
     "execution_count": 8,
     "metadata": {},
     "output_type": "execute_result"
    }
   ],
   "source": [
    "len(done)"
   ]
  },
  {
   "cell_type": "code",
   "execution_count": 57,
   "metadata": {},
   "outputs": [
    {
     "data": {
      "text/plain": [
       "['104282599_115170660236981_8983722663468770051_n.jpg',\n",
       " '198773408_1156782358150473_6469875802304236774_n.jpg',\n",
       " '95701744_1108576249497784_1302777990215630848_n.jpg',\n",
       " 'images (25).jpg',\n",
       " 'téléchargement (24).jpg']"
      ]
     },
     "execution_count": 57,
     "metadata": {},
     "output_type": "execute_result"
    }
   ],
   "source": [
    "os.listdir(path+'/big')"
   ]
  },
  {
   "cell_type": "code",
   "execution_count": 81,
   "metadata": {},
   "outputs": [],
   "source": [
    "done=[]"
   ]
  },
  {
   "cell_type": "code",
   "execution_count": 100,
   "metadata": {},
   "outputs": [
    {
     "name": "stdout",
     "output_type": "stream",
     "text": [
      "uploading file >>>> banner_cabral.jpg\n",
      "{\"error\": false, \"code\": 0, \"data\": {\"fileurl\": \"/media/images/2f3cb80f753487df_1715339997.jpg\"}}\n",
      "{\"error\": false, \"code\": 0, \"data\": {\"position\": 1, \"text\": \"Normal text 1\", \"bigTitle\": \"Big Title 1\", \"smallTitle\": \"Small Title 1\", \"creation_date\": 1715339997, \"message\": \"upload done\"}}\n",
      "done ***  1\n",
      "uploading file >>>> banner_cabral_nour.jpg\n",
      "{\"error\": false, \"code\": 0, \"data\": {\"fileurl\": \"/media/images/c83d04298467ebaa_1715340000.jpg\"}}\n",
      "{\"error\": false, \"code\": 0, \"data\": {\"position\": 2, \"text\": \"Normal text 2\", \"bigTitle\": \"Big Title 2\", \"smallTitle\": \"Small Title 2\", \"creation_date\": 1715339997, \"message\": \"upload done\"}}\n",
      "done ***  2\n",
      "uploading file >>>> banner_nouran.jpg\n",
      "{\"error\": false, \"code\": 0, \"data\": {\"fileurl\": \"/media/images/6792f174176dc61f_1715340003.jpg\"}}\n",
      "{\"error\": false, \"code\": 0, \"data\": {\"position\": 3, \"text\": \"Normal text 3\", \"bigTitle\": \"Big Title 3\", \"smallTitle\": \"Small Title 3\", \"creation_date\": 1715339997, \"message\": \"upload done\"}}\n",
      "done ***  3\n"
     ]
    }
   ],
   "source": [
    "files = os.listdir(path+'/banner')\n",
    "count = 0\n",
    "done=[]\n",
    "for file in files:\n",
    "    if file in done:\n",
    "        pass\n",
    "    else:\n",
    "        if file.endswith('.jpg'):\n",
    "            print('uploading file >>>> '+file)\n",
    "            position = files.index(file)+1\n",
    "            smallTitle= 'Small Title '+str(position)\n",
    "            bigTitle = 'Big Title '+str(position)\n",
    "            text = 'Normal text '+str(position)\n",
    "\n",
    "            if uploadBanner(path+'/banner/'+file,position=position,smallTitle=smallTitle,bigTitle=bigTitle,text=text):\n",
    "                done.append(file)\n",
    "                count+=1\n",
    "                print('done *** ',len(done))\n",
    "            else: break"
   ]
  },
  {
   "cell_type": "code",
   "execution_count": 102,
   "metadata": {},
   "outputs": [],
   "source": [
    "from math import floor\n",
    "import datetime"
   ]
  },
  {
   "cell_type": "code",
   "execution_count": 103,
   "metadata": {},
   "outputs": [
    {
     "data": {
      "text/plain": [
       "1712752695"
      ]
     },
     "execution_count": 103,
     "metadata": {},
     "output_type": "execute_result"
    }
   ],
   "source": [
    "(floor(datetime.datetime.now().timestamp()-30*3600*24))"
   ]
  },
  {
   "cell_type": "code",
   "execution_count": null,
   "metadata": {},
   "outputs": [],
   "source": [
    "url=''\n",
    "desc=''\n",
    "image={\n",
    "    'creator_id':'7deb8244-7aae-480b-b75f-9eb026c6f7c4:0',\n",
    "    'image':url,\n",
    "    'description':desc\n",
    "}"
   ]
  },
  {
   "cell_type": "markdown",
   "metadata": {},
   "source": [
    "# News"
   ]
  },
  {
   "cell_type": "code",
   "execution_count": 145,
   "metadata": {},
   "outputs": [],
   "source": [
    "def addNews(affichepath,desc='',title='',contenu='',tags='',photos=[]):\n",
    "    with open(affichepath,'rb') as f:\n",
    "        files = {'image': f.read()}\n",
    "        values = {'ext': affichepath.split('.')[-1] }\n",
    "        r = requests.post(omc_api+'/uploadimage', data=values, files=files,headers=headers)\n",
    "        print(r.text)\n",
    "        try:\n",
    "            rJson=json.loads(r.text)\n",
    "            if rJson[\"error\"]==False:\n",
    "                #print(affichepath.split('.')[0])\n",
    "                news={\n",
    "                    'creator_id':'7deb8244-7aae-480b-b75f-9eb026c6f7c4:0',\n",
    "                    'image':rJson[\"data\"][\"fileurl\"],\n",
    "                    'short_description': desc,\n",
    "                    'contenu': contenu,\n",
    "                    'title': title,\n",
    "                    'tags': tags,\n",
    "                    'type': 'article'\n",
    "                }\n",
    "                req = requests.post(omc_api+'/article/add', json = news,headers=headers)\n",
    "                print(req.text)\n",
    "                reqJson=json.loads(req.text)\n",
    "                if reqJson[\"error\"]==False:\n",
    "                    count=0\n",
    "                    for img in photos:\n",
    "                        uploadGalleryImage(img,desc=desc,article_id=reqJson[\"data\"]['id'])\n",
    "                        count+=1\n",
    "                        print('photo added : ',count)\n",
    "                    return True\n",
    "                else: return False\n",
    "            else: return False\n",
    "        except Exception as e:\n",
    "            print(str(e))\n",
    "            return False"
   ]
  },
  {
   "cell_type": "code",
   "execution_count": 104,
   "metadata": {},
   "outputs": [],
   "source": [
    "import docx\n",
    "\n",
    "def getText(filename):\n",
    "    doc = docx.Document(filename)\n",
    "    fullText = []\n",
    "    for para in doc.paragraphs:\n",
    "        fullText.append(para.text)\n",
    "    return '\\n'.join(fullText)"
   ]
  },
  {
   "cell_type": "code",
   "execution_count": 106,
   "metadata": {},
   "outputs": [],
   "source": [
    "os.chdir(os.getcwd()+\"/articles\")"
   ]
  },
  {
   "cell_type": "code",
   "execution_count": 107,
   "metadata": {},
   "outputs": [
    {
     "data": {
      "text/plain": [
       "'D:\\\\Projects\\\\OMC\\\\PCRN\\\\Web\\\\images\\\\articles'"
      ]
     },
     "execution_count": 107,
     "metadata": {},
     "output_type": "execute_result"
    }
   ],
   "source": [
    "os.getcwd()"
   ]
  },
  {
   "cell_type": "code",
   "execution_count": 110,
   "metadata": {},
   "outputs": [
    {
     "data": {
      "text/plain": [
       "['441418135_979154000516815_1299043269327269273_n.jpg',\n",
       " '441876983_979153953850153_4324671355037744881_n.jpg',\n",
       " '441896232_979153980516817_7813918243747480266_n.jpg',\n",
       " '5 ANS DE COMBAT PARTISANT.docx',\n",
       " 'affiche.jpg',\n",
       " 'IMG-20240512-WA0084.jpg']"
      ]
     },
     "execution_count": 110,
     "metadata": {},
     "output_type": "execute_result"
    }
   ],
   "source": [
    "articles_path='D:\\\\Projects\\\\OMC\\\\PCRN\\\\Web\\\\images\\\\articles'\n",
    "os.listdir(articles_path+'/5 ANS DE COMBAT')"
   ]
  },
  {
   "cell_type": "code",
   "execution_count": 137,
   "metadata": {},
   "outputs": [
    {
     "data": {
      "text/plain": [
       "['D:\\\\Projects\\\\OMC\\\\PCRN\\\\Web\\\\images\\\\articles/5 ANS DE COMBAT/441418135_979154000516815_1299043269327269273_n.jpg',\n",
       " 'D:\\\\Projects\\\\OMC\\\\PCRN\\\\Web\\\\images\\\\articles/5 ANS DE COMBAT/441876983_979153953850153_4324671355037744881_n.jpg',\n",
       " 'D:\\\\Projects\\\\OMC\\\\PCRN\\\\Web\\\\images\\\\articles/5 ANS DE COMBAT/441896232_979153980516817_7813918243747480266_n.jpg',\n",
       " 'D:\\\\Projects\\\\OMC\\\\PCRN\\\\Web\\\\images\\\\articles/5 ANS DE COMBAT/IMG-20240512-WA0084.jpg']"
      ]
     },
     "execution_count": 137,
     "metadata": {},
     "output_type": "execute_result"
    }
   ],
   "source": [
    "photos=[articles_path+'/5 ANS DE COMBAT/'+x for x in os.listdir(articles_path+'/5 ANS DE COMBAT') if  (not x.endswith('.docx')) and (not x.startswith('affiche.'))]\n",
    "photos"
   ]
  },
  {
   "cell_type": "code",
   "execution_count": 129,
   "metadata": {},
   "outputs": [
    {
     "name": "stdout",
     "output_type": "stream",
     "text": [
      "5 ANS DE COMBAT PARTISAN <br>   Il y a 5 ans que les Camarades Boubakari Massardine (SG), Ayichatou Inoua (Trésorière) et moi-même prenions les rênes du PCRN à l'issue du Congrès de Guidiguis, et après deux ans de travail citoyen acharné ponctué par une participation à l'élection présidentielle de 2018. <br>   Bravo chers millions de militants et sympathisants du Nord au Sud, ainsi que de l'Est à l'Ouest du Cameroun, mais aussi de plusieurs pays d'Afrique, d'Europe, d'Asie, et des Amériques, pour le travail dévoué et encourageant accompli en réalité depuis 7 ans, car tout a commencé en 2017 avec 11 Millons d'inscrits. Il fallait y croire! <br>   Faut vraiment croire au Cameroun et en soi pour s'engager en politique dans notre pays... Vos sacrifices sur le terrain pour porter les préoccupations et aspirations du peuple, pour diffuser notre offre politique ne seront pas vains. 2018 et 2020 étaient à peine l'ombre des choses à venir. <br>   Ceux qui veulent entraver notre chemin, ne nous valent pas. Sinon ils mettraient en avant leur poids politique, et non pas l'appareil d'Etat dont ils abusent. Les obstacles qu'ils dressent seront levés, les uns après les autres.  <br>   Par la Grâce de Dieu, nous éprouverons bientôt la joie patriotique d'avoir redressé notre pays, d'avoir redonné de la joie aux citoyens, et de l'espérance à la jeunesse. Demeurez résilients face aux épreuves, demeurez réconciliateurs et rassembleurs face aux provocations.  <br>   Vous verrez de vos yeux ce qui s'accomplira. <br>   Merci pour votre confiance. <br>   \n"
     ]
    }
   ],
   "source": [
    "dox_file = [x for x in os.listdir(articles_path+'/5 ANS DE COMBAT') if x.endswith('.docx')][0]\n",
    "#dox_file\n",
    "print(getText(articles_path+'/5 ANS DE COMBAT/'+dox_file).replace('\\n','<br>'))"
   ]
  },
  {
   "cell_type": "code",
   "execution_count": 143,
   "metadata": {},
   "outputs": [
    {
     "data": {
      "text/plain": [
       "'5#ANS#COMBAT#PARTISAN'"
      ]
     },
     "execution_count": 143,
     "metadata": {},
     "output_type": "execute_result"
    }
   ],
   "source": [
    "title='5 ANS DE COMBAT PARTISAN'\n",
    "tags=''\n",
    "conjonctions=['de','a','pour','sans','par','mais','ou','et','donc','or','ni','car']\n",
    "for e in title.split(' '):\n",
    "    if e.lower() not in conjonctions:\n",
    "        tags+=e+'#'\n",
    "tags=tags[:-1]\n",
    "tags"
   ]
  },
  {
   "cell_type": "code",
   "execution_count": 149,
   "metadata": {},
   "outputs": [
    {
     "name": "stdout",
     "output_type": "stream",
     "text": [
      "{\"error\": false, \"code\": 0, \"data\": {\"fileurl\": \"/media/images/2fe44caeef006f49_1715621328.jpg\"}}\n",
      "{\"error\": false, \"code\": 0, \"data\": {\"id\": \"274c40de-93ab-48f0-a285-88caadc4935b\", \"title\": \"5 ANS DE COMBAT PARTISAN\", \"time\": 1715621327, \"statut\": \"1\", \"creation_date\": 1715621327}}\n",
      "HTTPConnectionPool(host='soft.pcrn-org.com', port=80): Max retries exceeded with url: /m/pcrn/uploadimage (Caused by ConnectTimeoutError(<urllib3.connection.HTTPConnection object at 0x000001EB0055A7E0>, 'Connection to soft.pcrn-org.com timed out. (connect timeout=None)'))\n"
     ]
    },
    {
     "data": {
      "text/plain": [
       "False"
      ]
     },
     "execution_count": 149,
     "metadata": {},
     "output_type": "execute_result"
    }
   ],
   "source": [
    "photos=[articles_path+'/5 ANS DE COMBAT/'+x for x in os.listdir(articles_path+'/5 ANS DE COMBAT') if  (not x.endswith('.docx')) and (not x.startswith('affiche.'))]\n",
    "contenu = getText(articles_path+'/5 ANS DE COMBAT/'+dox_file).replace('\\n','<br>')\n",
    "short_desc=contenu.split('<br>')[1]\n",
    "title='5 ANS DE COMBAT PARTISAN'\n",
    "tags=''\n",
    "conjonctions=['de','a','pour','sans','par','mais','ou','et','donc','or','ni','car']\n",
    "for e in title.split(' '):\n",
    "    if e.lower() not in conjonctions:\n",
    "        tags+=e+'#'\n",
    "tags=tags[:-1]\n",
    "addNews(articles_path+'/5 ANS DE COMBAT/affiche.jpg',title = '5 ANS DE COMBAT PARTISAN',desc=short_desc,tags=tags,contenu=contenu,photos=photos )"
   ]
  },
  {
   "cell_type": "code",
   "execution_count": 152,
   "metadata": {},
   "outputs": [
    {
     "name": "stdout",
     "output_type": "stream",
     "text": [
      "{\"error\": false, \"code\": 0, \"data\": {\"fileurl\": \"/media/images/2297489eb90a73b1_1715621563.jpg\"}}\n",
      "D:\\Projects\\OMC\\PCRN\\Web\\images\\articles/5 ANS DE COMBAT/IMG-20240512-WA0084\n",
      "{\"error\": false, \"code\": 0, \"data\": {\"id\": \"603999d0-579d-4e06-8b51-8ba7321bbd02:1715621578\", \"creation_date\": 1715621327}}\n"
     ]
    }
   ],
   "source": [
    "for img in photos[]:\n",
    "    uploadGalleryImage(img,desc=title,article_id='274c40de-93ab-48f0-a285-88caadc4935b')"
   ]
  },
  {
   "cell_type": "code",
   "execution_count": null,
   "metadata": {},
   "outputs": [],
   "source": []
  },
  {
   "cell_type": "markdown",
   "metadata": {},
   "source": [
    "# Garages"
   ]
  },
  {
   "cell_type": "code",
   "execution_count": 20,
   "metadata": {},
   "outputs": [
    {
     "name": "stdout",
     "output_type": "stream",
     "text": [
      "{\"error\": false, \"code\": 0, \"data\": [{\"id\": \"14909470-e296-470c-b2d8-901184cc1526:1726427607\", \"nom\": \"MISS AUTO\", \"email\": \"missautocameroon@yahoo.com\", \"telephone1\": \"699239048\", \"telephone2\": \"670665756\", \"photo\": \"\", \"ville\": \"Yaounde\", \"pays\": \"\", \"longitude\": 11.504455, \"latitude\": 3.86694, \"type\": \"garage\", \"creation_date\": 1726427371}, {\"id\": \"cc1a3063-d115-43ea-9dce-0d315b562d3a:1726427609\", \"nom\": \"GPS TRACKING\", \"email\": \"\", \"telephone1\": \"656504850\", \"telephone2\": \"nan\", \"photo\": \"\", \"ville\": \"Yaounde\", \"pays\": \"\", \"longitude\": 11.504351, \"latitude\": 3.86593, \"type\": \"garage\", \"creation_date\": 1726427371}, {\"id\": \"9ac326a3-8779-437f-a285-44dbd0fa70a2:1726427611\", \"nom\": \"CHRIS SECURITY SYSTEM\", \"email\": \"\", \"telephone1\": \"674562000\", \"telephone2\": \"690960867\", \"photo\": \"\", \"ville\": \"Yaounde\", \"pays\": \"\", \"longitude\": 11.504318, \"latitude\": 3.865975, \"type\": \"garage\", \"creation_date\": 1726427371}, {\"id\": \"b76c7aaf-5239-4671-a394-2092e4564954:1726427614\", \"nom\": \"PRUDENTIAL BENEFICIAL\", \"email\": \"\", \"telephone1\": \"677153055\", \"telephone2\": \"nan\", \"photo\": \"\", \"ville\": \"Yaounde\", \"pays\": \"\", \"longitude\": 11.504325, \"latitude\": 3.865245, \"type\": \"assurance\", \"creation_date\": 1726427371}, {\"id\": \"16036cca-770b-4d16-9ed7-284cd89a0a38:1726427616\", \"nom\": \"TOTAL \\u00c9NERGIES\", \"email\": \"\", \"telephone1\": \"nan\", \"telephone2\": \"nan\", \"photo\": \"\", \"ville\": \"Yaounde\", \"pays\": \"\", \"longitude\": 11.504338, \"latitude\": 3.865763, \"type\": \"pneu\", \"creation_date\": 1726427371}, {\"id\": \"85468649-3db4-46e7-8763-5926fb9af3e2:1726427619\", \"nom\": \"Station p\\u00e9troli\\u00e8re TotalEnergies\", \"email\": \"\", \"telephone1\": \"nan\", \"telephone2\": \"nan\", \"photo\": \"\", \"ville\": \"Yaounde\", \"pays\": \"\", \"longitude\": 11.503072, \"latitude\": 3.862692, \"type\": \"station\", \"creation_date\": 1726427371}, {\"id\": \"0425bfdc-323a-45aa-aa6b-9beebcfd03a5:1726427621\", \"nom\": \"AUTO \\u00c9COLE BERCY\", \"email\": \"\", \"telephone1\": \"675041436\", \"telephone2\": \"nan\", \"photo\": \"\", \"ville\": \"Yaounde\", \"pays\": \"\", \"longitude\": 11.503182, \"latitude\": 3.862568, \"type\": \"garage\", \"creation_date\": 1726427371}, {\"id\": \"81cae0ea-77de-477c-9473-f54bf12c1c59:1726427624\", \"nom\": \"Pas de nom\", \"email\": \"\", \"telephone1\": \"nan\", \"telephone2\": \"nan\", \"photo\": \"\", \"ville\": \"Yaounde\", \"pays\": \"\", \"longitude\": 11.503542, \"latitude\": 3.862664, \"type\": \"garage\", \"creation_date\": 1726427371}, {\"id\": \"8b8d667d-0142-4c9e-8615-8bbbda02089d:1726427626\", \"nom\": \"Ets MERCY AUTO COMPLEX\", \"email\": \"\", \"telephone1\": \"nan\", \"telephone2\": \"nan\", \"photo\": \"\", \"ville\": \"Yaounde\", \"pays\": \"\", \"longitude\": 11.501795, \"latitude\": 3.862707, \"type\": \"garage\", \"creation_date\": 1726427371}, {\"id\": \"bc481d91-748b-4f21-b4b0-142934a746b5:1726427628\", \"nom\": \"\\u00c9cole nationale sup\\u00e9rieure polytechnique Yaound\\u00e9\", \"email\": \"\", \"telephone1\": \"nan\", \"telephone2\": \"nan\", \"photo\": \"\", \"ville\": \"Yaounde\", \"pays\": \"\", \"longitude\": 11.501337, \"latitude\": 3.862949, \"type\": \"auto-ecole\", \"creation_date\": 1726427371}, {\"id\": \"31ece0e7-cbe0-4858-9759-78efff6c8c64:1726427631\", \"nom\": \"Pas de nom\", \"email\": \"\", \"telephone1\": \"6 7 7252708\", \"telephone2\": \"nan\", \"photo\": \"\", \"ville\": \"Yaounde\", \"pays\": \"\", \"longitude\": 11.501333, \"latitude\": 3.863189, \"type\": \"garage\", \"creation_date\": 1726427371}, {\"id\": \"35cbcc11-b6d2-432e-9901-e0bec7463ff2:1726427633\", \"nom\": \"CLIM AUTO\", \"email\": \"\", \"telephone1\": \"699046141\", \"telephone2\": \"nan\", \"photo\": \"\", \"ville\": \"Yaounde\", \"pays\": \"\", \"longitude\": 11.501486, \"latitude\": 3.864973, \"type\": \"garage\", \"creation_date\": 1726427371}, {\"id\": \"716a0157-dfb0-4a92-8ed7-eab27f299c18:1726427635\", \"nom\": \"CHUK'S AUTO\", \"email\": \"\", \"telephone1\": \"695422603\", \"telephone2\": \"nan\", \"photo\": \"\", \"ville\": \"Yaounde\", \"pays\": \"\", \"longitude\": 11.5007, \"latitude\": 3.863105, \"type\": \"garage\", \"creation_date\": 1726427371}, {\"id\": \"18f20a47-c6ab-4c33-986f-425da180eafe:1726427638\", \"nom\": \"MICHELIN\", \"email\": \"\", \"telephone1\": \"679626476\", \"telephone2\": \"nan\", \"photo\": \"\", \"ville\": \"Yaounde\", \"pays\": \"\", \"longitude\": 11.500077, \"latitude\": 3.863049, \"type\": \"pneu\", \"creation_date\": 1726427371}, {\"id\": \"83a04a75-22bb-4b90-ad1f-ada4949d9574:1726427640\", \"nom\": \"MATELEC\", \"email\": \"matelec@matelec.com\", \"telephone1\": \"675664934\", \"telephone2\": \"nan\", \"photo\": \"\", \"ville\": \"Yaounde\", \"pays\": \"\", \"longitude\": 11.499598, \"latitude\": 3.863389, \"type\": \"garage\", \"creation_date\": 1726427371}, {\"id\": \"a2c49188-3148-4747-ae13-f2ad946945e8:1726427642\", \"nom\": \"STATION MRS\", \"email\": \"\", \"telephone1\": \"nan\", \"telephone2\": \"nan\", \"photo\": \"\", \"ville\": \"Yaounde\", \"pays\": \"\", \"longitude\": 11.499914, \"latitude\": 3.863286, \"type\": \"garage\", \"creation_date\": 1726427371}, {\"id\": \"bce58592-040a-41d0-b434-9e426723be45:1726427644\", \"nom\": \"Auto\", \"email\": \"\", \"telephone1\": \"677779125\", \"telephone2\": \"nan\", \"photo\": \"\", \"ville\": \"Yaounde\", \"pays\": \"\", \"longitude\": 11.497408, \"latitude\": 3.86393, \"type\": \"garage\", \"creation_date\": 1726427371}, {\"id\": \"7ac40d66-c4be-42e8-8ce1-5f55cde4aa1d:1726427647\", \"nom\": \"TotalEnergies\", \"email\": \"\", \"telephone1\": \"nan\", \"telephone2\": \"nan\", \"photo\": \"\", \"ville\": \"Yaounde\", \"pays\": \"\", \"longitude\": 11.496827, \"latitude\": 3.864163, \"type\": \"station\", \"creation_date\": 1726427371}, {\"id\": \"4e9f10ff-3906-4f1a-b2af-a8bb44b794e6:1726427649\", \"nom\": \"Pas de nom\", \"email\": \"\", \"telephone1\": \"nan\", \"telephone2\": \"nan\", \"photo\": \"\", \"ville\": \"Yaounde\", \"pays\": \"\", \"longitude\": 11.490408, \"latitude\": 3.863618, \"type\": \"garage\", \"creation_date\": 1726427371}, {\"id\": \"a5ab4235-3653-4227-9377-54d54c8901bf:1726427651\", \"nom\": \"GARAGE BATTERIES\", \"email\": \"\", \"telephone1\": \"674901242\", \"telephone2\": \"nan\", \"photo\": \"\", \"ville\": \"Yaounde\", \"pays\": \"\", \"longitude\": 11.489007, \"latitude\": 3.863904, \"type\": \"pneu\", \"creation_date\": 1726427371}, {\"id\": \"93115e56-9460-49a8-841f-ae6580d801d0:1726427653\", \"nom\": \"ZOO BOTANIQUE\", \"email\": \"\", \"telephone1\": \"nan\", \"telephone2\": \"nan\", \"photo\": \"\", \"ville\": \"Yaounde\", \"pays\": \"\", \"longitude\": 11.485861, \"latitude\": 3.864913, \"type\": \"garage\", \"creation_date\": 1726427371}, {\"id\": \"b55baeac-96d7-4614-9a00-9e610f0c37d3:1726427656\", \"nom\": \"VISIT TECHNIQUE AUTOMOBILE\", \"email\": \"\", \"telephone1\": \"nan\", \"telephone2\": \"nan\", \"photo\": \"\", \"ville\": \"Yaounde\", \"pays\": \"\", \"longitude\": 11.493167, \"latitude\": 3.855309, \"type\": \"garage\", \"creation_date\": 1726427371}, {\"id\": \"6e998d3c-e120-491d-b503-a5f3bdbcc66f:1726427658\", \"nom\": \"K'KENRICK\", \"email\": \"\", \"telephone1\": \"671973124\", \"telephone2\": \"nan\", \"photo\": \"\", \"ville\": \"Yaounde\", \"pays\": \"\", \"longitude\": 11.493266, \"latitude\": 3.859297, \"type\": \"garage\", \"creation_date\": 1726427371}, {\"id\": \"08c3769f-c589-480d-9440-6b49ba3a245f:1726427660\", \"nom\": \"INSTITUT VISA\", \"email\": \"\", \"telephone1\": \"nan\", \"telephone2\": \"nan\", \"photo\": \"\", \"ville\": \"Yaounde\", \"pays\": \"\", \"longitude\": 11.493518, \"latitude\": 3.860761, \"type\": \"auto-ecole\", \"creation_date\": 1726427371}, {\"id\": \"f957dc51-8b7f-4aec-a469-6900c429cdb4:1726427662\", \"nom\": \"Station p\\u00e9troli\\u00e8re tradex\", \"email\": \"\", \"telephone1\": \"nan\", \"telephone2\": \"nan\", \"photo\": \"\", \"ville\": \"Yaounde\", \"pays\": \"\", \"longitude\": 11.493519, \"latitude\": 3.860763, \"type\": \"garage\", \"creation_date\": 1726427371}, {\"id\": \"3934b293-1125-46eb-ab48-6b7e570205fa:1726427665\", \"nom\": \"AUTO \\u00c9COLE KASSAP\", \"email\": \"\", \"telephone1\": \"699708793\", \"telephone2\": \"nan\", \"photo\": \"\", \"ville\": \"Yaounde\", \"pays\": \"\", \"longitude\": 11.493429, \"latitude\": 3.86097, \"type\": \"garage\", \"creation_date\": 1726427371}, {\"id\": \"052f0315-f8a9-4c6e-a031-bea89661b63c:1726427667\", \"nom\": \"TRADEX\", \"email\": \"\", \"telephone1\": \"nan\", \"telephone2\": \"nan\", \"photo\": \"\", \"ville\": \"Yaounde\", \"pays\": \"\", \"longitude\": 11.483751, \"latitude\": 3.857871, \"type\": \"station\", \"creation_date\": 1726427371}, {\"id\": \"cbc3d98d-712f-4521-93b1-ce7292756181:1726427669\", \"nom\": \"CHRONO ASSURANCE\", \"email\": \"info@atchrono-assurance.com\", \"telephone1\": \"658285050\", \"telephone2\": \"nan\", \"photo\": \"\", \"ville\": \"Yaounde\", \"pays\": \"\", \"longitude\": 11.481961, \"latitude\": 3.857076, \"type\": \"assurance\", \"creation_date\": 1726427371}, {\"id\": \"b6e32c2c-fb09-439c-b5d7-7a495f4042c7:1726427672\", \"nom\": \"AUTO \\u00c9COLE MARSEILLAISE PLUS\", \"email\": \"\", \"telephone1\": \"675249305\", \"telephone2\": \"696176139\", \"photo\": \"\", \"ville\": \"Yaounde\", \"pays\": \"\", \"longitude\": 11.481003, \"latitude\": 3.855746, \"type\": \"garage\", \"creation_date\": 1726427371}, {\"id\": \"43074e2d-5c49-406d-9dab-c113fc11cdbc:1726427674\", \"nom\": \"MICHELIN MICHAEL\", \"email\": \"\", \"telephone1\": \"653140304\", \"telephone2\": \"nan\", \"photo\": \"\", \"ville\": \"Yaounde\", \"pays\": \"\", \"longitude\": 11.481003, \"latitude\": 3.855746, \"type\": \"pneu\", \"creation_date\": 1726427371}, {\"id\": \"d0b5a7d4-6ef9-43b0-928c-f5ad92b23b47:1726427676\", \"nom\": \"DIVINE GENERAL METAL WORK\", \"email\": \"\", \"telephone1\": \"683876606\", \"telephone2\": \"nan\", \"photo\": \"\", \"ville\": \"Yaounde\", \"pays\": \"\", \"longitude\": 11.481003, \"latitude\": 3.855746, \"type\": \"garage\", \"creation_date\": 1726427371}, {\"id\": \"acc8e05f-b42f-4e6c-8090-e33041a6ef95:1726427678\", \"nom\": \"Ets 6 BLACK MOTO\", \"email\": \"\", \"telephone1\": \"676884338\", \"telephone2\": \"nan\", \"photo\": \"\", \"ville\": \"Yaounde\", \"pays\": \"\", \"longitude\": 11.48073, \"latitude\": 3.855106, \"type\": \"garage\", \"creation_date\": 1726427371}, {\"id\": \"e61a2e2b-ed2c-4fb0-8ddc-f0a60e74fd60:1726427681\", \"nom\": \"YOUNG\", \"email\": \"\", \"telephone1\": \"nan\", \"telephone2\": \"nan\", \"photo\": \"\", \"ville\": \"Yaounde\", \"pays\": \"\", \"longitude\": 11.48082, \"latitude\": 3.855177, \"type\": \"garage\", \"creation_date\": 1726427371}, {\"id\": \"5cbefa88-96bb-41c7-b4bd-4f6814024d48:1726427683\", \"nom\": \"LION MICHELIN\", \"email\": \"\", \"telephone1\": \"670584708\", \"telephone2\": \"nan\", \"photo\": \"\", \"ville\": \"Yaounde\", \"pays\": \"\", \"longitude\": 11.48082, \"latitude\": 3.855177, \"type\": \"garage\", \"creation_date\": 1726427371}, {\"id\": \"56cfe03f-0f52-4cde-a9ba-7b332da4ad03:1726427686\", \"nom\": \"CAMOCO LUBRIFICATION\", \"email\": \"\", \"telephone1\": \"nan\", \"telephone2\": \"nan\", \"photo\": \"\", \"ville\": \"Yaounde\", \"pays\": \"\", \"longitude\": 11.480054, \"latitude\": 3.853227, \"type\": \"station\", \"creation_date\": 1726427371}, {\"id\": \"7e856f37-b9f2-409b-81af-70473d534aa8:1726427689\", \"nom\": \"DERICO\", \"email\": \"\", \"telephone1\": \"673279557\", \"telephone2\": \"675401129\", \"photo\": \"\", \"ville\": \"Yaounde\", \"pays\": \"\", \"longitude\": 11.480926, \"latitude\": 3.852527, \"type\": \"garage\", \"creation_date\": 1726427371}, {\"id\": \"38eee02f-8ab3-4e2f-9e6b-f9915c74f1ed:1726427691\", \"nom\": \"AUTO \\u00c9COLE CARADE\", \"email\": \"\", \"telephone1\": \"nan\", \"telephone2\": \"nan\", \"photo\": \"\", \"ville\": \"Yaounde\", \"pays\": \"\", \"longitude\": 11.48092, \"latitude\": 3.850711, \"type\": \"garage\", \"creation_date\": 1726427371}, {\"id\": \"c15632a5-ad6c-487d-a59c-cb2d73bdb2b0:1726427694\", \"nom\": \"AUTO\", \"email\": \"\", \"telephone1\": \"nan\", \"telephone2\": \"nan\", \"photo\": \"\", \"ville\": \"Yaounde\", \"pays\": \"\", \"longitude\": 11.480951, \"latitude\": 3.851138, \"type\": \"garage\", \"creation_date\": 1726427371}, {\"id\": \"ba0be86f-1b6f-45b9-b545-400ec99c8bba:1726427696\", \"nom\": \"GREEN OIL GRAISSAGE\", \"email\": \"\", \"telephone1\": \"nan\", \"telephone2\": \"nan\", \"photo\": \"\", \"ville\": \"Yaounde\", \"pays\": \"\", \"longitude\": 11.48222, \"latitude\": 3.848812, \"type\": \"garage\", \"creation_date\": 1726427371}, {\"id\": \"7e08d9e8-9252-40dc-bb7e-08cb1947152b:1726427699\", \"nom\": \"VENTE DES PI\\u00c8CES D'ORIGINE\", \"email\": \"\", \"telephone1\": \"699548498\", \"telephone2\": \"nan\", \"photo\": \"\", \"ville\": \"Yaounde\", \"pays\": \"\", \"longitude\": 11.482576, \"latitude\": 3.848414, \"type\": \"garage\", \"creation_date\": 1726427371}, {\"id\": \"9f10caec-13cd-4d02-8fa3-612a46e2fed3:1726427701\", \"nom\": \"GARDERIE AUTOMOBILE\", \"email\": \"\", \"telephone1\": \"675801319\", \"telephone2\": \"nan\", \"photo\": \"\", \"ville\": \"Yaounde\", \"pays\": \"\", \"longitude\": 11.482576, \"latitude\": 3.848414, \"type\": \"garage\", \"creation_date\": 1726427371}, {\"id\": \"18004a96-8973-4d84-bd0d-07249f19205d:1726427703\", \"nom\": \"PETROLEX\", \"email\": \"\", \"telephone1\": \"nan\", \"telephone2\": \"nan\", \"photo\": \"\", \"ville\": \"Yaounde\", \"pays\": \"\", \"longitude\": 11.482904, \"latitude\": 3.847755, \"type\": \"station\", \"creation_date\": 1726427371}, {\"id\": \"dc3b3020-9427-44e1-a81d-425190746b7a:1726427706\", \"nom\": \"HERMANE MECA AUTO\", \"email\": \"\", \"telephone1\": \"692155405\", \"telephone2\": \"nan\", \"photo\": \"\", \"ville\": \"Yaounde\", \"pays\": \"\", \"longitude\": 11.483308, \"latitude\": 3.848166, \"type\": \"garage\", \"creation_date\": 1726427371}, {\"id\": \"55a645a0-2510-4fc0-a0c3-c9dff56a66fe:1726427708\", \"nom\": \"CARBINE DE PEINTURE AUTO\", \"email\": \"\", \"telephone1\": \"nan\", \"telephone2\": \"nan\", \"photo\": \"\", \"ville\": \"Yaounde\", \"pays\": \"\", \"longitude\": 11.481287, \"latitude\": 3.851668, \"type\": \"garage\", \"creation_date\": 1726427371}, {\"id\": \"6334c2ac-e59d-442d-b71b-f8463199c485:1726427711\", \"nom\": \"ENSEIGNEMENT DES SCIENCES ET TECHNIQUE INDUSTRIELLE\", \"email\": \"\", \"telephone1\": \"nan\", \"telephone2\": \"nan\", \"photo\": \"\", \"ville\": \"Yaounde\", \"pays\": \"\", \"longitude\": 11.484425, \"latitude\": 3.859092, \"type\": \"auto-ecole\", \"creation_date\": 1726427371}, {\"id\": \"cc571615-46ce-440e-9449-311fb21649b7:1726427713\", \"nom\": \"MADADJEU HOTEL\", \"email\": \"\", \"telephone1\": \"691890963\", \"telephone2\": \"699022866\", \"photo\": \"\", \"ville\": \"Yaounde\", \"pays\": \"\", \"longitude\": 11.4854, \"latitude\": 3.859536, \"type\": \"garage\", \"creation_date\": 1726427371}, {\"id\": \"ebb9e186-d59e-41cf-83f2-135641b3fc2e:1726427715\", \"nom\": \"TotalEnergies\", \"email\": \"\", \"telephone1\": \"nan\", \"telephone2\": \"nan\", \"photo\": \"\", \"ville\": \"Yaounde\", \"pays\": \"\", \"longitude\": 11.494156, \"latitude\": 3.883632, \"type\": \"station\", \"creation_date\": 1726427371}, {\"id\": \"545f6ff6-8112-412d-a982-877c6d573cd7:1726427718\", \"nom\": \"VISITE TECHNIQUE AUTOMOBILE\", \"email\": \"\", \"telephone1\": \"nan\", \"telephone2\": \"nan\", \"photo\": \"\", \"ville\": \"Yaounde\", \"pays\": \"\", \"longitude\": 11.519519, \"latitude\": 3.919865, \"type\": \"garage\", \"creation_date\": 1726427371}, {\"id\": \"078e0790-1b4d-4be8-a032-56e85b16f792:1726427721\", \"nom\": \"Tradex\", \"email\": \"\", \"telephone1\": \"nan\", \"telephone2\": \"nan\", \"photo\": \"\", \"ville\": \"Yaounde\", \"pays\": \"\", \"longitude\": 11.520195, \"latitude\": 3.926578, \"type\": \"station\", \"creation_date\": 1726427371}, {\"id\": \"e0be6b93-f101-451e-85b6-008ef2dafe37:1726427724\", \"nom\": \"TotalEnergies\", \"email\": \"\", \"telephone1\": \"nan\", \"telephone2\": \"nan\", \"photo\": \"\", \"ville\": \"Yaounde\", \"pays\": \"\", \"longitude\": 11.518181, \"latitude\": 3.941044, \"type\": \"station\", \"creation_date\": 1726427371}, {\"id\": \"66d0b21b-cb91-42bb-a916-32351c26b59d:1726427726\", \"nom\": \"MOTO SANILI\", \"email\": \"\", \"telephone1\": \"675926497\", \"telephone2\": \"nan\", \"photo\": \"\", \"ville\": \"Yaounde\", \"pays\": \"\", \"longitude\": 11.517063, \"latitude\": 3.939133, \"type\": \"garage\", \"creation_date\": 1726427371}, {\"id\": \"11dcd52f-1abb-46b8-8277-79a7c823d061:1726427728\", \"nom\": \"AUTO\", \"email\": \"\", \"telephone1\": \"nan\", \"telephone2\": \"nan\", \"photo\": \"\", \"ville\": \"Yaounde\", \"pays\": \"\", \"longitude\": 11.508029, \"latitude\": 3.88, \"type\": \"garage\", \"creation_date\": 1726427371}, {\"id\": \"3c3b38ab-771b-4e1b-a834-a52ec1c03570:1726427730\", \"nom\": \"ALLIANZE\", \"email\": \"\", \"telephone1\": \"nan\", \"telephone2\": \"697857590\", \"photo\": \"\", \"ville\": \"Yaounde\", \"pays\": \"\", \"longitude\": 11.515506, \"latitude\": 3.876978, \"type\": \"assurance\", \"creation_date\": 1726427371}, {\"id\": \"7db45d2f-e33a-45ff-b064-c71ca32b0c5b:1726427733\", \"nom\": \"SAPEUR POMPIER\", \"email\": \"\", \"telephone1\": \"118\", \"telephone2\": \"nan\", \"photo\": \"\", \"ville\": \"Yaounde\", \"pays\": \"\", \"longitude\": 11.514993, \"latitude\": 3.873284, \"type\": \"garage\", \"creation_date\": 1726427371}, {\"id\": \"e961fa1b-74b2-4317-8dab-a315ade8cb16:1726427735\", \"nom\": \"H\\u00f4pital central\", \"email\": \"\", \"telephone1\": \"222 22 25 25\", \"telephone2\": \"nan\", \"photo\": \"\", \"ville\": \"Yaounde\", \"pays\": \"\", \"longitude\": 11.509866, \"latitude\": 3.87043, \"type\": \"garage\", \"creation_date\": 1726427371}, {\"id\": \"749a1dc9-3446-4241-813d-4964fdf8d8f4:1726427738\", \"nom\": \"Auto \\u00e9cole noumga\", \"email\": \"\", \"telephone1\": \"696022054\", \"telephone2\": \"675922286\", \"photo\": \"\", \"ville\": \"Yaounde\", \"pays\": \"\", \"longitude\": 11.484674, \"latitude\": 3.869963, \"type\": \"garage\", \"creation_date\": 1726427371}, {\"id\": \"ddeb7ccb-553f-4998-ae6c-81cf3acc2e1d:1726427740\", \"nom\": \"Garage la foi\", \"email\": \"\", \"telephone1\": \"675418100\", \"telephone2\": \"nan\", \"photo\": \"\", \"ville\": \"Yaounde\", \"pays\": \"\", \"longitude\": 11.473439, \"latitude\": 3.875709, \"type\": \"garage\", \"creation_date\": 1726427371}, {\"id\": \"f51c7fcc-65cd-4610-9806-b9d93b511cd6:1726427743\", \"nom\": \"Nickel oil\", \"email\": \"\", \"telephone1\": \"nan\", \"telephone2\": \"nan\", \"photo\": \"\", \"ville\": \"Yaounde\", \"pays\": \"\", \"longitude\": 11.473439, \"latitude\": 3.875709, \"type\": \"garage\", \"creation_date\": 1726427371}, {\"id\": \"a86da518-dbb6-4a45-bfa4-1f5a6496fc54:1726427745\", \"nom\": \"Laverie\", \"email\": \"\", \"telephone1\": \"nan\", \"telephone2\": \"nan\", \"photo\": \"\", \"ville\": \"Yaounde\", \"pays\": \"\", \"longitude\": 11.473439, \"latitude\": 3.875709, \"type\": \"garage\", \"creation_date\": 1726427371}, {\"id\": \"4c71136b-89bd-41d5-b540-5e4490e2fc64:1726427748\", \"nom\": \"Benson moto\", \"email\": \"\", \"telephone1\": \"654171523\", \"telephone2\": \"nan\", \"photo\": \"\", \"ville\": \"Yaounde\", \"pays\": \"\", \"longitude\": 11.473439, \"latitude\": 3.875709, \"type\": \"garage\", \"creation_date\": 1726427371}, {\"id\": \"8ad3d7db-a96e-4d57-a38b-e027519a6561:1726427750\", \"nom\": \"Ets.kelz pi\\u00e8ces auto\", \"email\": \"\", \"telephone1\": \"653590066\", \"telephone2\": \"696331553\", \"photo\": \"\", \"ville\": \"Yaounde\", \"pays\": \"\", \"longitude\": 11.473439, \"latitude\": 3.875709, \"type\": \"garage\", \"creation_date\": 1726427371}, {\"id\": \"1887f3e4-f452-457c-aebc-6de3f3ef830f:1726427753\", \"nom\": \"Pi\\u00e8ces d\\u00e9tach\\u00e9es des voitures\", \"email\": \"\", \"telephone1\": \"nan\", \"telephone2\": \"nan\", \"photo\": \"\", \"ville\": \"Yaounde\", \"pays\": \"\", \"longitude\": 11.473439, \"latitude\": 3.875709, \"type\": \"garage\", \"creation_date\": 1726427371}, {\"id\": \"8e21d720-ca2d-4d7c-b05e-c30d7f8c769b:1726427755\", \"nom\": \"Vente des pneus michelin\", \"email\": \"\", \"telephone1\": \"676158187\", \"telephone2\": \"nan\", \"photo\": \"\", \"ville\": \"Yaounde\", \"pays\": \"\", \"longitude\": 11.473439, \"latitude\": 3.875709, \"type\": \"pneu\", \"creation_date\": 1726427371}, {\"id\": \"bf9adb37-221e-437b-b46e-711f9f73fb65:1726427758\", \"nom\": \"Et japonais\", \"email\": \"\", \"telephone1\": \"673892918\", \"telephone2\": \"nan\", \"photo\": \"\", \"ville\": \"Yaounde\", \"pays\": \"\", \"longitude\": 11.473439, \"latitude\": 3.875709, \"type\": \"garage\", \"creation_date\": 1726427371}, {\"id\": \"5ecb2e34-2851-4898-b21d-ac2116ddd0a9:1726427760\", \"nom\": \"Mr clean car wash\", \"email\": \"\", \"telephone1\": \"671533332\", \"telephone2\": \"672984738\", \"photo\": \"\", \"ville\": \"Yaounde\", \"pays\": \"\", \"longitude\": 11.473439, \"latitude\": 3.875709, \"type\": \"garage\", \"creation_date\": 1726427371}, {\"id\": \"196719bb-5c26-4708-8334-b613af65d9f9:1726427763\", \"nom\": \"Station p\\u00e9troli\\u00e8re GULFIN\", \"email\": \"\", \"telephone1\": \"nan\", \"telephone2\": \"nan\", \"photo\": \"\", \"ville\": \"Yaounde\", \"pays\": \"\", \"longitude\": 11.473439, \"latitude\": 3.875709, \"type\": \"garage\", \"creation_date\": 1726427371}, {\"id\": \"94bb4154-3c46-4a08-9eaf-91f9d19371c1:1726427765\", \"nom\": \"Site God bless sarl\", \"email\": \"\", \"telephone1\": \"674297344\", \"telephone2\": \"nan\", \"photo\": \"\", \"ville\": \"Yaounde\", \"pays\": \"\", \"longitude\": 11.473439, \"latitude\": 3.875709, \"type\": \"garage\", \"creation_date\": 1726427371}, {\"id\": \"2cd718b0-8f2d-4711-be91-93b077f77f7c:1726427767\", \"nom\": \"MR CLEAN CAR WASH\", \"email\": \"\", \"telephone1\": \"nan\", \"telephone2\": \"nan\", \"photo\": \"\", \"ville\": \"Yaounde\", \"pays\": \"\", \"longitude\": 11.485347, \"latitude\": 3.868631, \"type\": \"garage\", \"creation_date\": 1726427371}, {\"id\": \"613b88af-62f3-47f7-94d2-856cadba5cdc:1726427769\", \"nom\": \"M\\u00e9cano le pro\", \"email\": \"\", \"telephone1\": \"655964153\", \"telephone2\": \"nan\", \"photo\": \"\", \"ville\": \"Yaounde\", \"pays\": \"\", \"longitude\": 11.428491, \"latitude\": 3.876059, \"type\": \"garage\", \"creation_date\": 1726427371}, {\"id\": \"17cddebe-94db-4e22-a37d-f23564dfd3af:1726427772\", \"nom\": \"Laverie usine\", \"email\": \"\", \"telephone1\": \"nan\", \"telephone2\": \"nan\", \"photo\": \"\", \"ville\": \"Yaounde\", \"pays\": \"\", \"longitude\": 11.428491, \"latitude\": 3.876059, \"type\": \"garage\", \"creation_date\": 1726427371}, {\"id\": \"8fd5f62b-282b-4a60-9581-524733d9b4ca:1726427774\", \"nom\": \"D\\u00e9pannage groupe et moteur pompe\", \"email\": \"\", \"telephone1\": \"nan\", \"telephone2\": \"nan\", \"photo\": \"\", \"ville\": \"Yaounde\", \"pays\": \"\", \"longitude\": 11.428491, \"latitude\": 3.876059, \"type\": \"garage\", \"creation_date\": 1726427371}, {\"id\": \"2589fd8f-9f48-4311-b78b-ecd071a9be04:1726427776\", \"nom\": \"Laverie moderne chez oncle\", \"email\": \"\", \"telephone1\": \"655608811\", \"telephone2\": \"nan\", \"photo\": \"\", \"ville\": \"Yaounde\", \"pays\": \"\", \"longitude\": 11.428491, \"latitude\": 3.876059, \"type\": \"garage\", \"creation_date\": 1726427371}, {\"id\": \"1f118582-00e1-42c7-881d-bf2c77e034a2:1726427779\", \"nom\": \"Station tofu lunch\", \"email\": \"\", \"telephone1\": \"nan\", \"telephone2\": \"nan\", \"photo\": \"\", \"ville\": \"Yaounde\", \"pays\": \"\", \"longitude\": 11.428491, \"latitude\": 3.876059, \"type\": \"garage\", \"creation_date\": 1726427371}, {\"id\": \"d00970e3-e224-415d-83b2-9b2d22d0beb5:1726427781\", \"nom\": \"Visite technique automobile Rk vision\", \"email\": \"\", \"telephone1\": \"694268667\", \"telephone2\": \"nan\", \"photo\": \"\", \"ville\": \"Yaounde\", \"pays\": \"\", \"longitude\": 11.43748, \"latitude\": 3.873276, \"type\": \"garage\", \"creation_date\": 1726427371}, {\"id\": \"3e11e1dc-bdda-4d45-936f-265f709f0d25:1726427783\", \"nom\": \"Auto \\u00e9cole Sainte Lucie\", \"email\": \"autoecolesaintelucie4@gmail.com\", \"telephone1\": \"680380608\", \"telephone2\": \"694943401\", \"photo\": \"\", \"ville\": \"Yaounde\", \"pays\": \"\", \"longitude\": 11.43748, \"latitude\": 3.873276, \"type\": \"garage\", \"creation_date\": 1726427371}, {\"id\": \"a1cf1543-76ec-4eae-ad99-e6597240b5ce:1726427785\", \"nom\": \"Le continental vente des pneus et des roues\", \"email\": \"\", \"telephone1\": \"677105779\", \"telephone2\": \"658117313\", \"photo\": \"\", \"ville\": \"Yaounde\", \"pays\": \"\", \"longitude\": 11.43748, \"latitude\": 3.873276, \"type\": \"garage\", \"creation_date\": 1726427371}, {\"id\": \"6be90d32-ed17-4c71-8db0-f10741ee85cd:1726427788\", \"nom\": \"Laverie moderne TWT\", \"email\": \"\", \"telephone1\": \"677488658\", \"telephone2\": \"672831391\", \"photo\": \"\", \"ville\": \"Yaounde\", \"pays\": \"\", \"longitude\": 11.43748, \"latitude\": 3.873276, \"type\": \"garage\", \"creation_date\": 1726427371}, {\"id\": \"d3eb2547-b546-40a4-a567-f9ba0e180683:1726427790\", \"nom\": \"Ventes des pi\\u00e8ces d\\u00e9tach\\u00e9es\", \"email\": \"\", \"telephone1\": \"653143955\", \"telephone2\": \"697410364\", \"photo\": \"\", \"ville\": \"Yaounde\", \"pays\": \"\", \"longitude\": 11.43748, \"latitude\": 3.873276, \"type\": \"garage\", \"creation_date\": 1726427371}, {\"id\": \"47591ef6-ccb4-4496-b6ec-d89cbb1a0a57:1726427793\", \"nom\": \"Laverie moderne dilios\", \"email\": \"\", \"telephone1\": \"679743402\", \"telephone2\": \"694640261\", \"photo\": \"\", \"ville\": \"Yaounde\", \"pays\": \"\", \"longitude\": 11.43748, \"latitude\": 3.873276, \"type\": \"garage\", \"creation_date\": 1726427371}, {\"id\": \"99058f88-f18b-494c-9632-77226672970a:1726427795\", \"nom\": \"TVS\", \"email\": \"\", \"telephone1\": \"693989368\", \"telephone2\": \"621115543\", \"photo\": \"\", \"ville\": \"Yaounde\", \"pays\": \"\", \"longitude\": 11.43748, \"latitude\": 3.873276, \"type\": \"garage\", \"creation_date\": 1726427371}, {\"id\": \"cc736d4b-1535-42a5-a2ae-fc2c37d648b0:1726427797\", \"nom\": \"Laverie moderne belobo services\", \"email\": \"\", \"telephone1\": \"693268974\", \"telephone2\": \"nan\", \"photo\": \"\", \"ville\": \"Yaounde\", \"pays\": \"\", \"longitude\": 11.43748, \"latitude\": 3.873276, \"type\": \"garage\", \"creation_date\": 1726427371}, {\"id\": \"7e4d93f9-6936-4dc1-bd85-e3b3f1eb7e1c:1726427799\", \"nom\": \"Tapisserie auto\", \"email\": \"\", \"telephone1\": \"699105633\", \"telephone2\": \"653762321\", \"photo\": \"\", \"ville\": \"Yaounde\", \"pays\": \"\", \"longitude\": 11.43748, \"latitude\": 3.873276, \"type\": \"garage\", \"creation_date\": 1726427371}, {\"id\": \"78cd7d41-3859-4a3f-93b4-f0db9d4cb15e:1726427802\", \"nom\": \"Garage militaire\", \"email\": \"\", \"telephone1\": \"652900501\", \"telephone2\": \"675840394\", \"photo\": \"\", \"ville\": \"Yaounde\", \"pays\": \"\", \"longitude\": 11.43748, \"latitude\": 3.873276, \"type\": \"station\", \"creation_date\": 1726427371}, {\"id\": \"9d070341-166a-4355-b481-9cbc779de791:1726427804\", \"nom\": \"Laverie moderne mipierrot\", \"email\": \"\", \"telephone1\": \"nan\", \"telephone2\": \"nan\", \"photo\": \"\", \"ville\": \"Yaounde\", \"pays\": \"\", \"longitude\": 11.43748, \"latitude\": 3.873276, \"type\": \"garage\", \"creation_date\": 1726427371}, {\"id\": \"f4314562-99a8-4e2a-b63a-f9579af301a5:1726427806\", \"nom\": \"Maison TVS\", \"email\": \"\", \"telephone1\": \"659152787\", \"telephone2\": \"655264159\", \"photo\": \"\", \"ville\": \"Yaounde\", \"pays\": \"\", \"longitude\": 11.43748, \"latitude\": 3.873276, \"type\": \"garage\", \"creation_date\": 1726427371}, {\"id\": \"1b8c8a71-6ede-434f-8ecb-98e76a1632b3:1726427808\", \"nom\": \"Auto charger battery\", \"email\": \"\", \"telephone1\": \"678734614\", \"telephone2\": \"nan\", \"photo\": \"\", \"ville\": \"Yaounde\", \"pays\": \"\", \"longitude\": 11.43748, \"latitude\": 3.873276, \"type\": \"garage\", \"creation_date\": 1726427371}, {\"id\": \"77630f2d-e53b-4555-a696-c13990aaf8d0:1726427811\", \"nom\": \"Ers NDG Fils Garage auto\", \"email\": \"\", \"telephone1\": \"6916135683\", \"telephone2\": \"nan\", \"photo\": \"\", \"ville\": \"Yaounde\", \"pays\": \"\", \"longitude\": 11.43748, \"latitude\": 3.873276, \"type\": \"garage\", \"creation_date\": 1726427371}, {\"id\": \"059ddd25-bb2f-43a1-9334-5d8bf4a8f108:1726427813\", \"nom\": \"Et Rosvel\", \"email\": \"\", \"telephone1\": \"654830018\", \"telephone2\": \"697372538\", \"photo\": \"\", \"ville\": \"Yaounde\", \"pays\": \"\", \"longitude\": 11.43748, \"latitude\": 3.873276, \"type\": \"garage\", \"creation_date\": 1726427371}, {\"id\": \"02a4f793-8c5a-481f-85c9-e19871acc84e:1726427815\", \"nom\": \"Ventes des roues\", \"email\": \"\", \"telephone1\": \"nan\", \"telephone2\": \"nan\", \"photo\": \"\", \"ville\": \"Yaounde\", \"pays\": \"\", \"longitude\": 11.447611, \"latitude\": 3.875416, \"type\": \"station\", \"creation_date\": 1726427371}, {\"id\": \"43b4b9d5-e4eb-47e7-8cee-963eb38c7702:1726427818\", \"nom\": \"Garderies automobile\", \"email\": \"\", \"telephone1\": \"nan\", \"telephone2\": \"nan\", \"photo\": \"\", \"ville\": \"Yaounde\", \"pays\": \"\", \"longitude\": 11.478462, \"latitude\": 3.872556, \"type\": \"garage\", \"creation_date\": 1726427371}, {\"id\": \"4dbc39a6-7f7b-47ec-a4ce-29599298587d:1726427820\", \"nom\": \"Nouvelle Garderies\", \"email\": \"\", \"telephone1\": \"nan\", \"telephone2\": \"nan\", \"photo\": \"\", \"ville\": \"Yaounde\", \"pays\": \"\", \"longitude\": 11.480257, \"latitude\": 3.861616, \"type\": \"garage\", \"creation_date\": 1726427371}, {\"id\": \"b847330e-5b87-420a-b82d-2d8bc034de9d:1726427822\", \"nom\": \"Hilary NEMNSELIG-NWI Lanka\", \"email\": \"hilarylanka52@gmail.com\", \"telephone1\": \"nan\", \"telephone2\": \"nan\", \"photo\": \"\", \"ville\": \"Yaounde\", \"pays\": \"\", \"longitude\": 11.480186, \"latitude\": 3.861599, \"type\": \"garage\", \"creation_date\": 1726427371}, {\"id\": \"cb0a48c0-7caf-4a8c-9491-4328770591c1:1726427825\", \"nom\": \"Mecano\", \"email\": \"\", \"telephone1\": \"nan\", \"telephone2\": \"nan\", \"photo\": \"\", \"ville\": \"Yaounde\", \"pays\": \"\", \"longitude\": 11.473527, \"latitude\": 3.859992, \"type\": \"pneu\", \"creation_date\": 1726427371}, {\"id\": \"387e9c60-7864-454d-84b3-18c66788e8f5:1726427827\", \"nom\": \"11\", \"email\": \"\", \"telephone1\": \"nan\", \"telephone2\": \"nan\", \"photo\": \"\", \"ville\": \"Yaounde\", \"pays\": \"\", \"longitude\": 11.473931, \"latitude\": 3.856893, \"type\": \"garage\", \"creation_date\": 1726427371}, {\"id\": \"4689bb26-d3e3-40be-8cb3-a340b65c6521:1726427830\", \"nom\": \"PADDY'S CONFIDENCE\", \"email\": \"\", \"telephone1\": \"nan\", \"telephone2\": \"nan\", \"photo\": \"\", \"ville\": \"Yaounde\", \"pays\": \"\", \"longitude\": 11.47613, \"latitude\": 3.854559, \"type\": \"garage\", \"creation_date\": 1726427371}, {\"id\": \"117442db-51d5-4cd8-abf7-9f2e7be04f20:1726427832\", \"nom\": \"MARCELO MECANO\", \"email\": \"\", \"telephone1\": \"nan\", \"telephone2\": \"nan\", \"photo\": \"\", \"ville\": \"Yaounde\", \"pays\": \"\", \"longitude\": 11.479552, \"latitude\": 3.852155, \"type\": \"garage\", \"creation_date\": 1726427371}, {\"id\": \"7eeaba3c-52b1-48c7-af53-4b085222dc76:1726427835\", \"nom\": \"WEBO PNEUS\", \"email\": \"\", \"telephone1\": \"nan\", \"telephone2\": \"nan\", \"photo\": \"\", \"ville\": \"Yaounde\", \"pays\": \"\", \"longitude\": 11.480939, \"latitude\": 3.85627, \"type\": \"pneu\", \"creation_date\": 1726427371}, {\"id\": \"fa542a61-d813-4e62-9452-8fc361c36f59:1726427837\", \"nom\": \"TOTALENERGIES\", \"email\": \"\", \"telephone1\": \"nan\", \"telephone2\": \"nan\", \"photo\": \"\", \"ville\": \"Yaounde\", \"pays\": \"\", \"longitude\": 11.486651, \"latitude\": 3.849618, \"type\": \"station\", \"creation_date\": 1726427371}, {\"id\": \"c362b724-5608-47cc-8f62-9f8b3fa9b356:1726427840\", \"nom\": \"G\\u00c9N\\u00c9RAL EXPRESS VOYAGE\", \"email\": \"hilarylanka52@gmail.com\", \"telephone1\": \"655520708\", \"telephone2\": \"676210673\", \"photo\": \"\", \"ville\": \"Yaounde\", \"pays\": \"\", \"longitude\": 11.486651, \"latitude\": 3.849618, \"type\": \"agence-voyages\", \"creation_date\": 1726427371}, {\"id\": \"4173c552-6468-4115-a517-a4e3c797561f:1726427842\", \"nom\": \"KOFFI \\u00c9LECTRONICS\", \"email\": \"\", \"telephone1\": \"696337080\", \"telephone2\": \"nan\", \"photo\": \"\", \"ville\": \"Yaounde\", \"pays\": \"\", \"longitude\": 11.486388, \"latitude\": 3.846409, \"type\": \"pneu\", \"creation_date\": 1726427371}, {\"id\": \"78994d2c-da95-4b17-bcbe-19b191f9c270:1726427844\", \"nom\": \"OASIS TRAVEL\", \"email\": \"\", \"telephone1\": \"nan\", \"telephone2\": \"nan\", \"photo\": \"\", \"ville\": \"Yaounde\", \"pays\": \"\", \"longitude\": 11.486351, \"latitude\": 3.845638, \"type\": \"agence-voyages\", \"creation_date\": 1726427371}, {\"id\": \"afd7e310-14c4-427b-b260-92cd5316571e:1726427847\", \"nom\": \"K-WASH\", \"email\": \"\", \"telephone1\": \"nan\", \"telephone2\": \"nan\", \"photo\": \"\", \"ville\": \"Yaounde\", \"pays\": \"\", \"longitude\": 11.486668, \"latitude\": 3.844639, \"type\": \"garage\", \"creation_date\": 1726427371}, {\"id\": \"5dc92c3d-a681-4c86-8ca5-2a15d070510e:1726427849\", \"nom\": \"Fcnco Franco services\", \"email\": \"\", \"telephone1\": \"nan\", \"telephone2\": \"nan\", \"photo\": \"\", \"ville\": \"Yaounde\", \"pays\": \"\", \"longitude\": 11.447611, \"latitude\": 3.875416, \"type\": \"garage\", \"creation_date\": 1726427371}, {\"id\": \"603aa123-87a5-48a9-bf37-116727b95e90:1726427852\", \"nom\": \"M\\u00e9cano service rapide\", \"email\": \"\", \"telephone1\": \"656973250\", \"telephone2\": \"671962140\", \"photo\": \"\", \"ville\": \"Yaounde\", \"pays\": \"\", \"longitude\": 11.447611, \"latitude\": 3.875416, \"type\": \"garage\", \"creation_date\": 1726427371}, {\"id\": \"e8a9aa52-527d-425e-a407-f34eea1e0432:1726427854\", \"nom\": \"Charge de batterie\", \"email\": \"\", \"telephone1\": \"650377007\", \"telephone2\": \"nan\", \"photo\": \"\", \"ville\": \"Yaounde\", \"pays\": \"\", \"longitude\": 11.447611, \"latitude\": 3.875416, \"type\": \"garage\", \"creation_date\": 1726427371}, {\"id\": \"171256de-7c14-4b52-ac8b-2732fcfe76b8:1726427857\", \"nom\": \"Auto \\u00e9cole la gloire divine\", \"email\": \"\", \"telephone1\": \"670821893\", \"telephone2\": \"696248384\", \"photo\": \"\", \"ville\": \"Yaounde\", \"pays\": \"\", \"longitude\": 11.447611, \"latitude\": 3.875416, \"type\": \"garage\", \"creation_date\": 1726427371}, {\"id\": \"9d73f257-ad3e-479f-beb4-53b2c4fec3d0:1726427859\", \"nom\": \"Ventes des pneus chez billy\", \"email\": \"\", \"telephone1\": \"687079926\", \"telephone2\": \"671362799\", \"photo\": \"\", \"ville\": \"Yaounde\", \"pays\": \"\", \"longitude\": 11.447611, \"latitude\": 3.875416, \"type\": \"pneu\", \"creation_date\": 1726427371}, {\"id\": \"7756cec2-5163-4d23-8d26-8ad5faeb521e:1726427861\", \"nom\": \"Station Total Energies\", \"email\": \"\", \"telephone1\": \"nan\", \"telephone2\": \"nan\", \"photo\": \"\", \"ville\": \"Yaounde\", \"pays\": \"\", \"longitude\": 11.447611, \"latitude\": 3.875416, \"type\": \"garage\", \"creation_date\": 1726427371}, {\"id\": \"9e90f454-bc4b-4c37-83b3-e7a3bea23fd0:1726427864\", \"nom\": \"Et valy valy-mobile\", \"email\": \"\", \"telephone1\": \"677147731\", \"telephone2\": \"657046059\", \"photo\": \"\", \"ville\": \"Yaounde\", \"pays\": \"\", \"longitude\": 11.447611, \"latitude\": 3.875416, \"type\": \"garage\", \"creation_date\": 1726427371}, {\"id\": \"4500fe83-37cd-47b9-b0c8-85b75dbeee2b:1726427866\", \"nom\": \"Auto \\u00e9cole Daurel\", \"email\": \"\", \"telephone1\": \"677619188\", \"telephone2\": \"696925567\", \"photo\": \"\", \"ville\": \"Yaounde\", \"pays\": \"\", \"longitude\": 11.447611, \"latitude\": 3.875416, \"type\": \"garage\", \"creation_date\": 1726427371}, {\"id\": \"7714e92e-4133-4097-b5a1-01b3f1df39cf:1726427868\", \"nom\": \"Laverie moderne complexe vice man\", \"email\": \"\", \"telephone1\": \"675789090\", \"telephone2\": \"693452837\", \"photo\": \"\", \"ville\": \"Yaounde\", \"pays\": \"\", \"longitude\": 11.447611, \"latitude\": 3.875416, \"type\": \"garage\", \"creation_date\": 1726427371}, {\"id\": \"1a943b1a-a719-4fab-8276-888ab31e2b44:1726427871\", \"nom\": \"Station Ola energy\", \"email\": \"\", \"telephone1\": \"nan\", \"telephone2\": \"nan\", \"photo\": \"\", \"ville\": \"Yaounde\", \"pays\": \"\", \"longitude\": 11.447611, \"latitude\": 3.875416, \"type\": \"garage\", \"creation_date\": 1726427371}, {\"id\": \"8cd3290e-cb97-493c-b501-a601931a612d:1726427873\", \"nom\": \"Location de vehicles\", \"email\": \"2slit@gmail.com\", \"telephone1\": \"699582171\", \"telephone2\": \"670550626\", \"photo\": \"\", \"ville\": \"Yaounde\", \"pays\": \"\", \"longitude\": 11.447611, \"latitude\": 3.875416, \"type\": \"garage\", \"creation_date\": 1726427371}, {\"id\": \"7fc6aa72-9646-41a8-8f65-3749f559e79e:1726427876\", \"nom\": \"Laverie moderne le coin\", \"email\": \"\", \"telephone1\": \"nan\", \"telephone2\": \"nan\", \"photo\": \"\", \"ville\": \"Yaounde\", \"pays\": \"\", \"longitude\": 11.447611, \"latitude\": 3.875416, \"type\": \"garage\", \"creation_date\": 1726427371}, {\"id\": \"16d3aacc-abfd-40b3-91e8-62b0a03af00d:1726427878\", \"nom\": \"Tapisserie auto\", \"email\": \"\", \"telephone1\": \"652191696\", \"telephone2\": \"696962824\", \"photo\": \"\", \"ville\": \"Yaounde\", \"pays\": \"\", \"longitude\": 11.447611, \"latitude\": 3.875416, \"type\": \"garage\", \"creation_date\": 1726427371}, {\"id\": \"12e08331-33a3-49ec-b17e-f07207b5959f:1726427880\", \"nom\": \"Station MRS\", \"email\": \"\", \"telephone1\": \"nan\", \"telephone2\": \"nan\", \"photo\": \"\", \"ville\": \"Yaounde\", \"pays\": \"\", \"longitude\": 11.447611, \"latitude\": 3.875416, \"type\": \"garage\", \"creation_date\": 1726427371}, {\"id\": \"cd1731a1-38e8-4091-9af5-1287b21b1639:1726427882\", \"nom\": \"Station. Total\", \"email\": \"\", \"telephone1\": \"nan\", \"telephone2\": \"nan\", \"photo\": \"\", \"ville\": \"Yaounde\", \"pays\": \"\", \"longitude\": 11.447611, \"latitude\": 3.875416, \"type\": \"garage\", \"creation_date\": 1726427371}, {\"id\": \"0037e6e8-741d-4c5c-8a82-e8bcd2818922:1726427884\", \"nom\": \"Station Ola energy\", \"email\": \"\", \"telephone1\": \"nan\", \"telephone2\": \"nan\", \"photo\": \"\", \"ville\": \"Yaounde\", \"pays\": \"\", \"longitude\": 11.447611, \"latitude\": 3.875416, \"type\": \"garage\", \"creation_date\": 1726427371}, {\"id\": \"62f0a8c5-5c1a-4a4e-bba0-ac882724d237:1726427887\", \"nom\": \"Station MRS\", \"email\": \"\", \"telephone1\": \"nan\", \"telephone2\": \"nan\", \"photo\": \"\", \"ville\": \"Yaounde\", \"pays\": \"\", \"longitude\": 11.447611, \"latitude\": 3.875416, \"type\": \"garage\", \"creation_date\": 1726427371}, {\"id\": \"54211dfe-d2b8-408b-a3b3-ce0dc41d39c5:1726427889\", \"nom\": \"ZENITHE ASSURANCE\", \"email\": \"\", \"telephone1\": \"694311145\", \"telephone2\": \"nan\", \"photo\": \"\", \"ville\": \"Yaounde\", \"pays\": \"\", \"longitude\": 11.486835, \"latitude\": 3.843283, \"type\": \"assurance\", \"creation_date\": 1726427371}, {\"id\": \"75ed4727-b60d-4072-bba5-cb73dc3d3922:1726427891\", \"nom\": \"NDE AUTO\", \"email\": \"\", \"telephone1\": \"674286239\", \"telephone2\": \"6\", \"photo\": \"\", \"ville\": \"Yaounde\", \"pays\": \"\", \"longitude\": 11.48684, \"latitude\": 3.842717, \"type\": \"garage\", \"creation_date\": 1726427371}, {\"id\": \"395918a9-ca81-4ff0-ac4d-3449d767975f:1726427894\", \"nom\": \"AUTO \\u00c9COLE QUEBEC\", \"email\": \"\", \"telephone1\": \"670419704\", \"telephone2\": \"698557137\", \"photo\": \"\", \"ville\": \"Yaounde\", \"pays\": \"\", \"longitude\": 11.487954, \"latitude\": 3.840149, \"type\": \"garage\", \"creation_date\": 1726427371}, {\"id\": \"5e86a0e5-3092-4880-85ff-827635316e48:1726427896\", \"nom\": \"AUTO \\u00c9COLE HAUTE-SAVOIE\", \"email\": \"\", \"telephone1\": \"677779469\", \"telephone2\": \"697529852\", \"photo\": \"\", \"ville\": \"Yaounde\", \"pays\": \"\", \"longitude\": 11.48713, \"latitude\": 3.839437, \"type\": \"garage\", \"creation_date\": 1726427371}, {\"id\": \"8d3bc9f4-75cc-47a8-b2ba-d61940d57dfb:1726427898\", \"nom\": \"Assurance automobile\", \"email\": \"\", \"telephone1\": \"659184828\", \"telephone2\": \"698154322\", \"photo\": \"\", \"ville\": \"Yaounde\", \"pays\": \"\", \"longitude\": 11.521406, \"latitude\": 3.863639, \"type\": \"assurance\", \"creation_date\": 1726427371}, {\"id\": \"0f0037c0-e374-42e1-a0ef-dc1deae04ea5:1726427901\", \"nom\": \"Station Total Energies\", \"email\": \"\", \"telephone1\": \"nan\", \"telephone2\": \"nan\", \"photo\": \"\", \"ville\": \"Yaounde\", \"pays\": \"\", \"longitude\": 11.521406, \"latitude\": 3.863639, \"type\": \"garage\", \"creation_date\": 1726427371}, {\"id\": \"6351e71b-352b-4bdd-8789-7d270cc46bea:1726427903\", \"nom\": \"LALEYETE\", \"email\": \"\", \"telephone1\": \"672428717\", \"telephone2\": \"nan\", \"photo\": \"\", \"ville\": \"Yaounde\", \"pays\": \"\", \"longitude\": 11.486789, \"latitude\": 3.838927, \"type\": \"garage\", \"creation_date\": 1726427371}, {\"id\": \"ad06f2a8-7069-4ea1-9f3c-199f70b24759:1726427905\", \"nom\": \"L\\u00c9A FROID CLIMATISATION AUTO\", \"email\": \"\", \"telephone1\": \"677546679\", \"telephone2\": \"nan\", \"photo\": \"\", \"ville\": \"Yaounde\", \"pays\": \"\", \"longitude\": 11.486181, \"latitude\": 3.838278, \"type\": \"garage\", \"creation_date\": 1726427371}, {\"id\": \"cda78951-afe8-4203-8d5a-12c9f082c6cb:1726427907\", \"nom\": \"CASSE\", \"email\": \"\", \"telephone1\": \"677840570\", \"telephone2\": \"nan\", \"photo\": \"\", \"ville\": \"Yaounde\", \"pays\": \"\", \"longitude\": 11.485811, \"latitude\": 3.837859, \"type\": \"garage\", \"creation_date\": 1726427371}, {\"id\": \"fe02964c-fb4b-4de1-aca7-1006b3b3b414:1726427910\", \"nom\": \"BUSINESS LINK INTERNATIONAL\", \"email\": \"\", \"telephone1\": \"675339358\", \"telephone2\": \"nan\", \"photo\": \"\", \"ville\": \"Yaounde\", \"pays\": \"\", \"longitude\": 11.485331, \"latitude\": 3.837683, \"type\": \"garage\", \"creation_date\": 1726427371}, {\"id\": \"1a6d0ee9-519f-4a06-9bf8-81cbd65d638b:1726427912\", \"nom\": \"Station neptune\", \"email\": \"\", \"telephone1\": \"nan\", \"telephone2\": \"nan\", \"photo\": \"\", \"ville\": \"Yaounde\", \"pays\": \"\", \"longitude\": 11.540165, \"latitude\": 3.873843, \"type\": \"garage\", \"creation_date\": 1726427371}, {\"id\": \"40175643-c8cb-4b07-8ec3-27a91db3daac:1726427914\", \"nom\": \"ADPROM S.A\", \"email\": \"\", \"telephone1\": \"669003483\", \"telephone2\": \"nan\", \"photo\": \"\", \"ville\": \"Yaounde\", \"pays\": \"\", \"longitude\": 11.483512, \"latitude\": 3.835201, \"type\": \"assurance\", \"creation_date\": 1726427371}, {\"id\": \"084d454c-85d5-4ba9-b2be-cb129bcf1882:1726427917\", \"nom\": \"AFRICA SHELTER COMPANY SARL\", \"email\": \"africasheltacompany@yahoo.fr\", \"telephone1\": \"655272045\", \"telephone2\": \"nan\", \"photo\": \"\", \"ville\": \"Yaounde\", \"pays\": \"\", \"longitude\": 11.483329, \"latitude\": 3.834337, \"type\": \"garage\", \"creation_date\": 1726427371}, {\"id\": \"95c0ea34-e80f-4bad-b4a1-7c406a12398f:1726427919\", \"nom\": \"FABULOUS SPARK\", \"email\": \"\", \"telephone1\": \"655628324\", \"telephone2\": \"677144850\", \"photo\": \"\", \"ville\": \"Yaounde\", \"pays\": \"\", \"longitude\": 11.483281, \"latitude\": 3.833255, \"type\": \"garage\", \"creation_date\": 1726427371}, {\"id\": \"77f06247-2c7c-49b6-b629-cf2f7f1d3f08:1726427922\", \"nom\": \"CODEMAN AUTOMOBILE\", \"email\": \"\", \"telephone1\": \"672917553\", \"telephone2\": \"nan\", \"photo\": \"\", \"ville\": \"Yaounde\", \"pays\": \"\", \"longitude\": 11.487372, \"latitude\": 3.833261, \"type\": \"garage\", \"creation_date\": 1726427371}, {\"id\": \"b0708890-c829-4759-bcad-4d7ec57625c1:1726427924\", \"nom\": \"NEPTUNE OIL\", \"email\": \"\", \"telephone1\": \"nan\", \"telephone2\": \"nan\", \"photo\": \"\", \"ville\": \"Yaounde\", \"pays\": \"\", \"longitude\": 11.490968, \"latitude\": 3.833629, \"type\": \"station\", \"creation_date\": 1726427371}, {\"id\": \"fe69f239-bb0f-4a0b-a712-912e9950125d:1726427927\", \"nom\": \"Auto \\u00e9cole MBASSAM\", \"email\": \"\", \"telephone1\": \"nan\", \"telephone2\": \"nan\", \"photo\": \"\", \"ville\": \"Yaounde\", \"pays\": \"\", \"longitude\": 11.490872, \"latitude\": 3.833555, \"type\": \"garage\", \"creation_date\": 1726427371}, {\"id\": \"6c750571-ef6f-4661-a006-6c32d7a63170:1726427930\", \"nom\": \"JEDA CAR WASH\", \"email\": \"\", \"telephone1\": \"650062665\", \"telephone2\": \"695685972\", \"photo\": \"\", \"ville\": \"Yaounde\", \"pays\": \"\", \"longitude\": 11.490708, \"latitude\": 3.833514, \"type\": \"garage\", \"creation_date\": 1726427371}, {\"id\": \"5e1f5152-3b84-4428-b7d5-d88927a12bd9:1726427934\", \"nom\": \"CHAMPION SECURITY SARL\", \"email\": \"\", \"telephone1\": \"658001263\", \"telephone2\": \"653454329\", \"photo\": \"\", \"ville\": \"Yaounde\", \"pays\": \"\", \"longitude\": 11.491111, \"latitude\": 3.834003, \"type\": \"garage\", \"creation_date\": 1726427371}, {\"id\": \"93f1bfb6-7b52-4d3e-a621-af6c00558abe:1726427938\", \"nom\": \"MICHELIN\", \"email\": \"\", \"telephone1\": \"681393697\", \"telephone2\": \"nan\", \"photo\": \"\", \"ville\": \"Yaounde\", \"pays\": \"\", \"longitude\": 11.491766, \"latitude\": 3.834649, \"type\": \"pneu\", \"creation_date\": 1726427371}, {\"id\": \"bc17cf34-4359-4ee6-a54a-92e9ecc77f4b:1726427940\", \"nom\": \"MANE GROUP SARL, INTERNATIONAL DRIVING SCHOOL\", \"email\": \"\", \"telephone1\": \"nan\", \"telephone2\": \"nan\", \"photo\": \"\", \"ville\": \"Yaounde\", \"pays\": \"\", \"longitude\": 11.493292, \"latitude\": 3.835302, \"type\": \"garage\", \"creation_date\": 1726427371}, {\"id\": \"12f679f4-6407-4fa4-982a-7c594a6ebc3b:1726427943\", \"nom\": \"TOTALENERGIES\", \"email\": \"\", \"telephone1\": \"nan\", \"telephone2\": \"nan\", \"photo\": \"\", \"ville\": \"Yaounde\", \"pays\": \"\", \"longitude\": 11.494351, \"latitude\": 3.834224, \"type\": \"station\", \"creation_date\": 1726427371}, {\"id\": \"d968d54f-486c-45b6-b99b-a3292bac1a51:1726427946\", \"nom\": \"AUTO \\u00c9COLE BERCY\", \"email\": \"\", \"telephone1\": \"675041436\", \"telephone2\": \"697174701\", \"photo\": \"\", \"ville\": \"Yaounde\", \"pays\": \"\", \"longitude\": 11.494219, \"latitude\": 3.834326, \"type\": \"garage\", \"creation_date\": 1726427371}, {\"id\": \"7d8ff7db-ec5a-4809-9a7e-bcdeb85a4492:1726427948\", \"nom\": \"CONFEX OIL\", \"email\": \"\", \"telephone1\": \"nan\", \"telephone2\": \"nan\", \"photo\": \"\", \"ville\": \"Yaounde\", \"pays\": \"\", \"longitude\": 11.493204, \"latitude\": 3.83048, \"type\": \"station\", \"creation_date\": 1726427371}, {\"id\": \"9c3d5b6a-eddd-479f-ba3d-738eaf10e505:1726427950\", \"nom\": \"ANDELLA\", \"email\": \"\", \"telephone1\": \"650356762\", \"telephone2\": \"nan\", \"photo\": \"\", \"ville\": \"Yaounde\", \"pays\": \"\", \"longitude\": 11.492766, \"latitude\": 3.828852, \"type\": \"pneu\", \"creation_date\": 1726427371}, {\"id\": \"62d0f471-2fac-4853-bf93-788afb683fd0:1726427953\", \"nom\": \"ETS EMMALA AUTO\", \"email\": \"\", \"telephone1\": \"651499960\", \"telephone2\": \"nan\", \"photo\": \"\", \"ville\": \"Yaounde\", \"pays\": \"\", \"longitude\": 11.492766, \"latitude\": 3.828851, \"type\": \"garage\", \"creation_date\": 1726427371}, {\"id\": \"b1e665b5-94ef-407d-816a-881d436ec0cc:1726427955\", \"nom\": \"LAVERIES HAUTE PRESSION\", \"email\": \"\", \"telephone1\": \"699383804\", \"telephone2\": \"nan\", \"photo\": \"\", \"ville\": \"Yaounde\", \"pays\": \"\", \"longitude\": 11.492698, \"latitude\": 3.828205, \"type\": \"garage\", \"creation_date\": 1726427371}, {\"id\": \"47f18ffd-a404-4d53-bf95-07d50c623f10:1726427958\", \"nom\": \"AUTO \\u00c9COLE DES NATION\", \"email\": \"\", \"telephone1\": \"699512894\", \"telephone2\": \"nan\", \"photo\": \"\", \"ville\": \"Yaounde\", \"pays\": \"\", \"longitude\": 11.491791, \"latitude\": 3.825989, \"type\": \"garage\", \"creation_date\": 1726427371}, {\"id\": \"3087546f-8d4e-4bf9-b00d-adbd644c1fc0:1726427960\", \"nom\": \"AUTO \\u00c9COLE BILINGUE LA PERFECTION\", \"email\": \"\", \"telephone1\": \"699376498\", \"telephone2\": \"nan\", \"photo\": \"\", \"ville\": \"Yaounde\", \"pays\": \"\", \"longitude\": 11.489681, \"latitude\": 3.823276, \"type\": \"garage\", \"creation_date\": 1726427371}, {\"id\": \"0a29a4db-2733-47ea-a142-b38c0ae91f1a:1726427962\", \"nom\": \"PRINCE AUTOMOBILE\", \"email\": \"\", \"telephone1\": \"nan\", \"telephone2\": \"nan\", \"photo\": \"\", \"ville\": \"Yaounde\", \"pays\": \"\", \"longitude\": 11.488989, \"latitude\": 3.822366, \"type\": \"garage\", \"creation_date\": 1726427371}, {\"id\": \"56328be2-69f5-4451-b7bc-0f4cbe3023c7:1726427965\", \"nom\": \"AUTO \\u00c9COLE KASSAP\", \"email\": \"\", \"telephone1\": \"677518364\", \"telephone2\": \"699708793\", \"photo\": \"\", \"ville\": \"Yaounde\", \"pays\": \"\", \"longitude\": 11.489289, \"latitude\": 3.81641, \"type\": \"garage\", \"creation_date\": 1726427371}, {\"id\": \"9e92314b-ad78-4292-8e3d-5573369463e3:1726427967\", \"nom\": \"TRADEX\", \"email\": \"\", \"telephone1\": \"nan\", \"telephone2\": \"nan\", \"photo\": \"\", \"ville\": \"Yaounde\", \"pays\": \"\", \"longitude\": 11.489285, \"latitude\": 3.81641, \"type\": \"station\", \"creation_date\": 1726427371}, {\"id\": \"76ce9d97-75e7-4685-9313-e8e7e81e3b6f:1726427969\", \"nom\": \"AUTO \\u00c9COLE CANADIENNE\", \"email\": \"\", \"telephone1\": \"694326582\", \"telephone2\": \"nan\", \"photo\": \"\", \"ville\": \"Yaounde\", \"pays\": \"\", \"longitude\": 11.489657, \"latitude\": 3.816206, \"type\": \"garage\", \"creation_date\": 1726427371}, {\"id\": \"410e103d-5fc5-4a4d-a4f3-6c18cb39d034:1726427972\", \"nom\": \"AUTO \\u00c9COLE BILINGUE DIVINE 4.0\", \"email\": \"\", \"telephone1\": \"650904939\", \"telephone2\": \"nan\", \"photo\": \"\", \"ville\": \"Yaounde\", \"pays\": \"\", \"longitude\": 11.491006, \"latitude\": 3.816459, \"type\": \"garage\", \"creation_date\": 1726427371}, {\"id\": \"0b80ae20-e789-4018-a8a2-ab0213afe1d0:1726427974\", \"nom\": \"GARAGE H AUTO\", \"email\": \"\", \"telephone1\": \"693691305\", \"telephone2\": \"nan\", \"photo\": \"\", \"ville\": \"Yaounde\", \"pays\": \"\", \"longitude\": 11.491005, \"latitude\": 3.816459, \"type\": \"garage\", \"creation_date\": 1726427371}, {\"id\": \"bc2e0c3d-4d04-4199-bbd8-c6108c6a0015:1726427977\", \"nom\": \"ETS WILLIAM\", \"email\": \"\", \"telephone1\": \"671046585\", \"telephone2\": \"nan\", \"photo\": \"\", \"ville\": \"Yaounde\", \"pays\": \"\", \"longitude\": 11.493706, \"latitude\": 3.817425, \"type\": \"garage\", \"creation_date\": 1726427371}, {\"id\": \"9f0cb62b-c02d-45d8-8792-1a82e0f205cc:1726427979\", \"nom\": \"GULFIN\", \"email\": \"\", \"telephone1\": \"nan\", \"telephone2\": \"nan\", \"photo\": \"\", \"ville\": \"Yaounde\", \"pays\": \"\", \"longitude\": 11.496349, \"latitude\": 3.817902, \"type\": \"station\", \"creation_date\": 1726427371}, {\"id\": \"50474553-1245-417f-998d-fe81139df731:1726427982\", \"nom\": \"GULFIN\", \"email\": \"\", \"telephone1\": \"nan\", \"telephone2\": \"nan\", \"photo\": \"\", \"ville\": \"Yaounde\", \"pays\": \"\", \"longitude\": 11.50196, \"latitude\": 3.823257, \"type\": \"station\", \"creation_date\": 1726427371}, {\"id\": \"de41de02-b0b8-471d-b3f8-54659797f2e0:1726427984\", \"nom\": \"CHEZ NIKO\", \"email\": \"\", \"telephone1\": \"676900426\", \"telephone2\": \"nan\", \"photo\": \"\", \"ville\": \"Yaounde\", \"pays\": \"\", \"longitude\": 11.504532, \"latitude\": 3.829596, \"type\": \"garage\", \"creation_date\": 1726427371}, {\"id\": \"1e428dcb-cb9a-4265-b36f-fc3886711c7c:1726427987\", \"nom\": \"ETS SAMY SERVICES\", \"email\": \"\", \"telephone1\": \"696346640\", \"telephone2\": \"nan\", \"photo\": \"\", \"ville\": \"Yaounde\", \"pays\": \"\", \"longitude\": 11.505753, \"latitude\": 3.831817, \"type\": \"garage\", \"creation_date\": 1726427371}, {\"id\": \"11578d35-4a2d-4128-a121-f2de7bce7ea4:1726427989\", \"nom\": \"AUTO \\u00c9COLE CHRISTIENNE\", \"email\": \"\", \"telephone1\": \"670102066\", \"telephone2\": \"nan\", \"photo\": \"\", \"ville\": \"Yaounde\", \"pays\": \"\", \"longitude\": 11.506174, \"latitude\": 3.832639, \"type\": \"garage\", \"creation_date\": 1726427371}, {\"id\": \"a3b3ca10-e44e-4f5e-bd94-ec65b7866455:1726427992\", \"nom\": \"H\\u00f4pital de district D'efoulan\", \"email\": \"\", \"telephone1\": \"nan\", \"telephone2\": \"nan\", \"photo\": \"\", \"ville\": \"Yaounde\", \"pays\": \"\", \"longitude\": 11.50653, \"latitude\": 3.834742, \"type\": \"garage\", \"creation_date\": 1726427371}, {\"id\": \"0cdd3723-0d47-4cb8-b2a1-7c756ae653e2:1726427994\", \"nom\": \"Max auto\", \"email\": \"\", \"telephone1\": \"674463955\", \"telephone2\": \"nan\", \"photo\": \"\", \"ville\": \"Yaounde\", \"pays\": \"\", \"longitude\": 11.507132, \"latitude\": 3.837669, \"type\": \"pneu\", \"creation_date\": 1726427371}, {\"id\": \"ee3750d1-7fd0-48a3-b8be-37d79b86fb74:1726427996\", \"nom\": \"NEPTUNE OIL\", \"email\": \"\", \"telephone1\": \"nan\", \"telephone2\": \"nan\", \"photo\": \"\", \"ville\": \"Yaounde\", \"pays\": \"\", \"longitude\": 11.507105, \"latitude\": 3.838056, \"type\": \"station\", \"creation_date\": 1726427371}, {\"id\": \"b03905b5-8fdd-4f42-a02d-837c7bee9e01:1726427999\", \"nom\": \"NIROUS AUTOMOBILE\", \"email\": \"\", \"telephone1\": \"698554343\", \"telephone2\": \"nan\", \"photo\": \"\", \"ville\": \"Yaounde\", \"pays\": \"\", \"longitude\": 11.501841, \"latitude\": 3.844182, \"type\": \"station\", \"creation_date\": 1726427371}, {\"id\": \"cfdbc0a4-6545-4f11-b2ea-3ceb691f35fc:1726428001\", \"nom\": \"TRADEX\", \"email\": \"\", \"telephone1\": \"nan\", \"telephone2\": \"nan\", \"photo\": \"\", \"ville\": \"Yaounde\", \"pays\": \"\", \"longitude\": 11.501482, \"latitude\": 3.844087, \"type\": \"station\", \"creation_date\": 1726427371}, {\"id\": \"5a0156d3-5b13-4720-a988-b313ddb5a861:1726428003\", \"nom\": \"DINASAT\", \"email\": \"\", \"telephone1\": \"nan\", \"telephone2\": \"nan\", \"photo\": \"\", \"ville\": \"Yaounde\", \"pays\": \"\", \"longitude\": 11.500963, \"latitude\": 3.844351, \"type\": \"garage\", \"creation_date\": 1726427371}, {\"id\": \"dac422de-87de-4c2c-ac42-b9fa097718ce:1726428006\", \"nom\": \"AUTOBILAN\", \"email\": \"\", \"telephone1\": \"nan\", \"telephone2\": \"nan\", \"photo\": \"\", \"ville\": \"Yaounde\", \"pays\": \"\", \"longitude\": 11.496648, \"latitude\": 3.847159, \"type\": \"garage\", \"creation_date\": 1726427371}, {\"id\": \"85ce89b3-abf7-45aa-89f1-a9bc7d79c3d1:1726428008\", \"nom\": \"Ryan star auto gadgets\", \"email\": \"\", \"telephone1\": \"681730423\", \"telephone2\": \"568097581\", \"photo\": \"\", \"ville\": \"Yaounde\", \"pays\": \"\", \"longitude\": 11.53382, \"latitude\": 3.86538, \"type\": \"garage\", \"creation_date\": 1726427371}, {\"id\": \"9e4a9b3e-7fc2-4473-a80d-10b950a997c4:1726428011\", \"nom\": \"Laverie\", \"email\": \"\", \"telephone1\": \"nan\", \"telephone2\": \"nan\", \"photo\": \"\", \"ville\": \"Yaounde\", \"pays\": \"\", \"longitude\": 11.534035, \"latitude\": 3.865082, \"type\": \"garage\", \"creation_date\": 1726427371}, {\"id\": \"87c8271d-9231-483f-83ef-a5159e1574d4:1726428013\", \"nom\": \"Et MC  top security\", \"email\": \"marceltegue@yahoo.fr\", \"telephone1\": \"675887186\", \"telephone2\": \"696816635\", \"photo\": \"\", \"ville\": \"Yaounde\", \"pays\": \"\", \"longitude\": 11.53234, \"latitude\": 3.865281, \"type\": \"garage\", \"creation_date\": 1726427371}, {\"id\": \"42af58e2-d4e9-49bb-924f-f1b425fbeca4:1726428015\", \"nom\": \"Ets King  major\", \"email\": \"etskingmajor@gmail.com\", \"telephone1\": \"699525950\", \"telephone2\": \"679457957\", \"photo\": \"\", \"ville\": \"Yaounde\", \"pays\": \"\", \"longitude\": 11.532626, \"latitude\": 3.86499, \"type\": \"pneu\", \"creation_date\": 1726427371}, {\"id\": \"8f2be9bc-1194-4e9c-89d2-7da711d2e5c8:1726428018\", \"nom\": \"Derico star international business\", \"email\": \"\", \"telephone1\": \"681730423\", \"telephone2\": \"658097581\", \"photo\": \"\", \"ville\": \"Yaounde\", \"pays\": \"\", \"longitude\": 11.533317, \"latitude\": 3.865264, \"type\": \"garage\", \"creation_date\": 1726427371}, {\"id\": \"e764bab9-f47b-4821-aae9-bb382ed69d1e:1726428020\", \"nom\": \"Tapis cenas\", \"email\": \"\", \"telephone1\": \"655569309\", \"telephone2\": \"nan\", \"photo\": \"\", \"ville\": \"Yaounde\", \"pays\": \"\", \"longitude\": 11.532342, \"latitude\": 3.865281, \"type\": \"garage\", \"creation_date\": 1726427371}, {\"id\": \"1587252e-fd67-4325-9319-5d781bdc3611:1726428023\", \"nom\": \"Philip Auto Benz\", \"email\": \"\", \"telephone1\": \"683869860\", \"telephone2\": \"698424977\", \"photo\": \"\", \"ville\": \"Yaounde\", \"pays\": \"\", \"longitude\": 11.532748, \"latitude\": 3.865217, \"type\": \"garage\", \"creation_date\": 1726427371}, {\"id\": \"4ad4c95b-7254-4b95-a7be-74fee67368e8:1726428025\", \"nom\": \"Ets city auto capitale oil\", \"email\": \"\", \"telephone1\": \"654883544\", \"telephone2\": \"nan\", \"photo\": \"\", \"ville\": \"Yaounde\", \"pays\": \"\", \"longitude\": 11.532336, \"latitude\": 3.865282, \"type\": \"garage\", \"creation_date\": 1726427371}, {\"id\": \"a2d8076b-8058-4807-b9d8-c0983bd9aac7:1726428028\", \"nom\": \"Ets \\u00c9lie Mazda\", \"email\": \"\", \"telephone1\": \"677594663\", \"telephone2\": \"698568971\", \"photo\": \"\", \"ville\": \"Yaounde\", \"pays\": \"\", \"longitude\": 11.53404, \"latitude\": 3.865135, \"type\": \"garage\", \"creation_date\": 1726427371}, {\"id\": \"cddc97f5-58cc-4517-9be0-fae788169b88:1726428030\", \"nom\": \"Any engine cyril caisse auto\", \"email\": \"\", \"telephone1\": \"679283528\", \"telephone2\": \"nan\", \"photo\": \"\", \"ville\": \"Yaounde\", \"pays\": \"\", \"longitude\": 11.53404, \"latitude\": 3.865135, \"type\": \"garage\", \"creation_date\": 1726427371}, {\"id\": \"f39e3748-b0b7-4ea0-9f31-72350846b29f:1726428033\", \"nom\": \"Ets bolingo auto service\", \"email\": \"\", \"telephone1\": \"697750267\", \"telephone2\": \"nan\", \"photo\": \"\", \"ville\": \"Yaounde\", \"pays\": \"\", \"longitude\": 11.529175, \"latitude\": 3.86607, \"type\": \"garage\", \"creation_date\": 1726427371}, {\"id\": \"38d4d156-1bd8-4103-9809-af1d10a82e91:1726428035\", \"nom\": \"Hamadou auto\", \"email\": \"\", \"telephone1\": \"677467895\", \"telephone2\": \"nan\", \"photo\": \"\", \"ville\": \"Yaounde\", \"pays\": \"\", \"longitude\": 11.531064, \"latitude\": 3.865348, \"type\": \"garage\", \"creation_date\": 1726427371}, {\"id\": \"d3a31b1c-bbc2-4af0-b390-7511d4ae6e83:1726428037\", \"nom\": \"Solex global auto\", \"email\": \"\", \"telephone1\": \"nan\", \"telephone2\": \"nan\", \"photo\": \"\", \"ville\": \"Yaounde\", \"pays\": \"\", \"longitude\": 11.531266, \"latitude\": 3.865269, \"type\": \"garage\", \"creation_date\": 1726427371}, {\"id\": \"7a8a7490-8049-4841-8ec5-862ac9ddc6cf:1726428040\", \"nom\": \"Fotso jourdon\", \"email\": \"\", \"telephone1\": \"697760920\", \"telephone2\": \"nan\", \"photo\": \"\", \"ville\": \"Yaounde\", \"pays\": \"\", \"longitude\": 11.531266, \"latitude\": 3.865269, \"type\": \"garage\", \"creation_date\": 1726427371}, {\"id\": \"8a3c4ba6-7838-49f0-985b-9a424826f914:1726428042\", \"nom\": \"Ets G Pato\", \"email\": \"\", \"telephone1\": \"674308553\", \"telephone2\": \"699368265\", \"photo\": \"\", \"ville\": \"Yaounde\", \"pays\": \"\", \"longitude\": 11.529822, \"latitude\": 3.86582, \"type\": \"garage\", \"creation_date\": 1726427371}, {\"id\": \"66c568b0-4e16-41be-84bf-696426670c8b:1726428045\", \"nom\": \"Ets Haris Motor\", \"email\": \"\", \"telephone1\": \"696876695\", \"telephone2\": \"nan\", \"photo\": \"\", \"ville\": \"Yaounde\", \"pays\": \"\", \"longitude\": 11.529173, \"latitude\": 3.866068, \"type\": \"garage\", \"creation_date\": 1726427371}, {\"id\": \"595a6371-a88b-4feb-821c-7f9b6d4e55c0:1726428047\", \"nom\": \"Gadget automobile inno\", \"email\": \"\", \"telephone1\": \"699704359\", \"telephone2\": \"673827544\", \"photo\": \"\", \"ville\": \"Yaounde\", \"pays\": \"\", \"longitude\": 11.529183, \"latitude\": 3.86607, \"type\": \"garage\", \"creation_date\": 1726427371}, {\"id\": \"2e9eb723-52a0-40de-ace0-c98f8277ea0f:1726428050\", \"nom\": \"Nadico auto plaza\", \"email\": \"\", \"telephone1\": \"693088206\", \"telephone2\": \"673431131\", \"photo\": \"\", \"ville\": \"Yaounde\", \"pays\": \"\", \"longitude\": 11.529174, \"latitude\": 3.866067, \"type\": \"garage\", \"creation_date\": 1726427371}, {\"id\": \"7f130cfd-f1b6-45c0-8bcd-b6049424a92a:1726428052\", \"nom\": \"Pro pi\\u00e8ces auto\", \"email\": \"\", \"telephone1\": \"677624395\", \"telephone2\": \"nan\", \"photo\": \"\", \"ville\": \"Yaounde\", \"pays\": \"\", \"longitude\": 11.529174, \"latitude\": 3.866067, \"type\": \"garage\", \"creation_date\": 1726427371}, {\"id\": \"4abc34a2-9683-4461-aa96-2e88dbe90d25:1726428054\", \"nom\": \"Ets Chica auto\", \"email\": \"\", \"telephone1\": \"nan\", \"telephone2\": \"nan\", \"photo\": \"\", \"ville\": \"Yaounde\", \"pays\": \"\", \"longitude\": 11.530047, \"latitude\": 3.864909, \"type\": \"garage\", \"creation_date\": 1726427371}, {\"id\": \"87387fc5-3ff4-4215-9f3c-5acfef611799:1726428057\", \"nom\": \"Franklin auto gsm\", \"email\": \"\", \"telephone1\": \"698289585\", \"telephone2\": \"674733433\", \"photo\": \"\", \"ville\": \"Yaounde\", \"pays\": \"\", \"longitude\": 11.530047, \"latitude\": 3.864909, \"type\": \"garage\", \"creation_date\": 1726427371}, {\"id\": \"41ee4f29-0cb7-4cfc-a86b-9cadc98dc9b0:1726428060\", \"nom\": \"Ets Tochecam\", \"email\": \"\", \"telephone1\": \"699734459\", \"telephone2\": \"670266138\", \"photo\": \"\", \"ville\": \"Yaounde\", \"pays\": \"\", \"longitude\": 11.530047, \"latitude\": 3.864909, \"type\": \"pneu\", \"creation_date\": 1726427371}, {\"id\": \"6840eef9-45e6-4ba7-8095-863ba28c4827:1726428062\", \"nom\": \"OLYX OIL\", \"email\": \"\", \"telephone1\": \"nan\", \"telephone2\": \"nan\", \"photo\": \"\", \"ville\": \"Yaounde\", \"pays\": \"\", \"longitude\": 11.495358, \"latitude\": 3.849269, \"type\": \"station\", \"creation_date\": 1726427371}, {\"id\": \"6ecffd31-a803-45cc-acb4-ad350a8d6ef2:1726428064\", \"nom\": \"PATSON AUTO\", \"email\": \"\", \"telephone1\": \"699\", \"telephone2\": \"nan\", \"photo\": \"\", \"ville\": \"Yaounde\", \"pays\": \"\", \"longitude\": 11.494771, \"latitude\": 3.849552, \"type\": \"garage\", \"creation_date\": 1726427371}, {\"id\": \"e685259c-39e2-4412-ad5f-d21ac2584fc9:1726428067\", \"nom\": \"FROID\", \"email\": \"\", \"telephone1\": \"699320637\", \"telephone2\": \"nan\", \"photo\": \"\", \"ville\": \"Yaounde\", \"pays\": \"\", \"longitude\": 11.494049, \"latitude\": 3.849812, \"type\": \"garage\", \"creation_date\": 1726427371}, {\"id\": \"130afcfb-2f61-4173-948c-7c3d34eb214b:1726428069\", \"nom\": \"CANADIAN DRIVING SCHOOL\", \"email\": \"\", \"telephone1\": \"nan\", \"telephone2\": \"nan\", \"photo\": \"\", \"ville\": \"Yaounde\", \"pays\": \"\", \"longitude\": 11.493304, \"latitude\": 3.851974, \"type\": \"garage\", \"creation_date\": 1726427371}, {\"id\": \"797070c5-9291-4f7a-9576-0e1924474e8a:1726428071\", \"nom\": \"ONE LOVE AUTO DECORATION\", \"email\": \"\", \"telephone1\": \"nan\", \"telephone2\": \"nan\", \"photo\": \"\", \"ville\": \"Yaounde\", \"pays\": \"\", \"longitude\": 11.493274, \"latitude\": 3.852293, \"type\": \"garage\", \"creation_date\": 1726427371}, {\"id\": \"f927836b-3cfb-47b4-9e7a-5a47f69b823b:1726428074\", \"nom\": \"SILICON TECHNOLOGY SYSTEM\", \"email\": \"\", \"telephone1\": \"633198416\", \"telephone2\": \"620268471\", \"photo\": \"\", \"ville\": \"Yaounde\", \"pays\": \"\", \"longitude\": 11.493218, \"latitude\": 3.855684, \"type\": \"garage\", \"creation_date\": 1726427371}, {\"id\": \"6119d45a-3f4e-48b7-ae89-ee56d444b0d9:1726428076\", \"nom\": \"Ets TAMBAH\", \"email\": \"\", \"telephone1\": \"678587921\", \"telephone2\": \"nan\", \"photo\": \"\", \"ville\": \"Yaounde\", \"pays\": \"\", \"longitude\": 11.493132, \"latitude\": 3.855949, \"type\": \"pneu\", \"creation_date\": 1726427371}, {\"id\": \"854b66cb-fd80-4097-ab26-c56aed34ef80:1726428079\", \"nom\": \"AUTO \\u00c9COLE PLAN\\u00c8TE\", \"email\": \"\", \"telephone1\": \"699117661\", \"telephone2\": \"nan\", \"photo\": \"\", \"ville\": \"Yaounde\", \"pays\": \"\", \"longitude\": 11.492685, \"latitude\": 3.857194, \"type\": \"garage\", \"creation_date\": 1726427371}, {\"id\": \"216def7a-9b8a-414d-a9d5-6e81e43cda92:1726428081\", \"nom\": \"SABUM ASSURANCE\", \"email\": \"\", \"telephone1\": \"nan\", \"telephone2\": \"nan\", \"photo\": \"\", \"ville\": \"Yaounde\", \"pays\": \"\", \"longitude\": 11.492957, \"latitude\": 3.856575, \"type\": \"assurance\", \"creation_date\": 1726427371}, {\"id\": \"d8f5bbe9-117d-4fb8-acb2-742415b60fc0:1726428084\", \"nom\": \"AUTO \\u00c9COLE I-VISA\", \"email\": \"\", \"telephone1\": \"677521098\", \"telephone2\": \"nan\", \"photo\": \"\", \"ville\": \"Yaounde\", \"pays\": \"\", \"longitude\": 11.493394, \"latitude\": 3.860361, \"type\": \"garage\", \"creation_date\": 1726427371}, {\"id\": \"0afbef03-5526-4270-8be4-4f4ce7b34121:1726428086\", \"nom\": \"Dagon automobile\", \"email\": \"\", \"telephone1\": \"677777038\", \"telephone2\": \"693328912\", \"photo\": \"\", \"ville\": \"Yaounde\", \"pays\": \"\", \"longitude\": 11.476734, \"latitude\": 3.826308, \"type\": \"garage\", \"creation_date\": 1726427371}, {\"id\": \"81f0c853-f999-46a4-9246-f927c52fff13:1726428089\", \"nom\": \"Point de service jouvence auto\", \"email\": \"\", \"telephone1\": \"675610271\", \"telephone2\": \"nan\", \"photo\": \"\", \"ville\": \"Yaounde\", \"pays\": \"\", \"longitude\": 11.476734, \"latitude\": 3.826308, \"type\": \"garage\", \"creation_date\": 1726427371}, {\"id\": \"e897abea-da3f-4795-aca6-8600df05fd37:1726428091\", \"nom\": \"Station Total Energies\", \"email\": \"\", \"telephone1\": \"nan\", \"telephone2\": \"nan\", \"photo\": \"\", \"ville\": \"Yaounde\", \"pays\": \"\", \"longitude\": 11.476734, \"latitude\": 3.826308, \"type\": \"garage\", \"creation_date\": 1726427371}, {\"id\": \"92f9adfe-2d89-4da6-b1d1-bc9fb8be2711:1726428093\", \"nom\": \"Laverie moderne\", \"email\": \"\", \"telephone1\": \"nan\", \"telephone2\": \"nan\", \"photo\": \"\", \"ville\": \"Yaounde\", \"pays\": \"\", \"longitude\": 11.476734, \"latitude\": 3.826308, \"type\": \"garage\", \"creation_date\": 1726427371}, {\"id\": \"7089b365-a104-4288-9208-c924662d71e0:1726428096\", \"nom\": \"Frazassur assurance\", \"email\": \"\", \"telephone1\": \"696761633\", \"telephone2\": \"672902864\", \"photo\": \"\", \"ville\": \"Yaounde\", \"pays\": \"\", \"longitude\": 11.476734, \"latitude\": 3.826308, \"type\": \"assurance\", \"creation_date\": 1726427371}, {\"id\": \"8039d59e-6fbf-4afe-a000-953bf81a2f60:1726428098\", \"nom\": \"Clinton car wash and services\", \"email\": \"\", \"telephone1\": \"nan\", \"telephone2\": \"nan\", \"photo\": \"\", \"ville\": \"Yaounde\", \"pays\": \"\", \"longitude\": 11.476734, \"latitude\": 3.826308, \"type\": \"garage\", \"creation_date\": 1726427371}, {\"id\": \"f59e8c3b-00d8-495f-a019-a1b8f4529e1d:1726428100\", \"nom\": \"Espace laverie moderne\", \"email\": \"\", \"telephone1\": \"670209520\", \"telephone2\": \"nan\", \"photo\": \"\", \"ville\": \"Yaounde\", \"pays\": \"\", \"longitude\": 11.476734, \"latitude\": 3.826308, \"type\": \"garage\", \"creation_date\": 1726427371}, {\"id\": \"37dd31ea-72cc-499d-9612-400d79892c70:1726428103\", \"nom\": \"Wilson auto et fils\", \"email\": \"\", \"telephone1\": \"677217728\", \"telephone2\": \"nan\", \"photo\": \"\", \"ville\": \"Yaounde\", \"pays\": \"\", \"longitude\": 11.476734, \"latitude\": 3.826308, \"type\": \"garage\", \"creation_date\": 1726427371}, {\"id\": \"fb7c8f84-84c9-4846-8a28-8eb1eb51c15f:1726428105\", \"nom\": \"Auto \\u00e9cole Franco-Camerounaise\", \"email\": \"\", \"telephone1\": \"695 158622\", \"telephone2\": \"650477193\", \"photo\": \"\", \"ville\": \"Yaounde\", \"pays\": \"\", \"longitude\": 11.476734, \"latitude\": 3.826308, \"type\": \"garage\", \"creation_date\": 1726427371}, {\"id\": \"942f4ab0-8d58-4877-af1b-7d32f30558a4:1726428108\", \"nom\": \"Step momo et fils\", \"email\": \"\", \"telephone1\": \"676662125\", \"telephone2\": \"nan\", \"photo\": \"\", \"ville\": \"Yaounde\", \"pays\": \"\", \"longitude\": 11.476734, \"latitude\": 3.826308, \"type\": \"pneu\", \"creation_date\": 1726427371}, {\"id\": \"fa4a472a-33a2-4c3f-b2ed-705de05dc55b:1726428111\", \"nom\": \"Kitassurance\", \"email\": \"kitassur85@yahoo.com\", \"telephone1\": \"696340650\", \"telephone2\": \"670753576\", \"photo\": \"\", \"ville\": \"Yaounde\", \"pays\": \"\", \"longitude\": 11.476734, \"latitude\": 3.826308, \"type\": \"assurance\", \"creation_date\": 1726427371}, {\"id\": \"2a6ddaaf-19e0-414c-8b91-133aa05bd3cb:1726428113\", \"nom\": \"Laverie moderne jouvence\", \"email\": \"\", \"telephone1\": \"nan\", \"telephone2\": \"nan\", \"photo\": \"\", \"ville\": \"Yaounde\", \"pays\": \"\", \"longitude\": 11.476734, \"latitude\": 3.826308, \"type\": \"garage\", \"creation_date\": 1726427371}, {\"id\": \"41339ab7-2fb7-43de-851e-8bb416f54ef5:1726428116\", \"nom\": \"Assurance G\\u00e9n\\u00e9rales du Cameroun\", \"email\": \"\", \"telephone1\": \"677830199\", \"telephone2\": \"nan\", \"photo\": \"\", \"ville\": \"Yaounde\", \"pays\": \"\", \"longitude\": 11.476734, \"latitude\": 3.826308, \"type\": \"assurance\", \"creation_date\": 1726427371}, {\"id\": \"3dda3df8-fb05-49b5-a6ab-110d37ca4eb9:1726428118\", \"nom\": \"Station Tradex\", \"email\": \"\", \"telephone1\": \"nan\", \"telephone2\": \"nan\", \"photo\": \"\", \"ville\": \"Yaounde\", \"pays\": \"\", \"longitude\": 11.476734, \"latitude\": 3.826308, \"type\": \"garage\", \"creation_date\": 1726427371}, {\"id\": \"e5fe7a85-84db-4de8-9c97-8eaa67925804:1726428120\", \"nom\": \"Assurance intercontinentale\", \"email\": \"\", \"telephone1\": \"655929033\", \"telephone2\": \"690586316\", \"photo\": \"\", \"ville\": \"Yaounde\", \"pays\": \"\", \"longitude\": 11.476734, \"latitude\": 3.826308, \"type\": \"assurance\", \"creation_date\": 1726427371}, {\"id\": \"5c2c7e1e-1983-4db4-9ae7-a2f68d0c84fa:1726428122\", \"nom\": \"Ann\\u00e9te automobile\", \"email\": \"\", \"telephone1\": \"654266834\", \"telephone2\": \"695441494\", \"photo\": \"\", \"ville\": \"Yaounde\", \"pays\": \"\", \"longitude\": 11.476734, \"latitude\": 3.826308, \"type\": \"garage\", \"creation_date\": 1726427371}, {\"id\": \"15fea2f7-d3b2-41dd-b036-1c9c85960805:1726428125\", \"nom\": \"Laverie moderne de mendong\", \"email\": \"\", \"telephone1\": \"nan\", \"telephone2\": \"nan\", \"photo\": \"\", \"ville\": \"Yaounde\", \"pays\": \"\", \"longitude\": 11.476734, \"latitude\": 3.826308, \"type\": \"garage\", \"creation_date\": 1726427371}, {\"id\": \"38e4871c-9bb0-4e34-829e-f24525827a36:1726428127\", \"nom\": \"Garage motos\", \"email\": \"\", \"telephone1\": \"nan\", \"telephone2\": \"nan\", \"photo\": \"\", \"ville\": \"Yaounde\", \"pays\": \"\", \"longitude\": 11.476734, \"latitude\": 3.826308, \"type\": \"garage\", \"creation_date\": 1726427371}, {\"id\": \"2075e9d5-8e84-422f-91a7-6165f90956b5:1726428130\", \"nom\": \"Ets alpha elec\", \"email\": \"\", \"telephone1\": \"nan\", \"telephone2\": \"nan\", \"photo\": \"\", \"ville\": \"Yaounde\", \"pays\": \"\", \"longitude\": 11.476734, \"latitude\": 3.826308, \"type\": \"garage\", \"creation_date\": 1726427371}, {\"id\": \"19ffe398-ce5e-42f2-870a-274e1b6c5eaf:1726428133\", \"nom\": \"Ets fotio\", \"email\": \"\", \"telephone1\": \"nan\", \"telephone2\": \"nan\", \"photo\": \"\", \"ville\": \"Yaounde\", \"pays\": \"\", \"longitude\": 11.476734, \"latitude\": 3.826308, \"type\": \"garage\", \"creation_date\": 1726427371}, {\"id\": \"ae17d448-a1b7-4373-8d0d-04dc16b65edf:1726428135\", \"nom\": \"Turbo moto\", \"email\": \"\", \"telephone1\": \"651725921\", \"telephone2\": \"698668630\", \"photo\": \"\", \"ville\": \"Yaounde\", \"pays\": \"\", \"longitude\": 11.476734, \"latitude\": 3.826308, \"type\": \"garage\", \"creation_date\": 1726427371}, {\"id\": \"e042edd7-948f-4583-a42c-12625bd53f3f:1726428138\", \"nom\": \"Soci\\u00e9t\\u00e9 kami auto\", \"email\": \"\", \"telephone1\": \"691820600\", \"telephone2\": \"699787391\", \"photo\": \"\", \"ville\": \"Yaounde\", \"pays\": \"\", \"longitude\": 11.476734, \"latitude\": 3.826308, \"type\": \"pneu\", \"creation_date\": 1726427371}, {\"id\": \"91951aec-1632-4135-8de8-214ad776f971:1726428140\", \"nom\": \"Wash and watch auto care\", \"email\": \"\", \"telephone1\": \"699560898\", \"telephone2\": \"nan\", \"photo\": \"\", \"ville\": \"Yaounde\", \"pays\": \"\", \"longitude\": 11.476734, \"latitude\": 3.826308, \"type\": \"garage\", \"creation_date\": 1726427371}, {\"id\": \"c1e9e8d8-2a68-46ce-880d-e52da26ff192:1726428143\", \"nom\": \"Fg automobile\", \"email\": \"\", \"telephone1\": \"682980155\", \"telephone2\": \"695803687\", \"photo\": \"\", \"ville\": \"Yaounde\", \"pays\": \"\", \"longitude\": 11.475122, \"latitude\": 3.838365, \"type\": \"garage\", \"creation_date\": 1726427371}, {\"id\": \"5bb61a77-65d8-4915-8ad5-b8d9035315ff:1726428145\", \"nom\": \"Auto \\u00c9cole suisse prestige\", \"email\": \"\", \"telephone1\": \"699522000\", \"telephone2\": \"651368029\", \"photo\": \"\", \"ville\": \"Yaounde\", \"pays\": \"\", \"longitude\": 11.475122, \"latitude\": 3.838365, \"type\": \"garage\", \"creation_date\": 1726427371}, {\"id\": \"297683d0-0681-4dbb-ace2-10bd3eac4801:1726428147\", \"nom\": \"Station Nickel oil\", \"email\": \"\", \"telephone1\": \"nan\", \"telephone2\": \"nan\", \"photo\": \"\", \"ville\": \"Yaounde\", \"pays\": \"\", \"longitude\": 11.475122, \"latitude\": 3.838365, \"type\": \"garage\", \"creation_date\": 1726427371}, {\"id\": \"3e3123ce-c4a0-49a4-98d1-28bb7a91a64c:1726428150\", \"nom\": \"Auto \\u00e9cole canadien\", \"email\": \"\", \"telephone1\": \"673046358\", \"telephone2\": \"694326582\", \"photo\": \"\", \"ville\": \"Yaounde\", \"pays\": \"\", \"longitude\": 11.475122, \"latitude\": 3.838365, \"type\": \"garage\", \"creation_date\": 1726427371}, {\"id\": \"1c845080-8c05-46a8-914a-a87f50dcf8b5:1726428152\", \"nom\": \"Laverie moderne la faraly\", \"email\": \"\", \"telephone1\": \"nan\", \"telephone2\": \"nan\", \"photo\": \"\", \"ville\": \"Yaounde\", \"pays\": \"\", \"longitude\": 11.475122, \"latitude\": 3.838365, \"type\": \"garage\", \"creation_date\": 1726427371}, {\"id\": \"fac425ca-65d0-4dbb-8d23-d4a88f36a125:1726428155\", \"nom\": \"Ets access automobile\", \"email\": \"\", \"telephone1\": \"699775981\", \"telephone2\": \"678619570\", \"photo\": \"\", \"ville\": \"Yaounde\", \"pays\": \"\", \"longitude\": 11.475122, \"latitude\": 3.838365, \"type\": \"garage\", \"creation_date\": 1726427371}, {\"id\": \"7642ef56-3b40-424a-804b-059c630da02f:1726428157\", \"nom\": \"Euro pneus\", \"email\": \"\", \"telephone1\": \"675884350\", \"telephone2\": \"+33 611026382\", \"photo\": \"\", \"ville\": \"Yaounde\", \"pays\": \"\", \"longitude\": 11.475122, \"latitude\": 3.838365, \"type\": \"pneu\", \"creation_date\": 1726427371}, {\"id\": \"d9365786-1882-4364-a90d-cf4646d33776:1726428159\", \"nom\": \"Michelin auto\", \"email\": \"\", \"telephone1\": \"671109776\", \"telephone2\": \"nan\", \"photo\": \"\", \"ville\": \"Yaounde\", \"pays\": \"\", \"longitude\": 11.475122, \"latitude\": 3.838365, \"type\": \"pneu\", \"creation_date\": 1726427371}, {\"id\": \"566fb3e5-f5e9-4df3-a787-fec1b49b7683:1726428162\", \"nom\": \"Auto-\\u00e9cole Dubai\", \"email\": \"\", \"telephone1\": \"679115691\", \"telephone2\": \"690179873\", \"photo\": \"\", \"ville\": \"Yaounde\", \"pays\": \"\", \"longitude\": 11.475122, \"latitude\": 3.838365, \"type\": \"garage\", \"creation_date\": 1726427371}, {\"id\": \"c5dd0774-88b3-468e-b33e-ac00c4fb1007:1726428164\", \"nom\": \"Station gulfin tkc\", \"email\": \"\", \"telephone1\": \"nan\", \"telephone2\": \"nan\", \"photo\": \"\", \"ville\": \"Yaounde\", \"pays\": \"\", \"longitude\": 11.475122, \"latitude\": 3.838365, \"type\": \"garage\", \"creation_date\": 1726427371}, {\"id\": \"d87486c5-8814-4855-b84f-d1beeb034367:1726428167\", \"nom\": \"Ets ELVIS\", \"email\": \"\", \"telephone1\": \"nan\", \"telephone2\": \"nan\", \"photo\": \"\", \"ville\": \"Yaounde\", \"pays\": \"\", \"longitude\": 11.491666, \"latitude\": 3.87652, \"type\": \"garage\", \"creation_date\": 1726427371}, {\"id\": \"e0646c48-64ba-4a1d-bf5e-5ad7c2e8234b:1726428169\", \"nom\": \"Station neptune oil\", \"email\": \"\", \"telephone1\": \"nan\", \"telephone2\": \"nan\", \"photo\": \"\", \"ville\": \"Yaounde\", \"pays\": \"\", \"longitude\": 11.480262, \"latitude\": 3.86801, \"type\": \"station\", \"creation_date\": 1726427371}, {\"id\": \"4607ef84-ab71-47f6-a643-f2c6b5751436:1726428171\", \"nom\": \"Climatisation auto\", \"email\": \"\", \"telephone1\": \"69934973\", \"telephone2\": \"675671040\", \"photo\": \"\", \"ville\": \"Yaounde\", \"pays\": \"\", \"longitude\": 11.480262, \"latitude\": 3.86801, \"type\": \"garage\", \"creation_date\": 1726427371}, {\"id\": \"d7b22e12-9848-4c3a-83e8-bfdf25ca2f28:1726428174\", \"nom\": \"Oluwa auto services\", \"email\": \"\", \"telephone1\": \"679882688\", \"telephone2\": \"nan\", \"photo\": \"\", \"ville\": \"Yaounde\", \"pays\": \"\", \"longitude\": 11.480262, \"latitude\": 3.86801, \"type\": \"garage\", \"creation_date\": 1726427371}, {\"id\": \"c0a628ca-3d39-42aa-88f9-5909ac540748:1726428176\", \"nom\": \"Pi\\u00e8ces auto joez\", \"email\": \"\", \"telephone1\": \"nan\", \"telephone2\": \"nan\", \"photo\": \"\", \"ville\": \"Yaounde\", \"pays\": \"\", \"longitude\": 11.480262, \"latitude\": 3.86801, \"type\": \"garage\", \"creation_date\": 1726427371}, {\"id\": \"1c28c0b8-a43a-476c-98d1-740753044981:1726428178\", \"nom\": \"Auto \\u00e9cole la prudence\", \"email\": \"\", \"telephone1\": \"677574255\", \"telephone2\": \"697184749\", \"photo\": \"\", \"ville\": \"Yaounde\", \"pays\": \"\", \"longitude\": 11.480262, \"latitude\": 3.86801, \"type\": \"garage\", \"creation_date\": 1726427371}, {\"id\": \"343ccdb4-bcda-4f5e-a61c-02c2e8f3e5c3:1726428180\", \"nom\": \"Station mrs\", \"email\": \"\", \"telephone1\": \"nan\", \"telephone2\": \"nan\", \"photo\": \"\", \"ville\": \"Yaounde\", \"pays\": \"\", \"longitude\": 11.480262, \"latitude\": 3.86801, \"type\": \"station\", \"creation_date\": 1726427371}, {\"id\": \"af5398d9-f625-4817-ba08-ba74717f0855:1726428183\", \"nom\": \"Gmc assurance\", \"email\": \"gmc assurance. com\", \"telephone1\": \"677748992\", \"telephone2\": \"243014707\", \"photo\": \"\", \"ville\": \"Yaounde\", \"pays\": \"\", \"longitude\": 11.480262, \"latitude\": 3.86801, \"type\": \"assurance\", \"creation_date\": 1726427371}, {\"id\": \"4d977e85-7767-4fc0-a8e0-4386617286d9:1726428185\", \"nom\": \"Gic Auto \\u00e9cole lumi\\u00e8re\", \"email\": \"\", \"telephone1\": \"680870206\", \"telephone2\": \"699970416\", \"photo\": \"\", \"ville\": \"Yaounde\", \"pays\": \"\", \"longitude\": 11.480262, \"latitude\": 3.86801, \"type\": \"garage\", \"creation_date\": 1726427371}, {\"id\": \"d298aa79-c648-458f-9ffe-627d27830a25:1726428187\", \"nom\": \"Auto \\u00e9cole relaxe\", \"email\": \"\", \"telephone1\": \"699903835\", \"telephone2\": \"675219751\", \"photo\": \"\", \"ville\": \"Yaounde\", \"pays\": \"\", \"longitude\": 11.480262, \"latitude\": 3.86801, \"type\": \"garage\", \"creation_date\": 1726427371}, {\"id\": \"03351f2c-df7a-44b5-9e90-dd93957e8304:1726428190\", \"nom\": \"Max automobile\", \"email\": \"\", \"telephone1\": \"699937394\", \"telephone2\": \"nan\", \"photo\": \"\", \"ville\": \"Yaounde\", \"pays\": \"\", \"longitude\": 11.480262, \"latitude\": 3.86801, \"type\": \"garage\", \"creation_date\": 1726427371}, {\"id\": \"bf9fdfaf-6abf-4d58-bf14-cbeb14379de9:1726428192\", \"nom\": \"Gedic auto Michelin\", \"email\": \"\", \"telephone1\": \"677637111\", \"telephone2\": \"656173161\", \"photo\": \"\", \"ville\": \"Yaounde\", \"pays\": \"\", \"longitude\": 11.480262, \"latitude\": 3.86801, \"type\": \"pneu\", \"creation_date\": 1726427371}, {\"id\": \"209a9cbd-b48b-4cd1-957a-17f99ab3a105:1726428194\", \"nom\": \"Colonel auto\", \"email\": \"\", \"telephone1\": \"699225990\", \"telephone2\": \"676301734\", \"photo\": \"\", \"ville\": \"Yaounde\", \"pays\": \"\", \"longitude\": 11.480262, \"latitude\": 3.86801, \"type\": \"pneu\", \"creation_date\": 1726427371}, {\"id\": \"4bb936c7-1ec1-45ff-adfc-13dcd0d6afc5:1726428197\", \"nom\": \"Climatisation auto\", \"email\": \"\", \"telephone1\": \"690591611\", \"telephone2\": \"676955329\", \"photo\": \"\", \"ville\": \"Yaounde\", \"pays\": \"\", \"longitude\": 11.480262, \"latitude\": 3.86801, \"type\": \"garage\", \"creation_date\": 1726427371}, {\"id\": \"3a016c47-bafa-41c0-ac56-f3d25ca33599:1726428200\", \"nom\": \"Auto \\u00e9cole trois \\u00e9toiles chr\\u00e9tien\", \"email\": \"\", \"telephone1\": \"670102066\", \"telephone2\": \"697578850\", \"photo\": \"\", \"ville\": \"Yaounde\", \"pays\": \"\", \"longitude\": 11.480262, \"latitude\": 3.86801, \"type\": \"garage\", \"creation_date\": 1726427371}, {\"id\": \"447985a5-6bfa-49e6-873a-30f7012802c3:1726428203\", \"nom\": \"Phat automobile\", \"email\": \"\", \"telephone1\": \"699897848\", \"telephone2\": \"nan\", \"photo\": \"\", \"ville\": \"Yaounde\", \"pays\": \"\", \"longitude\": 11.480262, \"latitude\": 3.86801, \"type\": \"garage\", \"creation_date\": 1726427371}, {\"id\": \"01dcef33-24c0-48e5-ae70-24df429d43d3:1726428205\", \"nom\": \"Station mrs\", \"email\": \"\", \"telephone1\": \"nan\", \"telephone2\": \"nan\", \"photo\": \"\", \"ville\": \"Yaounde\", \"pays\": \"\", \"longitude\": 11.480262, \"latitude\": 3.86801, \"type\": \"station\", \"creation_date\": 1726427371}, {\"id\": \"bcc2b2bb-9458-4c27-9e63-7959423e7fba:1726428209\", \"nom\": \"Ets pneus solution\", \"email\": \"\", \"telephone1\": \"691487603\", \"telephone2\": \"676274372\", \"photo\": \"\", \"ville\": \"Yaounde\", \"pays\": \"\", \"longitude\": 11.480262, \"latitude\": 3.86801, \"type\": \"pneu\", \"creation_date\": 1726427371}, {\"id\": \"be595157-3aa1-4208-a194-4926671de939:1726428211\", \"nom\": \"Prudential beneficial life insurances\", \"email\": \"client@prubeneficial.cm\", \"telephone1\": \"677153055\", \"telephone2\": \"233427236\", \"photo\": \"\", \"ville\": \"Yaounde\", \"pays\": \"\", \"longitude\": 11.480262, \"latitude\": 3.86801, \"type\": \"assurance\", \"creation_date\": 1726427371}, {\"id\": \"cdf041ef-7baa-4c8f-8d10-7176440ff9ac:1726428214\", \"nom\": \"Euro assur Cameroun\", \"email\": \"euroassur_cam@yahoo.fr\", \"telephone1\": \"669773924\", \"telephone2\": \"nan\", \"photo\": \"\", \"ville\": \"Yaounde\", \"pays\": \"\", \"longitude\": 11.480262, \"latitude\": 3.86801, \"type\": \"garage\", \"creation_date\": 1726427371}, {\"id\": \"57072045-16a6-464a-8ee5-8719075731df:1726428217\", \"nom\": \"Seth automobile\", \"email\": \"\", \"telephone1\": \"nan\", \"telephone2\": \"nan\", \"photo\": \"\", \"ville\": \"Yaounde\", \"pays\": \"\", \"longitude\": 11.480262, \"latitude\": 3.86801, \"type\": \"garage\", \"creation_date\": 1726427371}, {\"id\": \"4f009924-d18c-48e7-869c-77b811d75f26:1726428220\", \"nom\": \"Ken's automobile\", \"email\": \"\", \"telephone1\": \"671318896\", \"telephone2\": \"676732364\", \"photo\": \"\", \"ville\": \"Yaounde\", \"pays\": \"\", \"longitude\": 11.480262, \"latitude\": 3.86801, \"type\": \"garage\", \"creation_date\": 1726427371}, {\"id\": \"f3454c51-be23-4561-ac47-5d7808be1ca6:1726428224\", \"nom\": \"Laverie moderne\", \"email\": \"\", \"telephone1\": \"nan\", \"telephone2\": \"nan\", \"photo\": \"\", \"ville\": \"Yaounde\", \"pays\": \"\", \"longitude\": 11.480262, \"latitude\": 3.86801, \"type\": \"garage\", \"creation_date\": 1726427371}, {\"id\": \"4c9bbced-a997-40cb-9984-fc020fd4f4d2:1726428226\", \"nom\": \"Og_connect auto \\u00e9cole plaza\", \"email\": \"\", \"telephone1\": \"682380195\", \"telephone2\": \"559817039\", \"photo\": \"\", \"ville\": \"Yaounde\", \"pays\": \"\", \"longitude\": 11.480262, \"latitude\": 3.86801, \"type\": \"garage\", \"creation_date\": 1726427371}, {\"id\": \"d4b7490b-c5d2-4abd-8d2e-e93947abf2e3:1726428229\", \"nom\": \"Ets Sama auto\", \"email\": \"\", \"telephone1\": \"675837644\", \"telephone2\": \"662116860\", \"photo\": \"\", \"ville\": \"Yaounde\", \"pays\": \"\", \"longitude\": 11.480262, \"latitude\": 3.86801, \"type\": \"garage\", \"creation_date\": 1726427371}, {\"id\": \"12a81d51-a73c-4021-a022-af7e65f57401:1726428231\", \"nom\": \"Modes auto benz\", \"email\": \"\", \"telephone1\": \"677339404\", \"telephone2\": \"697304966\", \"photo\": \"\", \"ville\": \"Yaounde\", \"pays\": \"\", \"longitude\": 11.480262, \"latitude\": 3.86801, \"type\": \"garage\", \"creation_date\": 1726427371}, {\"id\": \"78013914-d64b-4674-9397-6bb5200ffe00:1726428233\", \"nom\": \"Station Ola energy\", \"email\": \"\", \"telephone1\": \"nan\", \"telephone2\": \"nan\", \"photo\": \"\", \"ville\": \"Yaounde\", \"pays\": \"\", \"longitude\": 11.480262, \"latitude\": 3.86801, \"type\": \"station\", \"creation_date\": 1726427371}, {\"id\": \"26583eb8-1269-4f68-8941-49c991172f19:1726428235\", \"nom\": \"Nady Benz motors\", \"email\": \"\", \"telephone1\": \"677818874\", \"telephone2\": \"nan\", \"photo\": \"\", \"ville\": \"Yaounde\", \"pays\": \"\", \"longitude\": 11.480262, \"latitude\": 3.86801, \"type\": \"pneu\", \"creation_date\": 1726427371}, {\"id\": \"9260ab31-e304-4d26-8d5c-0eaa65422a03:1726428238\", \"nom\": \"Centrale automobile\", \"email\": \"\", \"telephone1\": \"672756720\", \"telephone2\": \"nan\", \"photo\": \"\", \"ville\": \"Yaounde\", \"pays\": \"\", \"longitude\": 11.480262, \"latitude\": 3.86801, \"type\": \"garage\", \"creation_date\": 1726427371}, {\"id\": \"d1a63534-5a97-4760-aee3-b4b6813305e5:1726428240\", \"nom\": \"C\\u00e9leste auto\", \"email\": \"\", \"telephone1\": \"670061648\", \"telephone2\": \"694562231\", \"photo\": \"\", \"ville\": \"Yaounde\", \"pays\": \"\", \"longitude\": 11.480262, \"latitude\": 3.86801, \"type\": \"garage\", \"creation_date\": 1726427371}, {\"id\": \"19d07fff-48a8-4b2f-a616-09e2c5466d95:1726428242\", \"nom\": \"Auto gadgets ledoc\", \"email\": \"\", \"telephone1\": \"695080072\", \"telephone2\": \"677600229\", \"photo\": \"\", \"ville\": \"Yaounde\", \"pays\": \"\", \"longitude\": 11.480262, \"latitude\": 3.86801, \"type\": \"garage\", \"creation_date\": 1726427371}, {\"id\": \"f041f918-0b15-473e-a764-5095c4776e8e:1726428245\", \"nom\": \"Ikdon automobile\", \"email\": \"\", \"telephone1\": \"699215376\", \"telephone2\": \"nan\", \"photo\": \"\", \"ville\": \"Yaounde\", \"pays\": \"\", \"longitude\": 11.480262, \"latitude\": 3.86801, \"type\": \"garage\", \"creation_date\": 1726427371}, {\"id\": \"d446cf3a-2cbd-4f99-aece-aec834b71f7a:1726428247\", \"nom\": \"UK chito auto\", \"email\": \"\", \"telephone1\": \"nan\", \"telephone2\": \"nan\", \"photo\": \"\", \"ville\": \"Yaounde\", \"pays\": \"\", \"longitude\": 11.480262, \"latitude\": 3.86801, \"type\": \"garage\", \"creation_date\": 1726427371}, {\"id\": \"d9d75477-c2c4-4d39-8696-61439d9bffcf:1726428250\", \"nom\": \"Fid\\u00e8le auto plaza\", \"email\": \"\", \"telephone1\": \"676303439\", \"telephone2\": \"nan\", \"photo\": \"\", \"ville\": \"Yaounde\", \"pays\": \"\", \"longitude\": 11.480262, \"latitude\": 3.86801, \"type\": \"garage\", \"creation_date\": 1726427371}, {\"id\": \"86ca8b4c-6272-40a2-ac02-19948ec17d66:1726428252\", \"nom\": \"New Day automobile\", \"email\": \"\", \"telephone1\": \"nan\", \"telephone2\": \"nan\", \"photo\": \"\", \"ville\": \"Yaounde\", \"pays\": \"\", \"longitude\": 11.480262, \"latitude\": 3.86801, \"type\": \"garage\", \"creation_date\": 1726427371}, {\"id\": \"9216b377-5fe0-4fed-8319-9d4dc25dd68b:1726428254\", \"nom\": \"Ch\\u00e9rigang auto\", \"email\": \"\", \"telephone1\": \"696400216\", \"telephone2\": \"674008530\", \"photo\": \"\", \"ville\": \"Yaounde\", \"pays\": \"\", \"longitude\": 11.480262, \"latitude\": 3.86801, \"type\": \"garage\", \"creation_date\": 1726427371}, {\"id\": \"e540a986-84e8-42de-b771-07e32fa55447:1726428257\", \"nom\": \"Pas Emmanu auto\", \"email\": \"\", \"telephone1\": \"677339818\", \"telephone2\": \"690388261\", \"photo\": \"\", \"ville\": \"Yaounde\", \"pays\": \"\", \"longitude\": 11.480262, \"latitude\": 3.86801, \"type\": \"garage\", \"creation_date\": 1726427371}, {\"id\": \"4cc3849d-3b86-4e8e-98e6-b9dfeebc0da7:1726428260\", \"nom\": \"Waco auto benz\", \"email\": \"\", \"telephone1\": \"677450608\", \"telephone2\": \"nan\", \"photo\": \"\", \"ville\": \"Yaounde\", \"pays\": \"\", \"longitude\": 11.480262, \"latitude\": 3.86801, \"type\": \"garage\", \"creation_date\": 1726427371}, {\"id\": \"80d26857-4891-42fc-9605-e6d05b5cb14f:1726428262\", \"nom\": \"Ahmed automobile\", \"email\": \"\", \"telephone1\": \"222233725\", \"telephone2\": \"677157724\", \"photo\": \"\", \"ville\": \"Yaounde\", \"pays\": \"\", \"longitude\": 11.480262, \"latitude\": 3.86801, \"type\": \"garage\", \"creation_date\": 1726427371}, {\"id\": \"33f1d1dd-9b6f-4250-8fd9-ac9c341701f5:1726428265\", \"nom\": \"Third world company\", \"email\": \"\", \"telephone1\": \"670111010\", \"telephone2\": \"653125353\", \"photo\": \"\", \"ville\": \"Yaounde\", \"pays\": \"\", \"longitude\": 11.480262, \"latitude\": 3.86801, \"type\": \"pneu\", \"creation_date\": 1726427371}, {\"id\": \"ee50e456-ee31-4c19-a701-9b90cb98983b:1726428267\", \"nom\": \"Chinese automobile\", \"email\": \"\", \"telephone1\": \"650402197\", \"telephone2\": \"693603860\", \"photo\": \"\", \"ville\": \"Yaounde\", \"pays\": \"\", \"longitude\": 11.480262, \"latitude\": 3.86801, \"type\": \"garage\", \"creation_date\": 1726427371}, {\"id\": \"8f097db0-84f5-4288-b9b4-ed7d808d6df9:1726428269\", \"nom\": \"Auto linkage\", \"email\": \"\", \"telephone1\": \"nan\", \"telephone2\": \"nan\", \"photo\": \"\", \"ville\": \"Yaounde\", \"pays\": \"\", \"longitude\": 11.480262, \"latitude\": 3.86801, \"type\": \"garage\", \"creation_date\": 1726427371}, {\"id\": \"887c4910-18fc-4199-9669-c92d8823c4ad:1726428272\", \"nom\": \"Sunshine motos\", \"email\": \"\", \"telephone1\": \"677659337\", \"telephone2\": \"699899407\", \"photo\": \"\", \"ville\": \"Yaounde\", \"pays\": \"\", \"longitude\": 11.480262, \"latitude\": 3.86801, \"type\": \"garage\", \"creation_date\": 1726427371}, {\"id\": \"a8459884-aa8f-48ed-80af-17dd4a643cd0:1726428274\", \"nom\": \"Henry auto plaza\", \"email\": \"\", \"telephone1\": \"nan\", \"telephone2\": \"nan\", \"photo\": \"\", \"ville\": \"Yaounde\", \"pays\": \"\", \"longitude\": 11.480262, \"latitude\": 3.86801, \"type\": \"garage\", \"creation_date\": 1726427371}, {\"id\": \"aa27cab0-4729-4b12-a5a2-95b23fc5787d:1726428276\", \"nom\": \"Now as benz\", \"email\": \"\", \"telephone1\": \"695829499\", \"telephone2\": \"674175640\", \"photo\": \"\", \"ville\": \"Yaounde\", \"pays\": \"\", \"longitude\": 11.480262, \"latitude\": 3.86801, \"type\": \"garage\", \"creation_date\": 1726427371}, {\"id\": \"c4762cf2-82f7-44af-892b-b4b78c6d4930:1726428279\", \"nom\": \"Angel auto\", \"email\": \"\", \"telephone1\": \"695835775\", \"telephone2\": \"674051185\", \"photo\": \"\", \"ville\": \"Yaounde\", \"pays\": \"\", \"longitude\": 11.527234, \"latitude\": 3.863854, \"type\": \"garage\", \"creation_date\": 1726427371}, {\"id\": \"93afa5ae-f5e9-468f-bb52-14c5921e6fed:1726428282\", \"nom\": \"Ets Emmanu auto\", \"email\": \"\", \"telephone1\": \"674254628\", \"telephone2\": \"690446277\", \"photo\": \"\", \"ville\": \"Yaounde\", \"pays\": \"\", \"longitude\": 11.527234, \"latitude\": 3.863854, \"type\": \"garage\", \"creation_date\": 1726427371}, {\"id\": \"47f78cd9-c2a2-4ac4-a379-2a06a224019c:1726428284\", \"nom\": \"ETS TECHNIQUE\", \"email\": \"\", \"telephone1\": \"678717887\", \"telephone2\": \"nan\", \"photo\": \"\", \"ville\": \"Yaounde\", \"pays\": \"\", \"longitude\": 11.492161, \"latitude\": 3.879478, \"type\": \"garage\", \"creation_date\": 1726427371}, {\"id\": \"1f1d445b-f1ee-449d-9102-4159165dc7c3:1726428287\", \"nom\": \"Ets excel automobile\", \"email\": \"\", \"telephone1\": \"678782587\", \"telephone2\": \"656774455\", \"photo\": \"\", \"ville\": \"Yaounde\", \"pays\": \"\", \"longitude\": 11.527234, \"latitude\": 3.863854, \"type\": \"garage\", \"creation_date\": 1726427371}, {\"id\": \"553d9b05-2c8b-4c01-b679-1d8707fc755e:1726428289\", \"nom\": \"Emmanuel automobile\", \"email\": \"\", \"telephone1\": \"676427892\", \"telephone2\": \"690279216\", \"photo\": \"\", \"ville\": \"Yaounde\", \"pays\": \"\", \"longitude\": 11.527234, \"latitude\": 3.863854, \"type\": \"garage\", \"creation_date\": 1726427371}, {\"id\": \"76447aa1-7548-4c3f-a7c6-105ef86b30f1:1726428291\", \"nom\": \"Gendemerie\", \"email\": \"\", \"telephone1\": \"113\", \"telephone2\": \"nan\", \"photo\": \"\", \"ville\": \"Yaounde\", \"pays\": \"\", \"longitude\": 11.493648, \"latitude\": 3.879268, \"type\": \"garage\", \"creation_date\": 1726427371}, {\"id\": \"6f4412f8-15ea-414d-bd49-af9f15c06e89:1726428294\", \"nom\": \"AUTO \\u00c9COLE VAINQUEUR\", \"email\": \"\", \"telephone1\": \"694927814\", \"telephone2\": \"672308305\", \"photo\": \"\", \"ville\": \"Yaounde\", \"pays\": \"\", \"longitude\": 11.494636, \"latitude\": 3.877966, \"type\": \"garage\", \"creation_date\": 1726427371}, {\"id\": \"ba992c27-020c-49de-ad0b-784f8d21f30e:1726428296\", \"nom\": \"OLA ENERGY\", \"email\": \"\", \"telephone1\": \"nan\", \"telephone2\": \"nan\", \"photo\": \"\", \"ville\": \"Yaounde\", \"pays\": \"\", \"longitude\": 11.494636, \"latitude\": 3.877966, \"type\": \"station\", \"creation_date\": 1726427371}, {\"id\": \"539eaecf-2d91-4134-9e78-725ba7d093bc:1726428298\", \"nom\": \"CHARTER EXPRESS VOYAGE\", \"email\": \"\", \"telephone1\": \"nan\", \"telephone2\": \"nan\", \"photo\": \"\", \"ville\": \"Yaounde\", \"pays\": \"\", \"longitude\": 11.495392, \"latitude\": 3.877231, \"type\": \"agence-voyages\", \"creation_date\": 1726427371}, {\"id\": \"a890f037-47dc-4aea-a1a2-cfd559ce1c0d:1726428300\", \"nom\": \"LAVERIES DIFFERENCIA\", \"email\": \"\", \"telephone1\": \"nan\", \"telephone2\": \"nan\", \"photo\": \"\", \"ville\": \"Yaounde\", \"pays\": \"\", \"longitude\": 11.496255, \"latitude\": 3.877085, \"type\": \"garage\", \"creation_date\": 1726427371}, {\"id\": \"ec115fef-6ca2-40cc-8049-2905559e6f80:1726428303\", \"nom\": \"HOROLOGIE TANKOU\", \"email\": \"\", \"telephone1\": \"699147661\", \"telephone2\": \"nan\", \"photo\": \"\", \"ville\": \"Yaounde\", \"pays\": \"\", \"longitude\": 11.496254, \"latitude\": 3.877084, \"type\": \"pneu\", \"creation_date\": 1726427371}, {\"id\": \"68d23f6d-f7ab-43fe-a5f3-89f7b38d5562:1726428305\", \"nom\": \"AUTO \\u00c9COLE CANADIENNE\", \"email\": \"\", \"telephone1\": \"694325582\", \"telephone2\": \"673046358\", \"photo\": \"\", \"ville\": \"Yaounde\", \"pays\": \"\", \"longitude\": 11.492607, \"latitude\": 3.881419, \"type\": \"garage\", \"creation_date\": 1726427371}, {\"id\": \"033e32a7-c9e0-4da2-9086-9c44fa0f5f95:1726428307\", \"nom\": \"AUTO \\u00c9COLE BETHEL\", \"email\": \"\", \"telephone1\": \"654884407\", \"telephone2\": \"nan\", \"photo\": \"\", \"ville\": \"Yaounde\", \"pays\": \"\", \"longitude\": 11.49243, \"latitude\": 3.88248, \"type\": \"garage\", \"creation_date\": 1726427371}, {\"id\": \"200c9691-80f9-406d-81e2-c8a8d33bed68:1726428310\", \"nom\": \"REAL VOYAGE\", \"email\": \"\", \"telephone1\": \"651664090\", \"telephone2\": \"nan\", \"photo\": \"\", \"ville\": \"Yaounde\", \"pays\": \"\", \"longitude\": 11.492311, \"latitude\": 3.882981, \"type\": \"agence-voyages\", \"creation_date\": 1726427371}, {\"id\": \"3922a719-7910-474c-8220-eaba6dad22d1:1726428312\", \"nom\": \"G\\u00c9N\\u00c9RAL VOYAGE\", \"email\": \"\", \"telephone1\": \"nan\", \"telephone2\": \"nan\", \"photo\": \"\", \"ville\": \"Yaounde\", \"pays\": \"\", \"longitude\": 11.492002, \"latitude\": 3.885407, \"type\": \"agence-voyages\", \"creation_date\": 1726427371}, {\"id\": \"badfa0e9-19c5-4c51-8228-6f86c47e3003:1726428314\", \"nom\": \"CONFEX OIL\", \"email\": \"\", \"telephone1\": \"nan\", \"telephone2\": \"nan\", \"photo\": \"\", \"ville\": \"Yaounde\", \"pays\": \"\", \"longitude\": 11.492097, \"latitude\": 3.885154, \"type\": \"station\", \"creation_date\": 1726427371}, {\"id\": \"f86d0c16-8cf8-4092-a7de-f117832598fa:1726428316\", \"nom\": \"K. J auto\", \"email\": \"\", \"telephone1\": \"695488000\", \"telephone2\": \"676705959\", \"photo\": \"\", \"ville\": \"Yaounde\", \"pays\": \"\", \"longitude\": 11.527729, \"latitude\": 3.863621, \"type\": \"garage\", \"creation_date\": 1726427371}, {\"id\": \"60486663-91ea-4230-8ca2-a16e58f479c0:1726428319\", \"nom\": \"Danilo automobile\", \"email\": \"\", \"telephone1\": \"677107414\", \"telephone2\": \"nan\", \"photo\": \"\", \"ville\": \"Yaounde\", \"pays\": \"\", \"longitude\": 11.527019, \"latitude\": 3.863681, \"type\": \"garage\", \"creation_date\": 1726427371}, {\"id\": \"cce35805-b6f7-44de-80ae-8c10256fee8c:1726428321\", \"nom\": \"Ets Marco automobile\", \"email\": \"macarthurenoh@gmail.com\", \"telephone1\": \"675050172\", \"telephone2\": \"696349550\", \"photo\": \"\", \"ville\": \"Yaounde\", \"pays\": \"\", \"longitude\": 11.527011, \"latitude\": 3.863682, \"type\": \"garage\", \"creation_date\": 1726427371}, {\"id\": \"b1fdf880-46d5-4e22-b124-755690eb53c1:1726428323\", \"nom\": \"Bonaventure auto\", \"email\": \"\", \"telephone1\": \"671900166\", \"telephone2\": \"695997035\", \"photo\": \"\", \"ville\": \"Yaounde\", \"pays\": \"\", \"longitude\": 11.527174, \"latitude\": 3.863975, \"type\": \"garage\", \"creation_date\": 1726427371}, {\"id\": \"6f142126-e552-48a3-954e-c91cc10654e8:1726428326\", \"nom\": \"Ets agaco automobile\", \"email\": \"aga_tech@yahoo.fr\", \"telephone1\": \"677810727\", \"telephone2\": \"696776858\", \"photo\": \"\", \"ville\": \"Yaounde\", \"pays\": \"\", \"longitude\": 11.527345, \"latitude\": 3.864093, \"type\": \"garage\", \"creation_date\": 1726427371}, {\"id\": \"9db3cc52-7aaf-4128-ba45-2b1f0abb814e:1726428328\", \"nom\": \"Bekks automobile\", \"email\": \"\", \"telephone1\": \"nan\", \"telephone2\": \"nan\", \"photo\": \"\", \"ville\": \"Yaounde\", \"pays\": \"\", \"longitude\": 11.527813, \"latitude\": 3.864444, \"type\": \"garage\", \"creation_date\": 1726427371}, {\"id\": \"21063dcd-2f6e-4f3e-922c-7ad1fec71f84:1726428330\", \"nom\": \"Mike auto plaza\", \"email\": \"\", \"telephone1\": \"nan\", \"telephone2\": \"nan\", \"photo\": \"\", \"ville\": \"Yaounde\", \"pays\": \"\", \"longitude\": 11.527813, \"latitude\": 3.864444, \"type\": \"garage\", \"creation_date\": 1726427371}, {\"id\": \"8af9f530-23d9-40c5-b83b-fb17f61c6f8b:1726428333\", \"nom\": \"Louise international\", \"email\": \"\", \"telephone1\": \"nan\", \"telephone2\": \"nan\", \"photo\": \"\", \"ville\": \"Yaounde\", \"pays\": \"\", \"longitude\": 11.527813, \"latitude\": 3.864444, \"type\": \"garage\", \"creation_date\": 1726427371}, {\"id\": \"d304a250-ea73-4b08-841c-85aadcfd24e8:1726428335\", \"nom\": \"Mta security\", \"email\": \"\", \"telephone1\": \"nan\", \"telephone2\": \"nan\", \"photo\": \"\", \"ville\": \"Yaounde\", \"pays\": \"\", \"longitude\": 11.527813, \"latitude\": 3.864444, \"type\": \"garage\", \"creation_date\": 1726427371}, {\"id\": \"350feae2-bbd6-4de8-9995-2c2d61cc956f:1726428337\", \"nom\": \"Maison kdf group John automobile sarl\", \"email\": \"\", \"telephone1\": \"675043832\", \"telephone2\": \"nan\", \"photo\": \"\", \"ville\": \"Yaounde\", \"pays\": \"\", \"longitude\": 11.527813, \"latitude\": 3.864444, \"type\": \"pneu\", \"creation_date\": 1726427371}, {\"id\": \"f7dc41f4-d030-4407-bc6a-4f6f778fa0d2:1726428340\", \"nom\": \"Blessed security auto benz\", \"email\": \"\", \"telephone1\": \"673645988\", \"telephone2\": \"655100005\", \"photo\": \"\", \"ville\": \"Yaounde\", \"pays\": \"\", \"longitude\": 11.527813, \"latitude\": 3.864444, \"type\": \"garage\", \"creation_date\": 1726427371}, {\"id\": \"00ce27d3-9a9e-4b57-b4a0-04b89686b8c7:1726428342\", \"nom\": \"Paco city auto benz\", \"email\": \"\", \"telephone1\": \"677659067\", \"telephone2\": \"697129877\", \"photo\": \"\", \"ville\": \"Yaounde\", \"pays\": \"\", \"longitude\": 11.527813, \"latitude\": 3.864444, \"type\": \"garage\", \"creation_date\": 1726427371}, {\"id\": \"c1d4d84e-d45b-4ff8-b4e6-15a06f49ee42:1726428344\", \"nom\": \"Ets New-York auto complexe\", \"email\": \"\", \"telephone1\": \"nan\", \"telephone2\": \"nan\", \"photo\": \"\", \"ville\": \"Yaounde\", \"pays\": \"\", \"longitude\": 11.527813, \"latitude\": 3.864444, \"type\": \"garage\", \"creation_date\": 1726427371}, {\"id\": \"181ed5bb-8114-4c96-b8f3-f022a3f0a60e:1726428347\", \"nom\": \"Paulson automobile\", \"email\": \"\", \"telephone1\": \"651452559\", \"telephone2\": \"nan\", \"photo\": \"\", \"ville\": \"Yaounde\", \"pays\": \"\", \"longitude\": 11.527813, \"latitude\": 3.864444, \"type\": \"garage\", \"creation_date\": 1726427371}, {\"id\": \"e71c721a-2a41-4795-a983-51d6f868a3c1:1726428349\", \"nom\": \"Waco auto benz\", \"email\": \"\", \"telephone1\": \"677456608\", \"telephone2\": \"nan\", \"photo\": \"\", \"ville\": \"Yaounde\", \"pays\": \"\", \"longitude\": 11.527813, \"latitude\": 3.864444, \"type\": \"garage\", \"creation_date\": 1726427371}, {\"id\": \"c9bfd86b-664a-4bd0-ab89-cc20de1b1d36:1726428351\", \"nom\": \"Chris automobile\", \"email\": \"\", \"telephone1\": \"677273751\", \"telephone2\": \"699866696\", \"photo\": \"\", \"ville\": \"Yaounde\", \"pays\": \"\", \"longitude\": 11.527813, \"latitude\": 3.864444, \"type\": \"garage\", \"creation_date\": 1726427371}, {\"id\": \"cdcff349-4fec-4916-aec8-a545339d2163:1726428353\", \"nom\": \"Nady Benz auto\", \"email\": \"\", \"telephone1\": \"694063016\", \"telephone2\": \"33731473\", \"photo\": \"\", \"ville\": \"Yaounde\", \"pays\": \"\", \"longitude\": 11.527813, \"latitude\": 3.864444, \"type\": \"garage\", \"creation_date\": 1726427371}, {\"id\": \"c566d000-568f-4d5c-a158-0cc9fbe92bcd:1726428356\", \"nom\": \"Soki auto\", \"email\": \"\", \"telephone1\": \"nan\", \"telephone2\": \"nan\", \"photo\": \"\", \"ville\": \"Yaounde\", \"pays\": \"\", \"longitude\": 11.527813, \"latitude\": 3.864444, \"type\": \"garage\", \"creation_date\": 1726427371}, {\"id\": \"903e3118-6416-45a3-bc07-dc1255a4b7bf:1726428358\", \"nom\": \"Albino automobile\", \"email\": \"\", \"telephone1\": \"nan\", \"telephone2\": \"nan\", \"photo\": \"\", \"ville\": \"Yaounde\", \"pays\": \"\", \"longitude\": 11.527813, \"latitude\": 3.864444, \"type\": \"garage\", \"creation_date\": 1726427371}, {\"id\": \"0a1e101b-b60d-4486-b708-9d1539b6a7f7:1726428360\", \"nom\": \"Easy auto plaza\", \"email\": \"\", \"telephone1\": \"nan\", \"telephone2\": \"nan\", \"photo\": \"\", \"ville\": \"Yaounde\", \"pays\": \"\", \"longitude\": 11.527813, \"latitude\": 3.864444, \"type\": \"garage\", \"creation_date\": 1726427371}, {\"id\": \"78bc316f-1787-4c9e-9436-bba7aafcf77a:1726428363\", \"nom\": \"Okeson auto plaza\", \"email\": \"okeson@yahoo.co.uk\", \"telephone1\": \"674713257\", \"telephone2\": \"699595889\", \"photo\": \"\", \"ville\": \"Yaounde\", \"pays\": \"\", \"longitude\": 11.527813, \"latitude\": 3.864444, \"type\": \"garage\", \"creation_date\": 1726427371}, {\"id\": \"58b8539d-519e-4505-8ee6-2254a4e5bb11:1726428365\", \"nom\": \"Saint Paul auto\", \"email\": \"\", \"telephone1\": \"679160080\", \"telephone2\": \"nan\", \"photo\": \"\", \"ville\": \"Yaounde\", \"pays\": \"\", \"longitude\": 11.527813, \"latitude\": 3.864444, \"type\": \"garage\", \"creation_date\": 1726427371}, {\"id\": \"28f9fb63-5c07-4b1b-ab65-c885360006b2:1726428368\", \"nom\": \"Mocee automobile\", \"email\": \"moceeauto@yahoo.com\", \"telephone1\": \"679741337\", \"telephone2\": \"nan\", \"photo\": \"\", \"ville\": \"Yaounde\", \"pays\": \"\", \"longitude\": 11.527813, \"latitude\": 3.864444, \"type\": \"garage\", \"creation_date\": 1726427371}, {\"id\": \"63705771-6fc2-4ed5-b2e6-bbc5495748e3:1726428370\", \"nom\": \"Adam auto\", \"email\": \"\", \"telephone1\": \"nan\", \"telephone2\": \"nan\", \"photo\": \"\", \"ville\": \"Yaounde\", \"pays\": \"\", \"longitude\": 11.527813, \"latitude\": 3.864444, \"type\": \"garage\", \"creation_date\": 1726427371}, {\"id\": \"a5cd45f3-f476-4035-aa54-8e358a453ed7:1726428373\", \"nom\": \"City automobile\", \"email\": \"\", \"telephone1\": \"nan\", \"telephone2\": \"nan\", \"photo\": \"\", \"ville\": \"Yaounde\", \"pays\": \"\", \"longitude\": 11.527813, \"latitude\": 3.864444, \"type\": \"garage\", \"creation_date\": 1726427371}, {\"id\": \"baf3ef31-85c5-40fc-bd89-b5f45d450ec0:1726428376\", \"nom\": \"\\u00c9l\\u00e9gance auto\", \"email\": \"\", \"telephone1\": \"674324008 795903\", \"telephone2\": \"675003510\", \"photo\": \"\", \"ville\": \"Yaounde\", \"pays\": \"\", \"longitude\": 11.527813, \"latitude\": 3.864444, \"type\": \"garage\", \"creation_date\": 1726427371}, {\"id\": \"b8b220d0-da6d-4aab-b781-4670a4f36377:1726428378\", \"nom\": \"Step kami auto sarl\", \"email\": \"\", \"telephone1\": \"694420132\", \"telephone2\": \"674716662\", \"photo\": \"\", \"ville\": \"Yaounde\", \"pays\": \"\", \"longitude\": 11.527813, \"latitude\": 3.864444, \"type\": \"pneu\", \"creation_date\": 1726427371}, {\"id\": \"caf52917-1aea-4e56-8103-2fce777a2117:1726428380\", \"nom\": \"Ets \\u00c0.O.A\", \"email\": \"\", \"telephone1\": \"698722884\", \"telephone2\": \"651430685\", \"photo\": \"\", \"ville\": \"Yaounde\", \"pays\": \"\", \"longitude\": 11.527813, \"latitude\": 3.864444, \"type\": \"garage\", \"creation_date\": 1726427371}, {\"id\": \"7b6ce205-c5a6-40fe-96fd-b96ebe7e2316:1726428383\", \"nom\": \"Godson auto plaza\", \"email\": \"\", \"telephone1\": \"655598555\", \"telephone2\": \"nan\", \"photo\": \"\", \"ville\": \"Yaounde\", \"pays\": \"\", \"longitude\": 11.527813, \"latitude\": 3.864444, \"type\": \"garage\", \"creation_date\": 1726427371}, {\"id\": \"ada38864-895a-4f5d-b589-d4230bb9030e:1726428385\", \"nom\": \"Freedom auto plaza\", \"email\": \"\", \"telephone1\": \"nan\", \"telephone2\": \"nan\", \"photo\": \"\", \"ville\": \"Yaounde\", \"pays\": \"\", \"longitude\": 11.527813, \"latitude\": 3.864444, \"type\": \"garage\", \"creation_date\": 1726427371}, {\"id\": \"06028f0c-9dd2-401b-ada2-b5a51797f614:1726428387\", \"nom\": \"AUTO \\u00c9COLE ELISABETH\", \"email\": \"\", \"telephone1\": \"694652601\", \"telephone2\": \"676631939\", \"photo\": \"\", \"ville\": \"Yaounde\", \"pays\": \"\", \"longitude\": 11.492037, \"latitude\": 3.887603, \"type\": \"garage\", \"creation_date\": 1726427371}, {\"id\": \"92bf01cd-3af5-4918-8467-76d75367e25e:1726428390\", \"nom\": \"Chunks automobile\", \"email\": \"\", \"telephone1\": \"nan\", \"telephone2\": \"nan\", \"photo\": \"\", \"ville\": \"Yaounde\", \"pays\": \"\", \"longitude\": 11.527827, \"latitude\": 3.865137, \"type\": \"garage\", \"creation_date\": 1726427371}, {\"id\": \"29e9ff98-5038-49f9-876e-e96284244e02:1726428392\", \"nom\": \"Gozek automobile aka bebeto\", \"email\": \"\", \"telephone1\": \"nan\", \"telephone2\": \"nan\", \"photo\": \"\", \"ville\": \"Yaounde\", \"pays\": \"\", \"longitude\": 11.527827, \"latitude\": 3.865137, \"type\": \"garage\", \"creation_date\": 1726427371}, {\"id\": \"4232e4e5-5f73-4cc3-877a-1132e70660ee:1726428395\", \"nom\": \"Black automobile\", \"email\": \"\", \"telephone1\": \"693621600\", \"telephone2\": \"650313432\", \"photo\": \"\", \"ville\": \"Yaounde\", \"pays\": \"\", \"longitude\": 11.527827, \"latitude\": 3.865137, \"type\": \"garage\", \"creation_date\": 1726427371}, {\"id\": \"3db90234-fb21-471c-941e-36b48bbdec88:1726428398\", \"nom\": \"TRADEX\", \"email\": \"\", \"telephone1\": \"nan\", \"telephone2\": \"nan\", \"photo\": \"\", \"ville\": \"Yaounde\", \"pays\": \"\", \"longitude\": 11.491308, \"latitude\": 3.8962, \"type\": \"station\", \"creation_date\": 1726427371}, {\"id\": \"b09cbd06-6b22-4ece-8b33-5553ea1d8638:1726428400\", \"nom\": \"AUTO \\u00c9COLE NATIONAL\", \"email\": \"\", \"telephone1\": \"690104121\", \"telephone2\": \"675099974\", \"photo\": \"\", \"ville\": \"Yaounde\", \"pays\": \"\", \"longitude\": 11.491001, \"latitude\": 3.897397, \"type\": \"garage\", \"creation_date\": 1726427371}, {\"id\": \"cc7af7ee-3d35-4861-86ac-940fd8e99e5e:1726428403\", \"nom\": \"AUTO \\u00c9COLE LA COMPASSION\", \"email\": \"\", \"telephone1\": \"nan\", \"telephone2\": \"nan\", \"photo\": \"\", \"ville\": \"Yaounde\", \"pays\": \"\", \"longitude\": 11.491014, \"latitude\": 3.897403, \"type\": \"garage\", \"creation_date\": 1726427371}, {\"id\": \"76cdaf7f-f9e9-4c70-bae5-ae9a8c6d83b9:1726428405\", \"nom\": \"OLLER\", \"email\": \"\", \"telephone1\": \"nan\", \"telephone2\": \"nan\", \"photo\": \"\", \"ville\": \"Yaounde\", \"pays\": \"\", \"longitude\": 11.491061, \"latitude\": 3.897932, \"type\": \"garage\", \"creation_date\": 1726427371}, {\"id\": \"445bae2a-0fb4-4b30-9ef3-7aa1c8e9f19f:1726428407\", \"nom\": \"NEPTUNE OIL\", \"email\": \"\", \"telephone1\": \"nan\", \"telephone2\": \"nan\", \"photo\": \"\", \"ville\": \"Yaounde\", \"pays\": \"\", \"longitude\": 11.498382, \"latitude\": 3.896529, \"type\": \"station\", \"creation_date\": 1726427371}, {\"id\": \"c6554c52-2b1e-4810-bbe8-4c0d0af566c1:1726428409\", \"nom\": \"HORIZON ASSURANCE\", \"email\": \"\", \"telephone1\": \"nan\", \"telephone2\": \"nan\", \"photo\": \"\", \"ville\": \"Yaounde\", \"pays\": \"\", \"longitude\": 11.498967, \"latitude\": 3.885233, \"type\": \"assurance\", \"creation_date\": 1726427371}, {\"id\": \"d0d2e8b1-cb7e-4b0c-8a9c-545301f6274a:1726428412\", \"nom\": \"Station neptune oil\", \"email\": \"\", \"telephone1\": \"nan\", \"telephone2\": \"nan\", \"photo\": \"\", \"ville\": \"Yaounde\", \"pays\": \"\", \"longitude\": 11.511333, \"latitude\": 3.89078, \"type\": \"station\", \"creation_date\": 1726427371}, {\"id\": \"b7433fac-8e2b-4535-bc2e-e4c2f96d064f:1726428414\", \"nom\": \"Auto \\u00e9cole plan\\u00e8te\", \"email\": \"\", \"telephone1\": \"699117661\", \"telephone2\": \"678749508\", \"photo\": \"\", \"ville\": \"Yaounde\", \"pays\": \"\", \"longitude\": 11.512087, \"latitude\": 3.892303, \"type\": \"garage\", \"creation_date\": 1726427371}, {\"id\": \"e7c03b1b-7cd7-44a4-bfc7-726a114c363f:1726428417\", \"nom\": \"Kamay company sarl\", \"email\": \"kamaycomany@yahoo.fr\", \"telephone1\": \"622218520\", \"telephone2\": \"nan\", \"photo\": \"\", \"ville\": \"Yaounde\", \"pays\": \"\", \"longitude\": 11.513318, \"latitude\": 3.894154, \"type\": \"garage\", \"creation_date\": 1726427371}, {\"id\": \"d5689d97-65f1-4ef8-b524-1c0643f0f60a:1726428419\", \"nom\": \"Pr\\u00e9ventifs sa assurance\", \"email\": \"\", \"telephone1\": \"nan\", \"telephone2\": \"nan\", \"photo\": \"\", \"ville\": \"Yaounde\", \"pays\": \"\", \"longitude\": 11.513739, \"latitude\": 3.891411, \"type\": \"assurance\", \"creation_date\": 1726427371}, {\"id\": \"b574980d-c328-4fcf-a59b-c6f9f633783c:1726428421\", \"nom\": \"Activa assurance\", \"email\": \"\", \"telephone1\": \"nan\", \"telephone2\": \"nan\", \"photo\": \"\", \"ville\": \"Yaounde\", \"pays\": \"\", \"longitude\": 11.516143, \"latitude\": 3.869243, \"type\": \"assurance\", \"creation_date\": 1726427371}, {\"id\": \"9ceb14ec-4c78-4ed9-9b87-96034ee2a2ba:1726428424\", \"nom\": \"Chris car\", \"email\": \"info@chriscarservices.com\", \"telephone1\": \"699924786\", \"telephone2\": \"nan\", \"photo\": \"\", \"ville\": \"Yaounde\", \"pays\": \"\", \"longitude\": 11.516143, \"latitude\": 3.869243, \"type\": \"pneu\", \"creation_date\": 1726427371}, {\"id\": \"ba4b9e66-079a-4dac-89fb-1c9c3f43dbab:1726428426\", \"nom\": \"Montaigu auto ecole\", \"email\": \"\", \"telephone1\": \"677033775\", \"telephone2\": \"655894638\", \"photo\": \"\", \"ville\": \"Yaounde\", \"pays\": \"\", \"longitude\": 11.516143, \"latitude\": 3.869243, \"type\": \"garage\", \"creation_date\": 1726427371}, {\"id\": \"56a47f86-8fe2-442f-aee2-755bdf1ea40f:1726428428\", \"nom\": \"Clim auto\", \"email\": \"\", \"telephone1\": \"677894805\", \"telephone2\": \"699649028\", \"photo\": \"\", \"ville\": \"Yaounde\", \"pays\": \"\", \"longitude\": 11.516143, \"latitude\": 3.869243, \"type\": \"garage\", \"creation_date\": 1726427371}, {\"id\": \"dcecebab-269f-408f-9744-b425e65d68a8:1726428430\", \"nom\": \"Laverie moderne elegance auto\", \"email\": \"\", \"telephone1\": \"222313175\", \"telephone2\": \"672807984\", \"photo\": \"\", \"ville\": \"Yaounde\", \"pays\": \"\", \"longitude\": 11.516143, \"latitude\": 3.869243, \"type\": \"garage\", \"creation_date\": 1726427371}, {\"id\": \"44d1f7a0-17fe-4703-be5c-cbba96e9441f:1726428433\", \"nom\": \"Agence de voyage Men travel\", \"email\": \"\", \"telephone1\": \"69888822\", \"telephone2\": \"653333444\", \"photo\": \"\", \"ville\": \"Yaounde\", \"pays\": \"\", \"longitude\": 11.507596, \"latitude\": 3.868027, \"type\": \"garage\", \"creation_date\": 1726427371}, {\"id\": \"dbd1c1dc-7d98-4081-9671-f8db27b8e040:1726428435\", \"nom\": \"Eif lubrifiants\", \"email\": \"\", \"telephone1\": \"nan\", \"telephone2\": \"nan\", \"photo\": \"\", \"ville\": \"Yaounde\", \"pays\": \"\", \"longitude\": 11.507596, \"latitude\": 3.868027, \"type\": \"garage\", \"creation_date\": 1726427371}, {\"id\": \"1f6797f7-d287-4045-9bd9-29082a2f02e9:1726428487\", \"nom\": \"Eif lubrifiants\", \"email\": \"\", \"telephone1\": \"nan\", \"telephone2\": \"nan\", \"photo\": \"\", \"ville\": \"Yaounde\", \"pays\": \"\", \"longitude\": 11.507596, \"latitude\": 3.868027, \"type\": \"garage\", \"creation_date\": 1726428459}, {\"id\": \"305d1ba9-83ff-40fe-b48e-460b4b154129:1726428489\", \"nom\": \"Stations mrs\", \"email\": \"\", \"telephone1\": \"nan\", \"telephone2\": \"nan\", \"photo\": \"\", \"ville\": \"Yaounde\", \"pays\": \"\", \"longitude\": 11.507596, \"latitude\": 3.868027, \"type\": \"station\", \"creation_date\": 1726428459}, {\"id\": \"80e2efec-88bd-4a50-87ff-2ddc87dd9ef4:1726428492\", \"nom\": \"Total nlongkak\", \"email\": \"\", \"telephone1\": \"nan\", \"telephone2\": \"nan\", \"photo\": \"\", \"ville\": \"Yaounde\", \"pays\": \"\", \"longitude\": 11.507596, \"latitude\": 3.868027, \"type\": \"station\", \"creation_date\": 1726428459}, {\"id\": \"72a15a90-619d-4ca8-ad75-b7b512215212:1726428494\", \"nom\": \"Grand bazar motor\", \"email\": \"\", \"telephone1\": \"674692051\", \"telephone2\": \"674007671\", \"photo\": \"\", \"ville\": \"Yaounde\", \"pays\": \"\", \"longitude\": 11.507596, \"latitude\": 3.868027, \"type\": \"garage\", \"creation_date\": 1726428459}, {\"id\": \"a9b9cee0-f500-45dd-9e42-139b370ba9a4:1726428497\", \"nom\": \"Auto \\u00e9cole exponentielle\", \"email\": \"\", \"telephone1\": \"699921082\", \"telephone2\": \"650455525\", \"photo\": \"\", \"ville\": \"Yaounde\", \"pays\": \"\", \"longitude\": 11.507596, \"latitude\": 3.868027, \"type\": \"garage\", \"creation_date\": 1726428459}, {\"id\": \"b257613a-5e2d-4914-bcfe-3283501b8e29:1726428499\", \"nom\": \"Konimcam international\", \"email\": \"\", \"telephone1\": \"699906384\", \"telephone2\": \"nan\", \"photo\": \"\", \"ville\": \"Yaounde\", \"pays\": \"\", \"longitude\": 11.520793, \"latitude\": 3.884847, \"type\": \"pneu\", \"creation_date\": 1726428459}, {\"id\": \"f27a8c96-9cd8-476a-93b5-3392efd5a5ba:1726428502\", \"nom\": \"Ets ketcha\", \"email\": \"\", \"telephone1\": \"6750 5301\", \"telephone2\": \"nan\", \"photo\": \"\", \"ville\": \"Yaounde\", \"pays\": \"\", \"longitude\": 11.5208, \"latitude\": 3.886251, \"type\": \"pneu\", \"creation_date\": 1726428459}, {\"id\": \"d2d49bc5-1c2d-44fe-b935-5045b5f0d4a7:1726428504\", \"nom\": \"Auto \\u00e9cole turbo\", \"email\": \"\", \"telephone1\": \"670633340\", \"telephone2\": \"699958260\", \"photo\": \"\", \"ville\": \"Yaounde\", \"pays\": \"\", \"longitude\": 11.520922, \"latitude\": 3.886269, \"type\": \"garage\", \"creation_date\": 1726428459}, {\"id\": \"d6888dd0-ea28-49fb-a018-c88f9e44f9a6:1726428507\", \"nom\": \"Service Km auto\", \"email\": \"www.kia.-cm.com\", \"telephone1\": \"694504277\", \"telephone2\": \"674291917\", \"photo\": \"\", \"ville\": \"Yaounde\", \"pays\": \"\", \"longitude\": 11.521031, \"latitude\": 3.886217, \"type\": \"garage\", \"creation_date\": 1726428459}, {\"id\": \"49555856-3087-4794-9b05-0fb3a40d1348:1726428509\", \"nom\": \"Laverie moderne 24/24\", \"email\": \"\", \"telephone1\": \"nan\", \"telephone2\": \"nan\", \"photo\": \"\", \"ville\": \"Yaounde\", \"pays\": \"\", \"longitude\": 11.521705, \"latitude\": 3.886811, \"type\": \"garage\", \"creation_date\": 1726428459}, {\"id\": \"86b335ac-7a91-4f18-89c6-6510e4a6e271:1726428512\", \"nom\": \"Climatisation auto\", \"email\": \"\", \"telephone1\": \"691701660\", \"telephone2\": \"nan\", \"photo\": \"\", \"ville\": \"Yaounde\", \"pays\": \"\", \"longitude\": 11.521679, \"latitude\": 3.88764, \"type\": \"garage\", \"creation_date\": 1726428459}, {\"id\": \"dbc820b0-4662-4418-b2b0-977772336ea2:1726428514\", \"nom\": \"Station Mrs\", \"email\": \"\", \"telephone1\": \"nan\", \"telephone2\": \"nan\", \"photo\": \"\", \"ville\": \"Yaounde\", \"pays\": \"\", \"longitude\": 11.521691, \"latitude\": 3.88767, \"type\": \"station\", \"creation_date\": 1726428459}, {\"id\": \"ff1bb55b-bc78-4394-ae7b-b513b606fef0:1726428517\", \"nom\": \"Auto \\u00e9cole madina\", \"email\": \"autoecolemadina@yahoo.fr\", \"telephone1\": \"696055792\", \"telephone2\": \"nan\", \"photo\": \"\", \"ville\": \"Yaounde\", \"pays\": \"\", \"longitude\": 11.52207, \"latitude\": 3.887161, \"type\": \"garage\", \"creation_date\": 1726428459}, {\"id\": \"25d54dd6-e3c7-4933-8339-6d01843f2ee0:1726428519\", \"nom\": \"Futurix assurance\", \"email\": \"\", \"telephone1\": \"nan\", \"telephone2\": \"nan\", \"photo\": \"\", \"ville\": \"Yaounde\", \"pays\": \"\", \"longitude\": 11.51803, \"latitude\": 3.883412, \"type\": \"assurance\", \"creation_date\": 1726428459}, {\"id\": \"faebfa50-b9f4-4097-8411-4f63b99bed5a:1726428521\", \"nom\": \"Tourism express\", \"email\": \"\", \"telephone1\": \"nan\", \"telephone2\": \"nan\", \"photo\": \"\", \"ville\": \"Yaounde\", \"pays\": \"\", \"longitude\": 11.511427, \"latitude\": 3.876709, \"type\": \"agence-voyages\", \"creation_date\": 1726428459}, {\"id\": \"e1257e3e-0008-4af7-9e6e-095b995a516c:1726428524\", \"nom\": \"Auto \\u00e9cole manu\", \"email\": \"\", \"telephone1\": \"677789613\", \"telephone2\": \"691469092\", \"photo\": \"\", \"ville\": \"Yaounde\", \"pays\": \"\", \"longitude\": 11.51803, \"latitude\": 3.883413, \"type\": \"garage\", \"creation_date\": 1726428459}, {\"id\": \"2b0bb5c0-cae0-4ade-891c-c6d17079b75e:1726428526\", \"nom\": \"Agent g\\u00e9n\\u00e9ral assurance\", \"email\": \"saarnlongkak@yahoo.fr\", \"telephone1\": \"222215793\", \"telephone2\": \"652625288\", \"photo\": \"\", \"ville\": \"Yaounde\", \"pays\": \"\", \"longitude\": 11.51803, \"latitude\": 3.883413, \"type\": \"assurance\", \"creation_date\": 1726428459}, {\"id\": \"4eed9adb-a448-4f29-874f-829c61b7a8c5:1726428528\", \"nom\": \"Globic assurance sa\", \"email\": \"\", \"telephone1\": \"nan\", \"telephone2\": \"nan\", \"photo\": \"\", \"ville\": \"Yaounde\", \"pays\": \"\", \"longitude\": 11.51803, \"latitude\": 3.883413, \"type\": \"assurance\", \"creation_date\": 1726428459}, {\"id\": \"3bc8b87b-3372-44a8-a415-9f6f3e1a5255:1726428531\", \"nom\": \"Station Total nlongkak\", \"email\": \"\", \"telephone1\": \"nan\", \"telephone2\": \"nan\", \"photo\": \"\", \"ville\": \"Yaounde\", \"pays\": \"\", \"longitude\": 11.51803, \"latitude\": 3.883413, \"type\": \"station\", \"creation_date\": 1726428459}, {\"id\": \"2cd41fa6-8540-456f-a7c1-1bf3d0ebd75e:1726428533\", \"nom\": \"Station Ola energy\", \"email\": \"\", \"telephone1\": \"nan\", \"telephone2\": \"nan\", \"photo\": \"\", \"ville\": \"Yaounde\", \"pays\": \"\", \"longitude\": 11.518662, \"latitude\": 3.88386, \"type\": \"station\", \"creation_date\": 1726428459}, {\"id\": \"1650c663-5a6d-4b34-86d9-4a874a9c3631:1726428535\", \"nom\": \"Station tradex\", \"email\": \"\", \"telephone1\": \"8\", \"telephone2\": \"nan\", \"photo\": \"\", \"ville\": \"Yaounde\", \"pays\": \"\", \"longitude\": 11.473867, \"latitude\": 3.875507, \"type\": \"station\", \"creation_date\": 1726428459}, {\"id\": \"e1c41ee9-ae20-48d8-b3d6-0ce6452bfb60:1726428538\", \"nom\": \"Pneumatique services\", \"email\": \"\", \"telephone1\": \"nan\", \"telephone2\": \"nan\", \"photo\": \"\", \"ville\": \"Yaounde\", \"pays\": \"\", \"longitude\": 11.467294, \"latitude\": 3.872402, \"type\": \"pneu\", \"creation_date\": 1726428459}, {\"id\": \"84d7bc85-39a7-4f86-8583-812b4fcb7e8a:1726428540\", \"nom\": \"Nk automotive\", \"email\": \"kamenifranck419@gmail.com\", \"telephone1\": \"695317003\", \"telephone2\": \"651884319\", \"photo\": \"\", \"ville\": \"Yaounde\", \"pays\": \"\", \"longitude\": 11.541609, \"latitude\": 3.871413, \"type\": \"garage\", \"creation_date\": 1726428459}, {\"id\": \"5a007c69-83e3-4a25-9714-e9843a18a598:1726428542\", \"nom\": \"NEPTUNE OIL\", \"email\": \"\", \"telephone1\": \"nan\", \"telephone2\": \"nan\", \"photo\": \"\", \"ville\": \"Yaounde\", \"pays\": \"\", \"longitude\": 11.563925, \"latitude\": 3.815939, \"type\": \"station\", \"creation_date\": 1726428459}, {\"id\": \"66622558-5874-44c7-9951-befe2dfd34fb:1726428545\", \"nom\": \"TOTAL ENERGIES\", \"email\": \"\", \"telephone1\": \"nan\", \"telephone2\": \"nan\", \"photo\": \"\", \"ville\": \"Yaounde\", \"pays\": \"\", \"longitude\": 11.559964, \"latitude\": 3.819307, \"type\": \"station\", \"creation_date\": 1726428459}, {\"id\": \"035c571f-4433-4dd6-a1e0-1ddf7281b77f:1726428547\", \"nom\": \"Visit technique\", \"email\": \"\", \"telephone1\": \"nan\", \"telephone2\": \"nan\", \"photo\": \"\", \"ville\": \"Yaounde\", \"pays\": \"\", \"longitude\": 11.583819, \"latitude\": 3.859196, \"type\": \"garage\", \"creation_date\": 1726428459}, {\"id\": \"1cc49bdb-189b-4d56-b587-8b61f5a5b927:1726428549\", \"nom\": \"OLYX OIL\", \"email\": \"\", \"telephone1\": \"nan\", \"telephone2\": \"nan\", \"photo\": \"\", \"ville\": \"Yaounde\", \"pays\": \"\", \"longitude\": 11.572101, \"latitude\": 3.862579, \"type\": \"station\", \"creation_date\": 1726428459}]}\n"
     ]
    }
   ],
   "source": [
    "reqdel = requests.get(auth_api+'/garages/get',headers=headers)\n",
    "print(reqdel.text)"
   ]
  },
  {
   "cell_type": "code",
   "execution_count": 25,
   "metadata": {},
   "outputs": [
    {
     "name": "stdout",
     "output_type": "stream",
     "text": [
      "{\"error\": false, \"code\": 0, \"data\": [{\"id\": \"af5398d9-f625-4817-ba08-ba74717f0855:1726428183\", \"nom\": \"Gmc assurance\", \"email\": \"gmc assurance. com\", \"telephone1\": \"677748992\", \"telephone2\": \"243014707\", \"photo\": \"\", \"ville\": \"Yaounde\", \"description\": \"Assurance accident,assurances de permis et maladie\", \"pays\": \"\", \"longitude\": 11.480262, \"distance\": 3893.1505438205345, \"latitude\": 3.86801, \"type\": \"assurance\", \"creation_date\": 1726427371}, {\"id\": \"be595157-3aa1-4208-a194-4926671de939:1726428211\", \"nom\": \"Prudential beneficial life insurances\", \"email\": \"client@prubeneficial.cm\", \"telephone1\": \"677153055\", \"telephone2\": \"233427236\", \"photo\": \"\", \"ville\": \"Yaounde\", \"description\": \"Assurance accident, assurance transport\", \"pays\": \"\", \"longitude\": 11.480262, \"distance\": 3893.1505438205345, \"latitude\": 3.86801, \"type\": \"assurance\", \"creation_date\": 1726427371}, {\"id\": \"cbc3d98d-712f-4521-93b1-ce7292756181:1726427669\", \"nom\": \"CHRONO ASSURANCE\", \"email\": \"info@atchrono-assurance.com\", \"telephone1\": \"658285050\", \"telephone2\": \"nan\", \"photo\": \"\", \"ville\": \"Yaounde\", \"description\": \"Assurance automobile\", \"pays\": \"\", \"longitude\": 11.481961, \"distance\": 4897.764018335414, \"latitude\": 3.857076, \"type\": \"assurance\", \"creation_date\": 1726427371}, {\"id\": \"c6554c52-2b1e-4810-bbe8-4c0d0af566c1:1726428409\", \"nom\": \"HORIZON ASSURANCE\", \"email\": \"\", \"telephone1\": \"nan\", \"telephone2\": \"nan\", \"photo\": \"\", \"ville\": \"Yaounde\", \"description\": \"Assurance auto, sant\\u00e9 et vie\", \"pays\": \"\", \"longitude\": 11.498967, \"distance\": 5054.082527323123, \"latitude\": 3.885233, \"type\": \"assurance\", \"creation_date\": 1726427371}, {\"id\": \"216def7a-9b8a-414d-a9d5-6e81e43cda92:1726428081\", \"nom\": \"SABUM ASSURANCE\", \"email\": \"\", \"telephone1\": \"nan\", \"telephone2\": \"nan\", \"photo\": \"\", \"ville\": \"Yaounde\", \"description\": \"Assurance auto, sant\\u00e9, vie etc...\", \"pays\": \"\", \"longitude\": 11.492957, \"distance\": 5790.392175396535, \"latitude\": 3.856575, \"type\": \"assurance\", \"creation_date\": 1726427371}, {\"id\": \"b76c7aaf-5239-4671-a394-2092e4564954:1726427614\", \"nom\": \"PRUDENTIAL BENEFICIAL\", \"email\": \"\", \"telephone1\": \"677153055\", \"telephone2\": \"nan\", \"photo\": \"\", \"ville\": \"Yaounde\", \"description\": \"Assurance automobile\", \"pays\": \"\", \"longitude\": 11.504325, \"distance\": 6295.791959859085, \"latitude\": 3.865245, \"type\": \"assurance\", \"creation_date\": 1726427371}, {\"id\": \"54211dfe-d2b8-408b-a3b3-ce0dc41d39c5:1726427889\", \"nom\": \"ZENITHE ASSURANCE\", \"email\": \"\", \"telephone1\": \"694311145\", \"telephone2\": \"nan\", \"photo\": \"\", \"ville\": \"Yaounde\", \"description\": \"ASSURANCE AUTOMOBILE, ASSURANCE ACCIDENT ET SANT\\u00c9\", \"pays\": \"\", \"longitude\": 11.486835, \"distance\": 6448.077956294254, \"latitude\": 3.843283, \"type\": \"assurance\", \"creation_date\": 1726427371}, {\"id\": \"d5689d97-65f1-4ef8-b524-1c0643f0f60a:1726428419\", \"nom\": \"Pr\\u00e9ventifs sa assurance\", \"email\": \"\", \"telephone1\": \"nan\", \"telephone2\": \"nan\", \"photo\": \"\", \"ville\": \"Yaounde\", \"description\": \"Intermersiation assurance et risk management\", \"pays\": \"\", \"longitude\": 11.513739, \"distance\": 6652.506124294185, \"latitude\": 3.891411, \"type\": \"assurance\", \"creation_date\": 1726427371}, {\"id\": \"3c3b38ab-771b-4e1b-a834-a52ec1c03570:1726427730\", \"nom\": \"ALLIANZE\", \"email\": \"\", \"telephone1\": \"nan\", \"telephone2\": \"697857590\", \"photo\": \"\", \"ville\": \"Yaounde\", \"description\": \"Assurance automobile, assurance sant\\u00e9, accident et assurance vie\", \"pays\": \"\", \"longitude\": 11.515506, \"distance\": 7023.097678963536, \"latitude\": 3.876978, \"type\": \"assurance\", \"creation_date\": 1726427371}, {\"id\": \"40175643-c8cb-4b07-8ec3-27a91db3daac:1726427914\", \"nom\": \"ADPROM S.A\", \"email\": \"\", \"telephone1\": \"669003483\", \"telephone2\": \"nan\", \"photo\": \"\", \"ville\": \"Yaounde\", \"description\": \"Assurance automobile, sant\\u00e9\", \"pays\": \"\", \"longitude\": 11.483512, \"distance\": 7024.887412239083, \"latitude\": 3.835201, \"type\": \"assurance\", \"creation_date\": 1726427371}, {\"id\": \"2b0bb5c0-cae0-4ade-891c-c6d17079b75e:1726428526\", \"nom\": \"Agent g\\u00e9n\\u00e9ral assurance\", \"email\": \"saarnlongkak@yahoo.fr\", \"telephone1\": \"222215793\", \"telephone2\": \"652625288\", \"photo\": \"\", \"ville\": \"Yaounde\", \"description\": \"Courtier d'assurance et reassurance\", \"pays\": \"\", \"longitude\": 11.51803, \"distance\": 7177.851017358928, \"latitude\": 3.883413, \"type\": \"assurance\", \"creation_date\": 1726428459}, {\"id\": \"4eed9adb-a448-4f29-874f-829c61b7a8c5:1726428528\", \"nom\": \"Globic assurance sa\", \"email\": \"\", \"telephone1\": \"nan\", \"telephone2\": \"nan\", \"photo\": \"\", \"ville\": \"Yaounde\", \"description\": \"Conseil et courtage en reassurance\", \"pays\": \"\", \"longitude\": 11.51803, \"distance\": 7177.851017358928, \"latitude\": 3.883413, \"type\": \"assurance\", \"creation_date\": 1726428459}, {\"id\": \"25d54dd6-e3c7-4933-8339-6d01843f2ee0:1726428519\", \"nom\": \"Futurix assurance\", \"email\": \"\", \"telephone1\": \"nan\", \"telephone2\": \"nan\", \"photo\": \"\", \"ville\": \"Yaounde\", \"description\": \"Courtier en assurance et r\\u00e9assurance\", \"pays\": \"\", \"longitude\": 11.51803, \"distance\": 7177.864051919852, \"latitude\": 3.883412, \"type\": \"assurance\", \"creation_date\": 1726428459}, {\"id\": \"b574980d-c328-4fcf-a59b-c6f9f633783c:1726428421\", \"nom\": \"Activa assurance\", \"email\": \"\", \"telephone1\": \"nan\", \"telephone2\": \"nan\", \"photo\": \"\", \"ville\": \"Yaounde\", \"description\": \"Assurance vehiculier, assurance maladie et accident\", \"pays\": \"\", \"longitude\": 11.516143, \"distance\": 7329.031993466633, \"latitude\": 3.869243, \"type\": \"assurance\", \"creation_date\": 1726427371}, {\"id\": \"7089b365-a104-4288-9208-c924662d71e0:1726428096\", \"nom\": \"Frazassur assurance\", \"email\": \"\", \"telephone1\": \"696761633\", \"telephone2\": \"672902864\", \"photo\": \"\", \"ville\": \"Yaounde\", \"description\": \"Assurance automobile, assurance individuelle accident, assurance transport des marchandise, assurance voyage\", \"pays\": \"\", \"longitude\": 11.476734, \"distance\": 7628.670040726615, \"latitude\": 3.826308, \"type\": \"assurance\", \"creation_date\": 1726427371}, {\"id\": \"fa4a472a-33a2-4c3f-b2ed-705de05dc55b:1726428111\", \"nom\": \"Kitassurance\", \"email\": \"kitassur85@yahoo.com\", \"telephone1\": \"696340650\", \"telephone2\": \"670753576\", \"photo\": \"\", \"ville\": \"Yaounde\", \"description\": \"Assurance nationale, assurance de voyage\", \"pays\": \"\", \"longitude\": 11.476734, \"distance\": 7628.670040726615, \"latitude\": 3.826308, \"type\": \"assurance\", \"creation_date\": 1726427371}, {\"id\": \"41339ab7-2fb7-43de-851e-8bb416f54ef5:1726428116\", \"nom\": \"Assurance G\\u00e9n\\u00e9rales du Cameroun\", \"email\": \"\", \"telephone1\": \"677830199\", \"telephone2\": \"nan\", \"photo\": \"\", \"ville\": \"Yaounde\", \"description\": \"Assurance voyage, nationale et accident\", \"pays\": \"\", \"longitude\": 11.476734, \"distance\": 7628.670040726615, \"latitude\": 3.826308, \"type\": \"assurance\", \"creation_date\": 1726427371}, {\"id\": \"e5fe7a85-84db-4de8-9c97-8eaa67925804:1726428120\", \"nom\": \"Assurance intercontinentale\", \"email\": \"\", \"telephone1\": \"655929033\", \"telephone2\": \"690586316\", \"photo\": \"\", \"ville\": \"Yaounde\", \"description\": \"Assurance automobiles maladies, caution et risques divers\", \"pays\": \"\", \"longitude\": 11.476734, \"distance\": 7628.670040726615, \"latitude\": 3.826308, \"type\": \"assurance\", \"creation_date\": 1726427371}, {\"id\": \"8d3bc9f4-75cc-47a8-b2ba-d61940d57dfb:1726427898\", \"nom\": \"Assurance automobile\", \"email\": \"\", \"telephone1\": \"659184828\", \"telephone2\": \"698154322\", \"photo\": \"\", \"ville\": \"Yaounde\", \"description\": \"Assurance auto, cautions des march\\u00e9s\", \"pays\": \"\", \"longitude\": 11.521406, \"distance\": 8095.432802201216, \"latitude\": 3.863639, \"type\": \"assurance\", \"creation_date\": 1726427371}]}\n"
     ]
    }
   ],
   "source": [
    "body={\n",
    "    \"latitude\": 3.890977,\n",
    "    \"longitude\": 11.453775,\n",
    "    \"key\": \"assurance\",\n",
    "}\n",
    "reqdel = requests.post(auth_api+'/garages/around/get',headers=headers,json=body)\n",
    "print(reqdel.text)"
   ]
  },
  {
   "cell_type": "markdown",
   "metadata": {},
   "source": [
    "## Add new garage"
   ]
  },
  {
   "cell_type": "markdown",
   "metadata": {},
   "source": [
    "### read upload file"
   ]
  },
  {
   "cell_type": "code",
   "execution_count": 3,
   "metadata": {},
   "outputs": [],
   "source": [
    "import pandas as pd"
   ]
  },
  {
   "cell_type": "code",
   "execution_count": 4,
   "metadata": {},
   "outputs": [
    {
     "data": {
      "text/plain": [
       "'D:\\\\MUNTUR AI\\\\API'"
      ]
     },
     "execution_count": 4,
     "metadata": {},
     "output_type": "execute_result"
    }
   ],
   "source": [
    "os.chdir(\"D:\\\\MUNTUR AI\\\\API\")\n",
    "os.getcwd()"
   ]
  },
  {
   "cell_type": "code",
   "execution_count": 9,
   "metadata": {},
   "outputs": [
    {
     "data": {
      "text/html": [
       "<div>\n",
       "<style scoped>\n",
       "    .dataframe tbody tr th:only-of-type {\n",
       "        vertical-align: middle;\n",
       "    }\n",
       "\n",
       "    .dataframe tbody tr th {\n",
       "        vertical-align: top;\n",
       "    }\n",
       "\n",
       "    .dataframe thead th {\n",
       "        text-align: right;\n",
       "    }\n",
       "</style>\n",
       "<table border=\"1\" class=\"dataframe\">\n",
       "  <thead>\n",
       "    <tr style=\"text-align: right;\">\n",
       "      <th></th>\n",
       "      <th>start</th>\n",
       "      <th>end</th>\n",
       "      <th>Nom du Garage</th>\n",
       "      <th>Services</th>\n",
       "      <th>Heure d'ouverture</th>\n",
       "      <th>Heure de fermeture</th>\n",
       "      <th>Telephone 1</th>\n",
       "      <th>Telephone 2</th>\n",
       "      <th>Email</th>\n",
       "      <th>Ville</th>\n",
       "      <th>Quartier</th>\n",
       "      <th>Coordonnees_GPS</th>\n",
       "      <th>_Coordonnees_GPS_latitude</th>\n",
       "      <th>_Coordonnees_GPS_longitude</th>\n",
       "      <th>_Coordonnees_GPS_altitude</th>\n",
       "      <th>_Coordonnees_GPS_precision</th>\n",
       "      <th>_index</th>\n",
       "    </tr>\n",
       "  </thead>\n",
       "  <tbody>\n",
       "    <tr>\n",
       "      <th>0</th>\n",
       "      <td>2024-08-09 23:34:39.059</td>\n",
       "      <td>2024-08-13 16:52:31.447</td>\n",
       "      <td>MISS AUTO</td>\n",
       "      <td>Vente des voiture, réparation automobile,vente...</td>\n",
       "      <td>07:00:00.000+01:00</td>\n",
       "      <td>21:00:00.000+01:00</td>\n",
       "      <td>699239048</td>\n",
       "      <td>670665756</td>\n",
       "      <td>missautocameroon@yahoo.com</td>\n",
       "      <td>Yaoundé</td>\n",
       "      <td>Bp3566 Emia</td>\n",
       "      <td>3.86694 11.504455 757.2999877929688 34.4000015...</td>\n",
       "      <td>3.866940</td>\n",
       "      <td>11.504455</td>\n",
       "      <td>757.299988</td>\n",
       "      <td>34.400002</td>\n",
       "      <td>4</td>\n",
       "    </tr>\n",
       "    <tr>\n",
       "      <th>1</th>\n",
       "      <td>2024-08-13 16:52:31.566</td>\n",
       "      <td>2024-08-13 16:55:40.602</td>\n",
       "      <td>GPS TRACKING</td>\n",
       "      <td>GPS tracking pour tout types de vehicles</td>\n",
       "      <td>07:30:00.000+01:00</td>\n",
       "      <td>22:00:00.000+01:00</td>\n",
       "      <td>656504850</td>\n",
       "      <td>NaN</td>\n",
       "      <td>NaN</td>\n",
       "      <td>Yaoundé</td>\n",
       "      <td>NaN</td>\n",
       "      <td>3.86593 11.504351 764.5999755859375 82.5</td>\n",
       "      <td>3.865930</td>\n",
       "      <td>11.504351</td>\n",
       "      <td>764.599976</td>\n",
       "      <td>82.500000</td>\n",
       "      <td>5</td>\n",
       "    </tr>\n",
       "    <tr>\n",
       "      <th>2</th>\n",
       "      <td>2024-08-13 16:55:40.707</td>\n",
       "      <td>2024-08-13 16:58:35.520</td>\n",
       "      <td>CHRIS SECURITY SYSTEM</td>\n",
       "      <td>Tout accessoires de la pick-up</td>\n",
       "      <td>08:30:00.000+01:00</td>\n",
       "      <td>19:30:00.000+01:00</td>\n",
       "      <td>674562000</td>\n",
       "      <td>690960867</td>\n",
       "      <td>NaN</td>\n",
       "      <td>Yaoundé</td>\n",
       "      <td>Emia</td>\n",
       "      <td>3.865975 11.504318 764.5999755859375 48.900001...</td>\n",
       "      <td>3.865975</td>\n",
       "      <td>11.504318</td>\n",
       "      <td>764.599976</td>\n",
       "      <td>48.900002</td>\n",
       "      <td>6</td>\n",
       "    </tr>\n",
       "    <tr>\n",
       "      <th>3</th>\n",
       "      <td>2024-08-13 16:58:35.578</td>\n",
       "      <td>2024-08-13 17:01:14.417</td>\n",
       "      <td>PRUDENTIAL BENEFICIAL</td>\n",
       "      <td>Assurance automobile</td>\n",
       "      <td>08:00:00.000+01:00</td>\n",
       "      <td>18:00:00.000+01:00</td>\n",
       "      <td>677153055</td>\n",
       "      <td>NaN</td>\n",
       "      <td>NaN</td>\n",
       "      <td>Yaoundé</td>\n",
       "      <td>Emia</td>\n",
       "      <td>3.865245 11.504325 769.7999877929688 56.099998...</td>\n",
       "      <td>3.865245</td>\n",
       "      <td>11.504325</td>\n",
       "      <td>769.799988</td>\n",
       "      <td>56.099998</td>\n",
       "      <td>7</td>\n",
       "    </tr>\n",
       "    <tr>\n",
       "      <th>4</th>\n",
       "      <td>2024-08-13 17:01:14.478</td>\n",
       "      <td>2024-08-13 17:03:45.745</td>\n",
       "      <td>TOTAL ÉNERGIES</td>\n",
       "      <td>Vidange, filtration, freinage, géométrie, équi...</td>\n",
       "      <td>07:00:00.000+01:00</td>\n",
       "      <td>22:30:00.000+01:00</td>\n",
       "      <td>NaN</td>\n",
       "      <td>NaN</td>\n",
       "      <td>NaN</td>\n",
       "      <td>Yaoundé</td>\n",
       "      <td>Emia</td>\n",
       "      <td>3.865763 11.504338 769.7999877929688 36.823402...</td>\n",
       "      <td>3.865763</td>\n",
       "      <td>11.504338</td>\n",
       "      <td>769.799988</td>\n",
       "      <td>36.823402</td>\n",
       "      <td>8</td>\n",
       "    </tr>\n",
       "  </tbody>\n",
       "</table>\n",
       "</div>"
      ],
      "text/plain": [
       "                    start                     end          Nom du Garage  \\\n",
       "0 2024-08-09 23:34:39.059 2024-08-13 16:52:31.447              MISS AUTO   \n",
       "1 2024-08-13 16:52:31.566 2024-08-13 16:55:40.602           GPS TRACKING   \n",
       "2 2024-08-13 16:55:40.707 2024-08-13 16:58:35.520  CHRIS SECURITY SYSTEM   \n",
       "3 2024-08-13 16:58:35.578 2024-08-13 17:01:14.417  PRUDENTIAL BENEFICIAL   \n",
       "4 2024-08-13 17:01:14.478 2024-08-13 17:03:45.745         TOTAL ÉNERGIES   \n",
       "\n",
       "                                            Services   Heure d'ouverture  \\\n",
       "0  Vente des voiture, réparation automobile,vente...  07:00:00.000+01:00   \n",
       "1           GPS tracking pour tout types de vehicles  07:30:00.000+01:00   \n",
       "2                     Tout accessoires de la pick-up  08:30:00.000+01:00   \n",
       "3                               Assurance automobile  08:00:00.000+01:00   \n",
       "4  Vidange, filtration, freinage, géométrie, équi...  07:00:00.000+01:00   \n",
       "\n",
       "   Heure de fermeture Telephone 1  Telephone 2                       Email  \\\n",
       "0  21:00:00.000+01:00    699239048   670665756  missautocameroon@yahoo.com   \n",
       "1  22:00:00.000+01:00    656504850         NaN                         NaN   \n",
       "2  19:30:00.000+01:00    674562000   690960867                         NaN   \n",
       "3  18:00:00.000+01:00    677153055         NaN                         NaN   \n",
       "4  22:30:00.000+01:00          NaN         NaN                         NaN   \n",
       "\n",
       "     Ville     Quartier                                    Coordonnees_GPS  \\\n",
       "0  Yaoundé  Bp3566 Emia  3.86694 11.504455 757.2999877929688 34.4000015...   \n",
       "1  Yaoundé          NaN           3.86593 11.504351 764.5999755859375 82.5   \n",
       "2  Yaoundé         Emia  3.865975 11.504318 764.5999755859375 48.900001...   \n",
       "3  Yaoundé         Emia  3.865245 11.504325 769.7999877929688 56.099998...   \n",
       "4  Yaoundé         Emia  3.865763 11.504338 769.7999877929688 36.823402...   \n",
       "\n",
       "   _Coordonnees_GPS_latitude  _Coordonnees_GPS_longitude  \\\n",
       "0                   3.866940                   11.504455   \n",
       "1                   3.865930                   11.504351   \n",
       "2                   3.865975                   11.504318   \n",
       "3                   3.865245                   11.504325   \n",
       "4                   3.865763                   11.504338   \n",
       "\n",
       "   _Coordonnees_GPS_altitude  _Coordonnees_GPS_precision  _index  \n",
       "0                 757.299988                   34.400002       4  \n",
       "1                 764.599976                   82.500000       5  \n",
       "2                 764.599976                   48.900002       6  \n",
       "3                 769.799988                   56.099998       7  \n",
       "4                 769.799988                   36.823402       8  "
      ]
     },
     "execution_count": 9,
     "metadata": {},
     "output_type": "execute_result"
    }
   ],
   "source": [
    "df = pd.read_excel(\"donnees_yaounde_0908-3008-2024.xlsx\")\n",
    "df.head()"
   ]
  },
  {
   "cell_type": "code",
   "execution_count": 10,
   "metadata": {},
   "outputs": [
    {
     "data": {
      "text/plain": [
       "Index(['start', 'end', 'Nom du Garage', 'Services', 'Heure d'ouverture',\n",
       "       'Heure de fermeture', 'Telephone 1 ', 'Telephone 2', 'Email', 'Ville',\n",
       "       'Quartier', 'Coordonnees_GPS', '_Coordonnees_GPS_latitude',\n",
       "       '_Coordonnees_GPS_longitude', '_Coordonnees_GPS_altitude',\n",
       "       '_Coordonnees_GPS_precision', '_index'],\n",
       "      dtype='object')"
      ]
     },
     "execution_count": 10,
     "metadata": {},
     "output_type": "execute_result"
    }
   ],
   "source": [
    "df.keys()"
   ]
  },
  {
   "cell_type": "code",
   "execution_count": 7,
   "metadata": {},
   "outputs": [],
   "source": [
    "def find_type(services:str):\n",
    "    # type_=\"garage\"\n",
    "    if (\"station\" in services.lower()) or  (\"carburant\" in services.lower()):\n",
    "        return \"station\"\n",
    "    elif (\"assurance\" in services.lower()) :\n",
    "        return \"assurance\"\n",
    "    elif (\"pneu\" in services.lower()) :\n",
    "        return \"pneu\"\n",
    "    elif (\"voyage\" in services.lower()) :\n",
    "        return \"agence-voyages\"\n",
    "    elif (\"école\" in services.lower()) :\n",
    "        return \"auto-ecole\"\n",
    "    return \"garage\""
   ]
  },
  {
   "cell_type": "code",
   "execution_count": 18,
   "metadata": {},
   "outputs": [
    {
     "name": "stdout",
     "output_type": "stream",
     "text": [
      "{\"error\": false, \"code\": 0, \"data\": {\"id\": \"1f6797f7-d287-4045-9bd9-29082a2f02e9:1726428487\", \"nom\": \"Eif lubrifiants\", \"description\": \"Ventes des lubrifiants et vidanges\", \"email\": \"\", \"ville\": \"Yaounde\", \"creation_date\": 1726428459}}\n",
      " ==== done : 1   ====  passed : 0\n",
      "{\"error\": false, \"code\": 0, \"data\": {\"id\": \"305d1ba9-83ff-40fe-b48e-460b4b154129:1726428489\", \"nom\": \"Stations mrs\", \"description\": \"Point de carburant, vente de gaz domestique, laverie\", \"email\": \"\", \"ville\": \"Yaounde\", \"creation_date\": 1726428459}}\n",
      " ==== done : 2   ====  passed : 0\n",
      "{\"error\": false, \"code\": 0, \"data\": {\"id\": \"80e2efec-88bd-4a50-87ff-2ddc87dd9ef4:1726428492\", \"nom\": \"Total nlongkak\", \"description\": \"Point de carburant, vente de gaz domestique, car wash et boutique\", \"email\": \"\", \"ville\": \"Yaounde\", \"creation_date\": 1726428459}}\n",
      " ==== done : 3   ====  passed : 0\n",
      "{\"error\": false, \"code\": 0, \"data\": {\"id\": \"72a15a90-619d-4ca8-ad75-b7b512215212:1726428494\", \"nom\": \"Grand bazar motor\", \"description\": \"Ventes des motos et pi\\u00e8ces d\\u00e9tach\\u00e9es des motos\", \"email\": \"\", \"ville\": \"Yaounde\", \"creation_date\": 1726428459}}\n",
      " ==== done : 4   ====  passed : 0\n",
      "{\"error\": false, \"code\": 0, \"data\": {\"id\": \"a9b9cee0-f500-45dd-9e42-139b370ba9a4:1726428497\", \"nom\": \"Auto \\u00e9cole exponentielle\", \"description\": \"Formation en conduite de voitures et permis international\", \"email\": \"\", \"ville\": \"Yaounde\", \"creation_date\": 1726428459}}\n",
      " ==== done : 5   ====  passed : 0\n",
      "{\"error\": false, \"code\": 0, \"data\": {\"id\": \"b257613a-5e2d-4914-bcfe-3283501b8e29:1726428499\", \"nom\": \"Konimcam international\", \"description\": \"Sp\\u00e9cialiste en soudures et jantes, ventes des pneus\", \"email\": \"\", \"ville\": \"Yaounde\", \"creation_date\": 1726428459}}\n",
      " ==== done : 6   ====  passed : 0\n",
      "{\"error\": false, \"code\": 0, \"data\": {\"id\": \"f27a8c96-9cd8-476a-93b5-3392efd5a5ba:1726428502\", \"nom\": \"Ets ketcha\", \"description\": \"Ventes des pi\\u00e8ces d\\u00e9tach\\u00e9es voitures, des pneus Michelin et des jantes\", \"email\": \"\", \"ville\": \"Yaounde\", \"creation_date\": 1726428459}}\n",
      " ==== done : 7   ====  passed : 0\n",
      "{\"error\": false, \"code\": 0, \"data\": {\"id\": \"d2d49bc5-1c2d-44fe-b935-5045b5f0d4a7:1726428504\", \"nom\": \"Auto \\u00e9cole turbo\", \"description\": \"Formation en conduite voitures rapide, management et risque, et permis international\", \"email\": \"\", \"ville\": \"Yaounde\", \"creation_date\": 1726428459}}\n",
      " ==== done : 8   ====  passed : 0\n",
      "{\"error\": false, \"code\": 0, \"data\": {\"id\": \"d6888dd0-ea28-49fb-a018-c88f9e44f9a6:1726428507\", \"nom\": \"Service Km auto\", \"description\": \"Diagnostic \\u00e9lectronique, t\\u00f4lerie et peinture de voitures, maintenance et vidange\", \"email\": \"www.kia.-cm.com\", \"ville\": \"Yaounde\", \"creation_date\": 1726428459}}\n",
      " ==== done : 9   ====  passed : 0\n",
      "{\"error\": false, \"code\": 0, \"data\": {\"id\": \"49555856-3087-4794-9b05-0fb3a40d1348:1726428509\", \"nom\": \"Laverie moderne 24/24\", \"description\": \"Haute pression aspirateur\", \"email\": \"\", \"ville\": \"Yaounde\", \"creation_date\": 1726428459}}\n",
      " ==== done : 10   ====  passed : 0\n",
      "{\"error\": false, \"code\": 0, \"data\": {\"id\": \"86b335ac-7a91-4f18-89c6-6510e4a6e271:1726428512\", \"nom\": \"Climatisation auto\", \"description\": \"Recharge de batteries, installation d'alarme, et ventes huiles de vidanges\", \"email\": \"\", \"ville\": \"Yaounde\", \"creation_date\": 1726428459}}\n",
      " ==== done : 11   ====  passed : 0\n",
      "{\"error\": false, \"code\": 0, \"data\": {\"id\": \"dbc820b0-4662-4418-b2b0-977772336ea2:1726428514\", \"nom\": \"Station Mrs\", \"description\": \"Point de carburant, graissage et vente de gaz domestique\", \"email\": \"\", \"ville\": \"Yaounde\", \"creation_date\": 1726428459}}\n",
      " ==== done : 12   ====  passed : 0\n",
      "{\"error\": false, \"code\": 0, \"data\": {\"id\": \"ff1bb55b-bc78-4394-ae7b-b513b606fef0:1726428517\", \"nom\": \"Auto \\u00e9cole madina\", \"description\": \"Apprentissage auto, permis internationale\", \"email\": \"autoecolemadina@yahoo.fr\", \"ville\": \"Yaounde\", \"creation_date\": 1726428459}}\n",
      " ==== done : 13   ====  passed : 0\n",
      "{\"error\": false, \"code\": 0, \"data\": {\"id\": \"25d54dd6-e3c7-4933-8339-6d01843f2ee0:1726428519\", \"nom\": \"Futurix assurance\", \"description\": \"Courtier en assurance et r\\u00e9assurance\", \"email\": \"\", \"ville\": \"Yaounde\", \"creation_date\": 1726428459}}\n",
      " ==== done : 14   ====  passed : 0\n",
      "{\"error\": false, \"code\": 0, \"data\": {\"id\": \"faebfa50-b9f4-4097-8411-4f63b99bed5a:1726428521\", \"nom\": \"Tourism express\", \"description\": \"Agences de voyages\", \"email\": \"\", \"ville\": \"Yaounde\", \"creation_date\": 1726428459}}\n",
      " ==== done : 15   ====  passed : 0\n",
      "{\"error\": false, \"code\": 0, \"data\": {\"id\": \"e1257e3e-0008-4af7-9e6e-095b995a516c:1726428524\", \"nom\": \"Auto \\u00e9cole manu\", \"description\": \"Formation en toute cat\\u00e9gories de permis de voitures\", \"email\": \"\", \"ville\": \"Yaounde\", \"creation_date\": 1726428459}}\n",
      " ==== done : 16   ====  passed : 0\n",
      "{\"error\": false, \"code\": 0, \"data\": {\"id\": \"2b0bb5c0-cae0-4ade-891c-c6d17079b75e:1726428526\", \"nom\": \"Agent g\\u00e9n\\u00e9ral assurance\", \"description\": \"Courtier d'assurance et reassurance\", \"email\": \"saarnlongkak@yahoo.fr\", \"ville\": \"Yaounde\", \"creation_date\": 1726428459}}\n",
      " ==== done : 17   ====  passed : 0\n",
      "{\"error\": false, \"code\": 0, \"data\": {\"id\": \"4eed9adb-a448-4f29-874f-829c61b7a8c5:1726428528\", \"nom\": \"Globic assurance sa\", \"description\": \"Conseil et courtage en reassurance\", \"email\": \"\", \"ville\": \"Yaounde\", \"creation_date\": 1726428459}}\n",
      " ==== done : 18   ====  passed : 0\n",
      "{\"error\": false, \"code\": 0, \"data\": {\"id\": \"3bc8b87b-3372-44a8-a415-9f6f3e1a5255:1726428531\", \"nom\": \"Station Total nlongkak\", \"description\": \"Car wash, point de carburant\", \"email\": \"\", \"ville\": \"Yaounde\", \"creation_date\": 1726428459}}\n",
      " ==== done : 19   ====  passed : 0\n",
      "{\"error\": false, \"code\": 0, \"data\": {\"id\": \"2cd41fa6-8540-456f-a7c1-1bf3d0ebd75e:1726428533\", \"nom\": \"Station Ola energy\", \"description\": \"Graissage, point de carburant et boutique\", \"email\": \"\", \"ville\": \"Yaounde\", \"creation_date\": 1726428459}}\n",
      " ==== done : 20   ====  passed : 0\n",
      "{\"error\": false, \"code\": 0, \"data\": {\"id\": \"1650c663-5a6d-4b34-86d9-4a874a9c3631:1726428535\", \"nom\": \"Station tradex\", \"description\": \"Point de carburant, graissage, boutique et car wash\", \"email\": \"\", \"ville\": \"Yaounde\", \"creation_date\": 1726428459}}\n",
      " ==== done : 21   ====  passed : 0\n",
      "{\"error\": false, \"code\": 0, \"data\": {\"id\": \"e1c41ee9-ae20-48d8-b3d6-0ce6452bfb60:1726428538\", \"nom\": \"Pneumatique services\", \"description\": \"Ventes des pneus et accessoires pneumatiques\", \"email\": \"\", \"ville\": \"Yaounde\", \"creation_date\": 1726428459}}\n",
      " ==== done : 22   ====  passed : 0\n",
      "{\"error\": false, \"code\": 0, \"data\": {\"id\": \"84d7bc85-39a7-4f86-8583-812b4fcb7e8a:1726428540\", \"nom\": \"Nk automotive\", \"description\": \"\\u00c9lectricien,\\u00e9lectronicien,vente appareils automobile\", \"email\": \"kamenifranck419@gmail.com\", \"ville\": \"Yaounde\", \"creation_date\": 1726428459}}\n",
      " ==== done : 23   ====  passed : 0\n",
      "{\"error\": false, \"code\": 0, \"data\": {\"id\": \"5a007c69-83e3-4a25-9714-e9843a18a598:1726428542\", \"nom\": \"NEPTUNE OIL\", \"description\": \"Vente de carburant, bouteille \\u00e0 gaz domestique,\", \"email\": \"\", \"ville\": \"Yaounde\", \"creation_date\": 1726428459}}\n",
      " ==== done : 24   ====  passed : 0\n",
      "{\"error\": false, \"code\": 0, \"data\": {\"id\": \"66622558-5874-44c7-9951-befe2dfd34fb:1726428545\", \"nom\": \"TOTAL ENERGIES\", \"description\": \"Vente de carburant, bouteille \\u00e0 gaz domestique, vidange, graissage\", \"email\": \"\", \"ville\": \"Yaounde\", \"creation_date\": 1726428459}}\n",
      " ==== done : 25   ====  passed : 0\n",
      "{\"error\": false, \"code\": 0, \"data\": {\"id\": \"035c571f-4433-4dd6-a1e0-1ddf7281b77f:1726428547\", \"nom\": \"Visit technique\", \"description\": \"Visit technique automobile, diagnostique\", \"email\": \"\", \"ville\": \"Yaounde\", \"creation_date\": 1726428459}}\n",
      " ==== done : 26   ====  passed : 0\n",
      "{\"error\": false, \"code\": 0, \"data\": {\"id\": \"1cc49bdb-189b-4d56-b587-8b61f5a5b927:1726428549\", \"nom\": \"OLYX OIL\", \"description\": \"Vente de carburant, bouteille \\u00e0 gaz domestique, graissage, vidange\", \"email\": \"\", \"ville\": \"Yaounde\", \"creation_date\": 1726428459}}\n",
      " ==== done : 27   ====  passed : 0\n"
     ]
    }
   ],
   "source": [
    "out , done = 0 , 0\n",
    "\n",
    "for i in range(343,df.shape[0]):\n",
    "\n",
    "    if not (pd.isna(df.iloc[i][\"_Coordonnees_GPS_latitude\"]) and pd.isna(df.iloc[i][\"_Coordonnees_GPS_latitude\"])):\n",
    "        garage={\n",
    "            \"nom\": df.iloc[i][\"Nom du Garage\"],\n",
    "            \"description\": df.iloc[i][\"Services\"],\n",
    "            \"email\": '' if pd.isna(df.iloc[i][\"Email\"]) else (df.iloc[i][\"Email\"]).lower(),\n",
    "            \"telephone1\": df.iloc[i][\"Telephone 1 \"],\n",
    "            \"telephone2\": df.iloc[i][\"Telephone 2\"],\n",
    "            \"type\": find_type(str(df.iloc[i][\"Services\"])),\n",
    "            \"latitude\": df.iloc[i][\"_Coordonnees_GPS_latitude\"],\n",
    "            \"longitude\": df.iloc[i][\"_Coordonnees_GPS_longitude\"],\n",
    "            \"heure_ouverture\": df.iloc[i][\"Heure d'ouverture\"][:5],\n",
    "            \"heure_fermeture\": df.iloc[i][\"Heure de fermeture\"][:5],\n",
    "            \"ville\": \"Yaounde\", # df.iloc[i][\"Ville\"],\n",
    "        }\n",
    "        reqaddga = requests.post(auth_api+'/garage/add',headers=headers, data=garage )\n",
    "        print(reqaddga.text)\n",
    "        done+=1\n",
    "    else:\n",
    "        out+=1\n",
    "    print(\" ==== done : \" + str(done)  + \"   ====  passed : \"+str(out))"
   ]
  },
  {
   "cell_type": "code",
   "execution_count": 19,
   "metadata": {},
   "outputs": [
    {
     "data": {
      "text/plain": [
       "370"
      ]
     },
     "execution_count": 19,
     "metadata": {},
     "output_type": "execute_result"
    }
   ],
   "source": [
    "df.shape[0]"
   ]
  },
  {
   "cell_type": "code",
   "execution_count": null,
   "metadata": {},
   "outputs": [],
   "source": []
  }
 ],
 "metadata": {
  "kernelspec": {
   "display_name": "Python 3 (ipykernel)",
   "language": "python",
   "name": "python3"
  },
  "language_info": {
   "codemirror_mode": {
    "name": "ipython",
    "version": 3
   },
   "file_extension": ".py",
   "mimetype": "text/x-python",
   "name": "python",
   "nbconvert_exporter": "python",
   "pygments_lexer": "ipython3",
   "version": "3.12.3"
  },
  "orig_nbformat": 4
 },
 "nbformat": 4,
 "nbformat_minor": 2
}
